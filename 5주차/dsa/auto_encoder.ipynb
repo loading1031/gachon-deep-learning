{
 "cells": [
  {
   "cell_type": "code",
   "execution_count": 216,
   "id": "initial_id",
   "metadata": {
    "collapsed": true,
    "ExecuteTime": {
     "end_time": "2024-10-05T06:32:26.017164Z",
     "start_time": "2024-10-05T06:32:26.009372Z"
    }
   },
   "outputs": [],
   "source": [
    "import pandas as pd\n",
    "import numpy as np\n",
    "import matplotlib.pyplot as plt\n",
    "from sklearn.model_selection import train_test_split\n",
    "from tensorflow.keras.models import Model\n",
    "from tensorflow.keras.layers import Input, Dense\n",
    "from tensorflow.keras.optimizers import Adam"
   ]
  },
  {
   "cell_type": "code",
   "outputs": [
    {
     "data": {
      "text/plain": "   T_xacc_mean  T_xacc_max  T_xacc_min  T_xacc_var  T_xacc_std  T_xacc_skew  \\\n0     7.975714      8.1605      7.6823    0.014395    0.119981    -0.023319   \n1     7.978250      8.1763      7.8472    0.007551    0.086896     0.552416   \n2     7.970894      8.0860      7.8470    0.003092    0.055603     0.100538   \n3     7.938412      8.1083      7.6901    0.003763    0.061343    -0.231914   \n4     7.908930      8.1305      7.8322    0.001741    0.041731     2.042285   \n\n   T_yacc_mean  T_yacc_max  T_yacc_min  T_yacc_var  ...  LL_ymag_std  \\\n0     1.083150      1.1832     0.99744    0.002208  ...     0.000792   \n1     1.140865      1.2129     1.05810    0.000784  ...     0.000860   \n2     1.140962      1.2128     1.07960    0.000508  ...     0.000762   \n3     1.165260      1.3170     1.07870    0.002173  ...     0.000735   \n4     1.187504      1.2574     1.09450    0.000662  ...     0.000824   \n\n   LL_ymag_skew  LL_zmag_mean  LL_zmag_max  LL_zmag_min   LL_zmag_var  \\\n0      0.177075     -0.057119    -0.054963    -0.059241  6.778722e-07   \n1     -0.286918     -0.057268    -0.054945    -0.059589  7.032302e-07   \n2     -0.134430     -0.057068    -0.054711    -0.059065  6.268222e-07   \n3      0.021485     -0.056422    -0.053670    -0.058310  8.011245e-07   \n4     -0.148229     -0.055801    -0.053313    -0.057815  6.853423e-07   \n\n   LL_zmag_std  LL_zmag_skew  activity  people  \n0     0.000823      0.036729   sitting      p1  \n1     0.000839      0.347471   sitting      p1  \n2     0.000792      0.045579   sitting      p1  \n3     0.000895      0.240690   sitting      p1  \n4     0.000828      0.258429   sitting      p1  \n\n[5 rows x 272 columns]",
      "text/html": "<div>\n<style scoped>\n    .dataframe tbody tr th:only-of-type {\n        vertical-align: middle;\n    }\n\n    .dataframe tbody tr th {\n        vertical-align: top;\n    }\n\n    .dataframe thead th {\n        text-align: right;\n    }\n</style>\n<table border=\"1\" class=\"dataframe\">\n  <thead>\n    <tr style=\"text-align: right;\">\n      <th></th>\n      <th>T_xacc_mean</th>\n      <th>T_xacc_max</th>\n      <th>T_xacc_min</th>\n      <th>T_xacc_var</th>\n      <th>T_xacc_std</th>\n      <th>T_xacc_skew</th>\n      <th>T_yacc_mean</th>\n      <th>T_yacc_max</th>\n      <th>T_yacc_min</th>\n      <th>T_yacc_var</th>\n      <th>...</th>\n      <th>LL_ymag_std</th>\n      <th>LL_ymag_skew</th>\n      <th>LL_zmag_mean</th>\n      <th>LL_zmag_max</th>\n      <th>LL_zmag_min</th>\n      <th>LL_zmag_var</th>\n      <th>LL_zmag_std</th>\n      <th>LL_zmag_skew</th>\n      <th>activity</th>\n      <th>people</th>\n    </tr>\n  </thead>\n  <tbody>\n    <tr>\n      <th>0</th>\n      <td>7.975714</td>\n      <td>8.1605</td>\n      <td>7.6823</td>\n      <td>0.014395</td>\n      <td>0.119981</td>\n      <td>-0.023319</td>\n      <td>1.083150</td>\n      <td>1.1832</td>\n      <td>0.99744</td>\n      <td>0.002208</td>\n      <td>...</td>\n      <td>0.000792</td>\n      <td>0.177075</td>\n      <td>-0.057119</td>\n      <td>-0.054963</td>\n      <td>-0.059241</td>\n      <td>6.778722e-07</td>\n      <td>0.000823</td>\n      <td>0.036729</td>\n      <td>sitting</td>\n      <td>p1</td>\n    </tr>\n    <tr>\n      <th>1</th>\n      <td>7.978250</td>\n      <td>8.1763</td>\n      <td>7.8472</td>\n      <td>0.007551</td>\n      <td>0.086896</td>\n      <td>0.552416</td>\n      <td>1.140865</td>\n      <td>1.2129</td>\n      <td>1.05810</td>\n      <td>0.000784</td>\n      <td>...</td>\n      <td>0.000860</td>\n      <td>-0.286918</td>\n      <td>-0.057268</td>\n      <td>-0.054945</td>\n      <td>-0.059589</td>\n      <td>7.032302e-07</td>\n      <td>0.000839</td>\n      <td>0.347471</td>\n      <td>sitting</td>\n      <td>p1</td>\n    </tr>\n    <tr>\n      <th>2</th>\n      <td>7.970894</td>\n      <td>8.0860</td>\n      <td>7.8470</td>\n      <td>0.003092</td>\n      <td>0.055603</td>\n      <td>0.100538</td>\n      <td>1.140962</td>\n      <td>1.2128</td>\n      <td>1.07960</td>\n      <td>0.000508</td>\n      <td>...</td>\n      <td>0.000762</td>\n      <td>-0.134430</td>\n      <td>-0.057068</td>\n      <td>-0.054711</td>\n      <td>-0.059065</td>\n      <td>6.268222e-07</td>\n      <td>0.000792</td>\n      <td>0.045579</td>\n      <td>sitting</td>\n      <td>p1</td>\n    </tr>\n    <tr>\n      <th>3</th>\n      <td>7.938412</td>\n      <td>8.1083</td>\n      <td>7.6901</td>\n      <td>0.003763</td>\n      <td>0.061343</td>\n      <td>-0.231914</td>\n      <td>1.165260</td>\n      <td>1.3170</td>\n      <td>1.07870</td>\n      <td>0.002173</td>\n      <td>...</td>\n      <td>0.000735</td>\n      <td>0.021485</td>\n      <td>-0.056422</td>\n      <td>-0.053670</td>\n      <td>-0.058310</td>\n      <td>8.011245e-07</td>\n      <td>0.000895</td>\n      <td>0.240690</td>\n      <td>sitting</td>\n      <td>p1</td>\n    </tr>\n    <tr>\n      <th>4</th>\n      <td>7.908930</td>\n      <td>8.1305</td>\n      <td>7.8322</td>\n      <td>0.001741</td>\n      <td>0.041731</td>\n      <td>2.042285</td>\n      <td>1.187504</td>\n      <td>1.2574</td>\n      <td>1.09450</td>\n      <td>0.000662</td>\n      <td>...</td>\n      <td>0.000824</td>\n      <td>-0.148229</td>\n      <td>-0.055801</td>\n      <td>-0.053313</td>\n      <td>-0.057815</td>\n      <td>6.853423e-07</td>\n      <td>0.000828</td>\n      <td>0.258429</td>\n      <td>sitting</td>\n      <td>p1</td>\n    </tr>\n  </tbody>\n</table>\n<p>5 rows × 272 columns</p>\n</div>"
     },
     "execution_count": 217,
     "metadata": {},
     "output_type": "execute_result"
    }
   ],
   "source": [
    "# 1. 데이터 로드 및 전처리\n",
    "# 신용카드 데이터셋을 불러옵니다. \n",
    "\n",
    "df = pd.read_csv('./DSA_features.csv')\n",
    "df.head()"
   ],
   "metadata": {
    "collapsed": false,
    "ExecuteTime": {
     "end_time": "2024-10-05T06:32:26.723368Z",
     "start_time": "2024-10-05T06:32:26.333245Z"
    }
   },
   "id": "76846a3e9872d43b",
   "execution_count": 217
  },
  {
   "cell_type": "code",
   "outputs": [
    {
     "data": {
      "text/plain": "T_xacc_mean     float64\nT_xacc_max      float64\nT_xacc_min      float64\nT_xacc_var      float64\nT_xacc_std      float64\n                 ...   \nLL_zmag_var     float64\nLL_zmag_std     float64\nLL_zmag_skew    float64\nactivity         object\npeople           object\nLength: 272, dtype: object"
     },
     "execution_count": 218,
     "metadata": {},
     "output_type": "execute_result"
    }
   ],
   "source": [
    "df.dtypes"
   ],
   "metadata": {
    "collapsed": false,
    "ExecuteTime": {
     "end_time": "2024-10-05T06:32:26.732095Z",
     "start_time": "2024-10-05T06:32:26.725312Z"
    }
   },
   "id": "e660b021680c1117",
   "execution_count": 218
  },
  {
   "cell_type": "code",
   "outputs": [
    {
     "data": {
      "text/plain": "people\np1    1140\np2    1140\np3    1140\np4    1140\np5    1140\np6    1140\np7    1140\np8    1140\nName: count, dtype: int64"
     },
     "execution_count": 219,
     "metadata": {},
     "output_type": "execute_result"
    }
   ],
   "source": [
    "df['people'].value_counts()"
   ],
   "metadata": {
    "collapsed": false,
    "ExecuteTime": {
     "end_time": "2024-10-05T06:32:27.412052Z",
     "start_time": "2024-10-05T06:32:27.405549Z"
    }
   },
   "id": "c122e729e2b4afc6",
   "execution_count": 219
  },
  {
   "cell_type": "code",
   "outputs": [
    {
     "data": {
      "text/plain": "T_xacc_mean    float64\nT_xacc_max     float64\nT_xacc_min     float64\nT_xacc_var     float64\nT_xacc_std     float64\n                ...   \npeople_p4         bool\npeople_p5         bool\npeople_p6         bool\npeople_p7         bool\npeople_p8         bool\nLength: 278, dtype: object"
     },
     "execution_count": 220,
     "metadata": {},
     "output_type": "execute_result"
    }
   ],
   "source": [
    "data = pd.get_dummies(df, columns=['people'], drop_first=True)\n",
    "data.dtypes"
   ],
   "metadata": {
    "collapsed": false,
    "ExecuteTime": {
     "end_time": "2024-10-05T06:32:29.168236Z",
     "start_time": "2024-10-05T06:32:29.124637Z"
    }
   },
   "id": "b035337e0542169f",
   "execution_count": 220
  },
  {
   "cell_type": "code",
   "outputs": [],
   "source": [
    "## 원핫 인코딩한 부분은 activity까지 변경후 한번에 데이터 타입 통일"
   ],
   "metadata": {
    "collapsed": false,
    "ExecuteTime": {
     "end_time": "2024-10-05T06:32:31.637705Z",
     "start_time": "2024-10-05T06:32:31.635214Z"
    }
   },
   "id": "d45801b5a84a95c",
   "execution_count": 221
  },
  {
   "cell_type": "code",
   "outputs": [
    {
     "data": {
      "text/plain": "activity\nsitting                    480\nwalkingTreadmillIncline    480\njumping                    480\nrowing                     480\ncyclingVertical            480\ncyclingHorizontal          480\ncrossTrainer               480\nstepper                    480\nrunningTreadmill           480\nwalkingTreadmillFlat       480\nstanding                   480\nwalkingLot                 480\nmovingInElevator           480\nstandingInElevatorStill    480\ndecendingStairs            480\nascendingStairs            480\nlyingRigh                  480\nlyingBack                  480\nbasketBall                 480\nName: count, dtype: int64"
     },
     "execution_count": 222,
     "metadata": {},
     "output_type": "execute_result"
    }
   ],
   "source": [
    "data['activity'].value_counts()"
   ],
   "metadata": {
    "collapsed": false,
    "ExecuteTime": {
     "end_time": "2024-10-05T06:32:32.542009Z",
     "start_time": "2024-10-05T06:32:32.535902Z"
    }
   },
   "id": "ec0c3463c62b92e3",
   "execution_count": 222
  },
  {
   "cell_type": "code",
   "outputs": [
    {
     "data": {
      "text/plain": "   T_xacc_mean  T_xacc_max  T_xacc_min  T_xacc_var  T_xacc_std  T_xacc_skew  \\\n0     7.975714      8.1605      7.6823    0.014395    0.119981    -0.023319   \n1     7.978250      8.1763      7.8472    0.007551    0.086896     0.552416   \n2     7.970894      8.0860      7.8470    0.003092    0.055603     0.100538   \n3     7.938412      8.1083      7.6901    0.003763    0.061343    -0.231914   \n4     7.908930      8.1305      7.8322    0.001741    0.041731     2.042285   \n\n   T_yacc_mean  T_yacc_max  T_yacc_min  T_yacc_var  ...  LL_zmag_std  \\\n0     1.083150      1.1832     0.99744    0.002208  ...     0.000823   \n1     1.140865      1.2129     1.05810    0.000784  ...     0.000839   \n2     1.140962      1.2128     1.07960    0.000508  ...     0.000792   \n3     1.165260      1.3170     1.07870    0.002173  ...     0.000895   \n4     1.187504      1.2574     1.09450    0.000662  ...     0.000828   \n\n   LL_zmag_skew  people_p2  people_p3  people_p4  people_p5  people_p6  \\\n0      0.036729      False      False      False      False      False   \n1      0.347471      False      False      False      False      False   \n2      0.045579      False      False      False      False      False   \n3      0.240690      False      False      False      False      False   \n4      0.258429      False      False      False      False      False   \n\n   people_p7  people_p8  activity_group  \n0      False      False             NaN  \n1      False      False             NaN  \n2      False      False             NaN  \n3      False      False             NaN  \n4      False      False             NaN  \n\n[5 rows x 278 columns]",
      "text/html": "<div>\n<style scoped>\n    .dataframe tbody tr th:only-of-type {\n        vertical-align: middle;\n    }\n\n    .dataframe tbody tr th {\n        vertical-align: top;\n    }\n\n    .dataframe thead th {\n        text-align: right;\n    }\n</style>\n<table border=\"1\" class=\"dataframe\">\n  <thead>\n    <tr style=\"text-align: right;\">\n      <th></th>\n      <th>T_xacc_mean</th>\n      <th>T_xacc_max</th>\n      <th>T_xacc_min</th>\n      <th>T_xacc_var</th>\n      <th>T_xacc_std</th>\n      <th>T_xacc_skew</th>\n      <th>T_yacc_mean</th>\n      <th>T_yacc_max</th>\n      <th>T_yacc_min</th>\n      <th>T_yacc_var</th>\n      <th>...</th>\n      <th>LL_zmag_std</th>\n      <th>LL_zmag_skew</th>\n      <th>people_p2</th>\n      <th>people_p3</th>\n      <th>people_p4</th>\n      <th>people_p5</th>\n      <th>people_p6</th>\n      <th>people_p7</th>\n      <th>people_p8</th>\n      <th>activity_group</th>\n    </tr>\n  </thead>\n  <tbody>\n    <tr>\n      <th>0</th>\n      <td>7.975714</td>\n      <td>8.1605</td>\n      <td>7.6823</td>\n      <td>0.014395</td>\n      <td>0.119981</td>\n      <td>-0.023319</td>\n      <td>1.083150</td>\n      <td>1.1832</td>\n      <td>0.99744</td>\n      <td>0.002208</td>\n      <td>...</td>\n      <td>0.000823</td>\n      <td>0.036729</td>\n      <td>False</td>\n      <td>False</td>\n      <td>False</td>\n      <td>False</td>\n      <td>False</td>\n      <td>False</td>\n      <td>False</td>\n      <td>NaN</td>\n    </tr>\n    <tr>\n      <th>1</th>\n      <td>7.978250</td>\n      <td>8.1763</td>\n      <td>7.8472</td>\n      <td>0.007551</td>\n      <td>0.086896</td>\n      <td>0.552416</td>\n      <td>1.140865</td>\n      <td>1.2129</td>\n      <td>1.05810</td>\n      <td>0.000784</td>\n      <td>...</td>\n      <td>0.000839</td>\n      <td>0.347471</td>\n      <td>False</td>\n      <td>False</td>\n      <td>False</td>\n      <td>False</td>\n      <td>False</td>\n      <td>False</td>\n      <td>False</td>\n      <td>NaN</td>\n    </tr>\n    <tr>\n      <th>2</th>\n      <td>7.970894</td>\n      <td>8.0860</td>\n      <td>7.8470</td>\n      <td>0.003092</td>\n      <td>0.055603</td>\n      <td>0.100538</td>\n      <td>1.140962</td>\n      <td>1.2128</td>\n      <td>1.07960</td>\n      <td>0.000508</td>\n      <td>...</td>\n      <td>0.000792</td>\n      <td>0.045579</td>\n      <td>False</td>\n      <td>False</td>\n      <td>False</td>\n      <td>False</td>\n      <td>False</td>\n      <td>False</td>\n      <td>False</td>\n      <td>NaN</td>\n    </tr>\n    <tr>\n      <th>3</th>\n      <td>7.938412</td>\n      <td>8.1083</td>\n      <td>7.6901</td>\n      <td>0.003763</td>\n      <td>0.061343</td>\n      <td>-0.231914</td>\n      <td>1.165260</td>\n      <td>1.3170</td>\n      <td>1.07870</td>\n      <td>0.002173</td>\n      <td>...</td>\n      <td>0.000895</td>\n      <td>0.240690</td>\n      <td>False</td>\n      <td>False</td>\n      <td>False</td>\n      <td>False</td>\n      <td>False</td>\n      <td>False</td>\n      <td>False</td>\n      <td>NaN</td>\n    </tr>\n    <tr>\n      <th>4</th>\n      <td>7.908930</td>\n      <td>8.1305</td>\n      <td>7.8322</td>\n      <td>0.001741</td>\n      <td>0.041731</td>\n      <td>2.042285</td>\n      <td>1.187504</td>\n      <td>1.2574</td>\n      <td>1.09450</td>\n      <td>0.000662</td>\n      <td>...</td>\n      <td>0.000828</td>\n      <td>0.258429</td>\n      <td>False</td>\n      <td>False</td>\n      <td>False</td>\n      <td>False</td>\n      <td>False</td>\n      <td>False</td>\n      <td>False</td>\n      <td>NaN</td>\n    </tr>\n  </tbody>\n</table>\n<p>5 rows × 278 columns</p>\n</div>"
     },
     "execution_count": 223,
     "metadata": {},
     "output_type": "execute_result"
    }
   ],
   "source": [
    "LABELS = [\"Normal\", \"Fraud\"]\n",
    "\n",
    "activity_mapping = {\n",
    "    \"lyingRigh\": 0,\n",
    "    \"lyingBack\": 0,\n",
    "    \"jumping\": 1,\n",
    "}\n",
    "# activity 열을 해당 그룹으로 변환\n",
    "data['activity_group'] = data['activity'].map(activity_mapping)\n",
    "data = data.drop(['activity'], axis=1)\n",
    "data.head()"
   ],
   "metadata": {
    "collapsed": false,
    "ExecuteTime": {
     "end_time": "2024-10-05T06:32:33.746404Z",
     "start_time": "2024-10-05T06:32:33.659280Z"
    }
   },
   "id": "971e3b95f313a19d",
   "execution_count": 223
  },
  {
   "cell_type": "code",
   "outputs": [
    {
     "data": {
      "text/plain": "True"
     },
     "execution_count": 224,
     "metadata": {},
     "output_type": "execute_result"
    }
   ],
   "source": [
    "# 결측치 홗인\n",
    "data['activity_group'].isnull().values.any()"
   ],
   "metadata": {
    "collapsed": false,
    "ExecuteTime": {
     "end_time": "2024-10-05T06:32:39.826517Z",
     "start_time": "2024-10-05T06:32:39.812031Z"
    }
   },
   "id": "a1350b6ae5e8fd31",
   "execution_count": 224
  },
  {
   "cell_type": "code",
   "outputs": [],
   "source": [
    "data=data.dropna()"
   ],
   "metadata": {
    "collapsed": false,
    "ExecuteTime": {
     "end_time": "2024-10-05T06:32:40.310047Z",
     "start_time": "2024-10-05T06:32:40.292874Z"
    }
   },
   "id": "6592b7187676e72b",
   "execution_count": 225
  },
  {
   "cell_type": "code",
   "outputs": [
    {
     "data": {
      "text/plain": "False"
     },
     "execution_count": 226,
     "metadata": {},
     "output_type": "execute_result"
    }
   ],
   "source": [
    "# 결측치 홗인\n",
    "data['activity_group'].isnull().values.any()"
   ],
   "metadata": {
    "collapsed": false,
    "ExecuteTime": {
     "end_time": "2024-10-05T06:32:41.054602Z",
     "start_time": "2024-10-05T06:32:41.048381Z"
    }
   },
   "id": "6c27dfb7cdf84f33",
   "execution_count": 226
  },
  {
   "cell_type": "code",
   "outputs": [
    {
     "data": {
      "text/plain": "T_xacc_mean       float32\nT_xacc_max        float32\nT_xacc_min        float32\nT_xacc_var        float32\nT_xacc_std        float32\n                   ...   \npeople_p5         float32\npeople_p6         float32\npeople_p7         float32\npeople_p8         float32\nactivity_group    float32\nLength: 278, dtype: object"
     },
     "execution_count": 227,
     "metadata": {},
     "output_type": "execute_result"
    }
   ],
   "source": [
    "## 데이터타입 float 통일\n",
    "data =data.astype('float32')\n",
    "data.dtypes"
   ],
   "metadata": {
    "collapsed": false,
    "ExecuteTime": {
     "end_time": "2024-10-05T06:32:41.906631Z",
     "start_time": "2024-10-05T06:32:41.892073Z"
    }
   },
   "id": "e02c33aaab67020e",
   "execution_count": 227
  },
  {
   "cell_type": "code",
   "outputs": [
    {
     "data": {
      "text/plain": "<Figure size 640x480 with 1 Axes>",
      "image/png": "[encoded data removed]"
     },
     "metadata": {},
     "output_type": "display_data"
    }
   ],
   "source": [
    "count_classes = data['activity_group'].value_counts(sort=True)\n",
    "count_classes.plot(kind='bar', rot=0)\n",
    "plt.title(\"Activity class distribution\")\n",
    "plt.xticks(range(2), LABELS)  # LABELS의 키값으로 레이블 설정\n",
    "plt.xlabel(\"Activity Group\")\n",
    "plt.ylabel(\"Frequency\")\n",
    "plt.show()"
   ],
   "metadata": {
    "collapsed": false,
    "ExecuteTime": {
     "end_time": "2024-10-05T06:32:48.125968Z",
     "start_time": "2024-10-05T06:32:47.937651Z"
    }
   },
   "id": "995fa320faf37102",
   "execution_count": 228
  },
  {
   "cell_type": "code",
   "outputs": [
    {
     "data": {
      "text/plain": "(480, 278)"
     },
     "execution_count": 229,
     "metadata": {},
     "output_type": "execute_result"
    }
   ],
   "source": [
    "frauds = data[data.activity_group == 1]\n",
    "normal = data[data.activity_group == 0]\n",
    "frauds.shape"
   ],
   "metadata": {
    "collapsed": false,
    "ExecuteTime": {
     "end_time": "2024-10-05T06:32:50.646936Z",
     "start_time": "2024-10-05T06:32:50.614451Z"
    }
   },
   "id": "e2cda75125690f18",
   "execution_count": 229
  },
  {
   "cell_type": "code",
   "outputs": [
    {
     "data": {
      "text/plain": "(960, 278)"
     },
     "execution_count": 230,
     "metadata": {},
     "output_type": "execute_result"
    }
   ],
   "source": [
    "normal.shape"
   ],
   "metadata": {
    "collapsed": false,
    "ExecuteTime": {
     "end_time": "2024-10-05T06:32:52.102094Z",
     "start_time": "2024-10-05T06:32:52.095819Z"
    }
   },
   "id": "be2f67bd2e892bc3",
   "execution_count": 230
  },
  {
   "cell_type": "markdown",
   "source": [
    "### 모델을 오직 정상 거래기록으로만 훈련\n",
    "### 정상 거래기록을 테스트셋에 넣으면 모델의 성능을 평가"
   ],
   "metadata": {
    "collapsed": false
   },
   "id": "2786c1ac558edcee"
  },
  {
   "cell_type": "code",
   "outputs": [],
   "source": [
    "RANDOM_SEED = 42"
   ],
   "metadata": {
    "collapsed": false,
    "ExecuteTime": {
     "end_time": "2024-10-05T06:32:53.567554Z",
     "start_time": "2024-10-05T06:32:53.548289Z"
    }
   },
   "id": "ca1bd1a17e72877e",
   "execution_count": 231
  },
  {
   "cell_type": "code",
   "outputs": [
    {
     "name": "stdout",
     "output_type": "stream",
     "text": [
      "T_xacc_mean    float32\n",
      "T_xacc_max     float32\n",
      "T_xacc_min     float32\n",
      "T_xacc_var     float32\n",
      "T_xacc_std     float32\n",
      "                ...   \n",
      "people_p4      float32\n",
      "people_p5      float32\n",
      "people_p6      float32\n",
      "people_p7      float32\n",
      "people_p8      float32\n",
      "Length: 277, dtype: object\n",
      "(765, 277)\n",
      "(288, 277)\n"
     ]
    }
   ],
   "source": [
    "X_train, X_test = train_test_split(data, test_size=0.2, random_state=RANDOM_SEED)\n",
    "X_train = X_train[X_train.activity_group == 0]\n",
    "X_train = X_train.drop(['activity_group'], axis=1)\n",
    "\n",
    "y_test = X_test['activity_group']\n",
    "X_test = X_test.drop(['activity_group'], axis=1)\n",
    "\n",
    "print(X_train.dtypes)\n",
    "\n",
    "X_train = X_train.values\n",
    "X_test = X_test.values\n",
    "# 테스트 레이블을 남겨두는 이유는 나중에 정확도를 비교하기 위해서임\n",
    "print(X_train.shape)\n",
    "print(X_test.shape)"
   ],
   "metadata": {
    "collapsed": false,
    "ExecuteTime": {
     "end_time": "2024-10-05T06:32:55.720197Z",
     "start_time": "2024-10-05T06:32:55.684651Z"
    }
   },
   "id": "34be623ef7e3c100",
   "execution_count": 232
  },
  {
   "cell_type": "code",
   "outputs": [
    {
     "name": "stderr",
     "output_type": "stream",
     "text": [
      "WARNING:absl:At this time, the v2.11+ optimizer `tf.keras.optimizers.Adam` runs slowly on M1/M2 Macs, please use the legacy Keras optimizer instead, located at `tf.keras.optimizers.legacy.Adam`.\n",
      "WARNING:absl:There is a known slowdown when using v2.11+ Keras optimizers on M1/M2 Macs. Falling back to the legacy Keras optimizer, i.e., `tf.keras.optimizers.legacy.Adam`.\n"
     ]
    }
   ],
   "source": [
    "# 오토인코더 모델\n",
    "\n",
    "input_dim = X_train.shape[1]\n",
    "encoding_dim = 14  # 인코딩 차원을 설정 (임의로 설정한 값, 조정 가능)\n",
    "\n",
    "input_layer = Input(shape=(input_dim,))\n",
    "encoded = Dense(encoding_dim, activation='relu')(input_layer)\n",
    "encoded = Dense(int(encoding_dim / 2), activation='relu')(encoded)\n",
    "decoded = Dense(int(encoding_dim / 2), activation='relu')(encoded)\n",
    "decoded = Dense(input_dim, activation='sigmoid')(decoded)\n",
    "\n",
    "autoencoder = Model(inputs=input_layer, outputs=decoded)\n",
    "autoencoder.compile(optimizer=Adam(learning_rate=0.001), loss='mse')"
   ],
   "metadata": {
    "collapsed": false,
    "ExecuteTime": {
     "end_time": "2024-10-05T06:32:56.846742Z",
     "start_time": "2024-10-05T06:32:56.768577Z"
    }
   },
   "id": "2365eb332ca65780",
   "execution_count": 233
  },
  {
   "cell_type": "code",
   "outputs": [
    {
     "name": "stdout",
     "output_type": "stream",
     "text": [
      "Epoch 1/50\n",
      "3/3 [==============================] - 0s 46ms/step - loss: 5.6115 - val_loss: 5.5539\n",
      "Epoch 2/50\n",
      "3/3 [==============================] - 0s 12ms/step - loss: 5.5984 - val_loss: 5.5400\n",
      "Epoch 3/50\n",
      "3/3 [==============================] - 0s 12ms/step - loss: 5.5838 - val_loss: 5.5227\n",
      "Epoch 4/50\n",
      "3/3 [==============================] - 0s 14ms/step - loss: 5.5653 - val_loss: 5.5011\n",
      "Epoch 5/50\n",
      "3/3 [==============================] - 0s 13ms/step - loss: 5.5423 - val_loss: 5.4754\n",
      "Epoch 6/50\n",
      "3/3 [==============================] - 0s 13ms/step - loss: 5.5156 - val_loss: 5.4463\n",
      "Epoch 7/50\n",
      "3/3 [==============================] - 0s 14ms/step - loss: 5.4854 - val_loss: 5.4141\n",
      "Epoch 8/50\n",
      "3/3 [==============================] - 0s 14ms/step - loss: 5.4519 - val_loss: 5.3791\n",
      "Epoch 9/50\n",
      "3/3 [==============================] - 0s 18ms/step - loss: 5.4156 - val_loss: 5.3417\n",
      "Epoch 10/50\n",
      "3/3 [==============================] - 0s 19ms/step - loss: 5.3771 - val_loss: 5.3026\n",
      "Epoch 11/50\n",
      "3/3 [==============================] - 0s 19ms/step - loss: 5.3374 - val_loss: 5.2627\n",
      "Epoch 12/50\n",
      "3/3 [==============================] - 0s 18ms/step - loss: 5.2970 - val_loss: 5.2224\n",
      "Epoch 13/50\n",
      "3/3 [==============================] - 0s 17ms/step - loss: 5.2564 - val_loss: 5.1824\n",
      "Epoch 14/50\n",
      "3/3 [==============================] - 0s 15ms/step - loss: 5.2161 - val_loss: 5.1429\n",
      "Epoch 15/50\n",
      "3/3 [==============================] - 0s 18ms/step - loss: 5.1766 - val_loss: 5.1041\n",
      "Epoch 16/50\n",
      "3/3 [==============================] - 0s 16ms/step - loss: 5.1380 - val_loss: 5.0663\n",
      "Epoch 17/50\n",
      "3/3 [==============================] - 0s 15ms/step - loss: 5.1008 - val_loss: 5.0302\n",
      "Epoch 18/50\n",
      "3/3 [==============================] - 0s 15ms/step - loss: 5.0656 - val_loss: 4.9963\n",
      "Epoch 19/50\n",
      "3/3 [==============================] - 0s 14ms/step - loss: 5.0326 - val_loss: 4.9649\n",
      "Epoch 20/50\n",
      "3/3 [==============================] - 0s 17ms/step - loss: 5.0024 - val_loss: 4.9365\n",
      "Epoch 21/50\n",
      "3/3 [==============================] - 0s 19ms/step - loss: 4.9754 - val_loss: 4.9113\n",
      "Epoch 22/50\n",
      "3/3 [==============================] - 0s 19ms/step - loss: 4.9518 - val_loss: 4.8894\n",
      "Epoch 23/50\n",
      "3/3 [==============================] - 0s 15ms/step - loss: 4.9314 - val_loss: 4.8708\n",
      "Epoch 24/50\n",
      "3/3 [==============================] - 0s 14ms/step - loss: 4.9139 - val_loss: 4.8549\n",
      "Epoch 25/50\n",
      "3/3 [==============================] - 0s 14ms/step - loss: 4.8994 - val_loss: 4.8415\n",
      "Epoch 26/50\n",
      "3/3 [==============================] - 0s 13ms/step - loss: 4.8872 - val_loss: 4.8301\n",
      "Epoch 27/50\n",
      "3/3 [==============================] - 0s 14ms/step - loss: 4.8767 - val_loss: 4.8204\n",
      "Epoch 28/50\n",
      "3/3 [==============================] - 0s 12ms/step - loss: 4.8678 - val_loss: 4.8123\n",
      "Epoch 29/50\n",
      "3/3 [==============================] - 0s 14ms/step - loss: 4.8602 - val_loss: 4.8055\n",
      "Epoch 30/50\n",
      "3/3 [==============================] - 0s 14ms/step - loss: 4.8538 - val_loss: 4.7996\n",
      "Epoch 31/50\n",
      "3/3 [==============================] - 0s 13ms/step - loss: 4.8484 - val_loss: 4.7943\n",
      "Epoch 32/50\n",
      "3/3 [==============================] - 0s 13ms/step - loss: 4.8434 - val_loss: 4.7896\n",
      "Epoch 33/50\n",
      "3/3 [==============================] - 0s 12ms/step - loss: 4.8391 - val_loss: 4.7859\n",
      "Epoch 34/50\n",
      "3/3 [==============================] - 0s 12ms/step - loss: 4.8357 - val_loss: 4.7831\n",
      "Epoch 35/50\n",
      "3/3 [==============================] - 0s 13ms/step - loss: 4.8330 - val_loss: 4.7811\n",
      "Epoch 36/50\n",
      "3/3 [==============================] - 0s 14ms/step - loss: 4.8308 - val_loss: 4.7797\n",
      "Epoch 37/50\n",
      "3/3 [==============================] - 0s 15ms/step - loss: 4.8292 - val_loss: 4.7784\n",
      "Epoch 38/50\n",
      "3/3 [==============================] - 0s 17ms/step - loss: 4.8277 - val_loss: 4.7773\n",
      "Epoch 39/50\n",
      "3/3 [==============================] - 0s 16ms/step - loss: 4.8263 - val_loss: 4.7764\n",
      "Epoch 40/50\n",
      "3/3 [==============================] - 0s 15ms/step - loss: 4.8250 - val_loss: 4.7755\n",
      "Epoch 41/50\n",
      "3/3 [==============================] - 0s 14ms/step - loss: 4.8237 - val_loss: 4.7747\n",
      "Epoch 42/50\n",
      "3/3 [==============================] - 0s 17ms/step - loss: 4.8224 - val_loss: 4.7740\n",
      "Epoch 43/50\n",
      "3/3 [==============================] - 0s 17ms/step - loss: 4.8212 - val_loss: 4.7736\n",
      "Epoch 44/50\n",
      "3/3 [==============================] - 0s 16ms/step - loss: 4.8202 - val_loss: 4.7732\n",
      "Epoch 45/50\n",
      "3/3 [==============================] - 0s 16ms/step - loss: 4.8194 - val_loss: 4.7727\n",
      "Epoch 46/50\n",
      "3/3 [==============================] - 0s 15ms/step - loss: 4.8187 - val_loss: 4.7720\n",
      "Epoch 47/50\n",
      "3/3 [==============================] - 0s 17ms/step - loss: 4.8179 - val_loss: 4.7713\n",
      "Epoch 48/50\n",
      "3/3 [==============================] - 0s 18ms/step - loss: 4.8171 - val_loss: 4.7705\n",
      "Epoch 49/50\n",
      "3/3 [==============================] - 0s 25ms/step - loss: 4.8164 - val_loss: 4.7697\n",
      "Epoch 50/50\n",
      "3/3 [==============================] - 0s 20ms/step - loss: 4.8156 - val_loss: 4.7691\n"
     ]
    }
   ],
   "source": [
    "# 3. 모델 학습\n",
    "# 훈련데이터의 0.1 을 validation data로 사용\n",
    "history = autoencoder.fit(X_train, X_train, \n",
    "                          epochs=50, \n",
    "                          batch_size=256, \n",
    "                          shuffle=True, \n",
    "                          validation_split = 0.1)"
   ],
   "metadata": {
    "collapsed": false,
    "ExecuteTime": {
     "end_time": "2024-10-05T06:33:00.687384Z",
     "start_time": "2024-10-05T06:32:58.460439Z"
    }
   },
   "id": "617a20649a8550c4",
   "execution_count": 234
  },
  {
   "cell_type": "code",
   "outputs": [
    {
     "data": {
      "text/plain": "<Figure size 640x480 with 1 Axes>",
      "image/png": "[encoded data removed]"
     },
     "metadata": {},
     "output_type": "display_data"
    }
   ],
   "source": [
    "plt.plot(history.history['loss'])\n",
    "plt.plot(history.history['val_loss'])\n",
    "plt.title('model loss')\n",
    "plt.ylabel('loss')\n",
    "plt.xlabel('epoch')\n",
    "plt.legend(['train', 'test'], loc='upper right');"
   ],
   "metadata": {
    "collapsed": false,
    "ExecuteTime": {
     "end_time": "2024-10-05T06:33:03.166066Z",
     "start_time": "2024-10-05T06:33:02.866491Z"
    }
   },
   "id": "a9de99789521a2ac",
   "execution_count": 235
  },
  {
   "cell_type": "code",
   "outputs": [
    {
     "name": "stdout",
     "output_type": "stream",
     "text": [
      "9/9 [==============================] - 0s 603us/step\n"
     ]
    },
    {
     "data": {
      "text/plain": "       reconstruction_error  true_class\ncount            288.000000  288.000000\nmean             163.221466    0.322917\nstd              317.307892    0.468405\nmin                4.404996    0.000000\n25%                4.609555    0.000000\n50%                4.928514    0.000000\n75%              122.973637    1.000000\nmax             1690.853760    1.000000",
      "text/html": "<div>\n<style scoped>\n    .dataframe tbody tr th:only-of-type {\n        vertical-align: middle;\n    }\n\n    .dataframe tbody tr th {\n        vertical-align: top;\n    }\n\n    .dataframe thead th {\n        text-align: right;\n    }\n</style>\n<table border=\"1\" class=\"dataframe\">\n  <thead>\n    <tr style=\"text-align: right;\">\n      <th></th>\n      <th>reconstruction_error</th>\n      <th>true_class</th>\n    </tr>\n  </thead>\n  <tbody>\n    <tr>\n      <th>count</th>\n      <td>288.000000</td>\n      <td>288.000000</td>\n    </tr>\n    <tr>\n      <th>mean</th>\n      <td>163.221466</td>\n      <td>0.322917</td>\n    </tr>\n    <tr>\n      <th>std</th>\n      <td>317.307892</td>\n      <td>0.468405</td>\n    </tr>\n    <tr>\n      <th>min</th>\n      <td>4.404996</td>\n      <td>0.000000</td>\n    </tr>\n    <tr>\n      <th>25%</th>\n      <td>4.609555</td>\n      <td>0.000000</td>\n    </tr>\n    <tr>\n      <th>50%</th>\n      <td>4.928514</td>\n      <td>0.000000</td>\n    </tr>\n    <tr>\n      <th>75%</th>\n      <td>122.973637</td>\n      <td>1.000000</td>\n    </tr>\n    <tr>\n      <th>max</th>\n      <td>1690.853760</td>\n      <td>1.000000</td>\n    </tr>\n  </tbody>\n</table>\n</div>"
     },
     "execution_count": 236,
     "metadata": {},
     "output_type": "execute_result"
    }
   ],
   "source": [
    "# X_test 값을 넣어서 Reconstruction Error 값을 얻고,\n",
    "# 실제 레이블인 y_test와 데이터프레임으로 구성\n",
    "# Reconstruction Error + 실제 레이블의 형태가 됨\n",
    "\n",
    "predictions = autoencoder.predict(X_test)\n",
    "mse = np.mean(np.power(X_test - predictions, 2), axis=1)\n",
    "error_df = pd.DataFrame({'reconstruction_error': mse,\n",
    "                        'true_class': y_test})\n",
    "error_df.describe()"
   ],
   "metadata": {
    "collapsed": false,
    "ExecuteTime": {
     "end_time": "2024-10-05T06:33:05.593659Z",
     "start_time": "2024-10-05T06:33:05.516653Z"
    }
   },
   "id": "6a434cb2d11e140f",
   "execution_count": 236
  },
  {
   "cell_type": "code",
   "outputs": [
    {
     "data": {
      "text/plain": "      reconstruction_error  true_class\n1128              5.000747         0.0\n1565              4.820728         0.0\n1508              5.023908         0.0\n1025              5.333157         0.0\n1588              4.821990         0.0",
      "text/html": "<div>\n<style scoped>\n    .dataframe tbody tr th:only-of-type {\n        vertical-align: middle;\n    }\n\n    .dataframe tbody tr th {\n        vertical-align: top;\n    }\n\n    .dataframe thead th {\n        text-align: right;\n    }\n</style>\n<table border=\"1\" class=\"dataframe\">\n  <thead>\n    <tr style=\"text-align: right;\">\n      <th></th>\n      <th>reconstruction_error</th>\n      <th>true_class</th>\n    </tr>\n  </thead>\n  <tbody>\n    <tr>\n      <th>1128</th>\n      <td>5.000747</td>\n      <td>0.0</td>\n    </tr>\n    <tr>\n      <th>1565</th>\n      <td>4.820728</td>\n      <td>0.0</td>\n    </tr>\n    <tr>\n      <th>1508</th>\n      <td>5.023908</td>\n      <td>0.0</td>\n    </tr>\n    <tr>\n      <th>1025</th>\n      <td>5.333157</td>\n      <td>0.0</td>\n    </tr>\n    <tr>\n      <th>1588</th>\n      <td>4.821990</td>\n      <td>0.0</td>\n    </tr>\n  </tbody>\n</table>\n</div>"
     },
     "execution_count": 237,
     "metadata": {},
     "output_type": "execute_result"
    }
   ],
   "source": [
    "error_df.head()"
   ],
   "metadata": {
    "collapsed": false,
    "ExecuteTime": {
     "end_time": "2024-10-05T06:33:06.930219Z",
     "start_time": "2024-10-05T06:33:06.923426Z"
    }
   },
   "id": "88b8a43063fa3e70",
   "execution_count": 237
  },
  {
   "cell_type": "code",
   "outputs": [],
   "source": [
    "# threshold 값을 조정하여 최선의 정확도를 얻음, 그래프로를 보고 결정\n",
    "\n",
    "threshold = 15"
   ],
   "metadata": {
    "collapsed": false,
    "ExecuteTime": {
     "end_time": "2024-10-05T06:33:08.355414Z",
     "start_time": "2024-10-05T06:33:08.351766Z"
    }
   },
   "id": "1a89d20ac6f4de3d",
   "execution_count": 238
  },
  {
   "cell_type": "code",
   "outputs": [
    {
     "data": {
      "text/plain": "<Figure size 640x480 with 1 Axes>",
      "image/png": "[encoded data removed]"
     },
     "metadata": {},
     "output_type": "display_data"
    }
   ],
   "source": [
    "groups = error_df.groupby('true_class')\n",
    "fig, ax = plt.subplots()\n",
    "\n",
    "for name, group in groups:\n",
    "    ax.plot(group.index, group.reconstruction_error, marker='o', ms=3.5, linestyle='',\n",
    "            label= \"Fraud\" if name == 1 else \"Normal\")\n",
    "ax.hlines(threshold, ax.get_xlim()[0], ax.get_xlim()[1], colors=\"r\", zorder=100, label='Threshold')\n",
    "ax.legend()\n",
    "plt.title(\"Reconstruction error for different classes\")\n",
    "plt.ylabel(\"Reconstruction error\")\n",
    "plt.xlabel(\"Data point index\")\n",
    "plt.show();"
   ],
   "metadata": {
    "collapsed": false,
    "ExecuteTime": {
     "end_time": "2024-10-05T06:33:09.730499Z",
     "start_time": "2024-10-05T06:33:09.280009Z"
    }
   },
   "id": "23f328127e860df9",
   "execution_count": 239
  },
  {
   "cell_type": "code",
   "outputs": [
    {
     "data": {
      "text/plain": "<Figure size 800x800 with 2 Axes>",
      "image/png": "[encoded data removed]"
     },
     "metadata": {},
     "output_type": "display_data"
    },
    {
     "name": "stdout",
     "output_type": "stream",
     "text": [
      "              precision    recall  f1-score   support\n",
      "\n",
      "         0.0       1.00      1.00      1.00       195\n",
      "         1.0       1.00      1.00      1.00        93\n",
      "\n",
      "    accuracy                           1.00       288\n",
      "   macro avg       1.00      1.00      1.00       288\n",
      "weighted avg       1.00      1.00      1.00       288\n"
     ]
    }
   ],
   "source": [
    "from sklearn.metrics import confusion_matrix, classification_report\n",
    "import seaborn as sns\n",
    "\n",
    "y_pred = [1 if e > threshold else 0 for e in error_df.reconstruction_error.values]\n",
    "conf_matrix = confusion_matrix(error_df.true_class, y_pred)\n",
    "plt.figure(figsize=(8, 8))\n",
    "sns.heatmap(conf_matrix, xticklabels=LABELS, yticklabels=LABELS, annot=True, fmt=\"d\");\n",
    "plt.title(\"Confusion matrix\")\n",
    "plt.ylabel('True class')\n",
    "plt.xlabel('Predicted class')\n",
    "plt.show()\n",
    "\n",
    "print(classification_report(error_df.true_class, y_pred))"
   ],
   "metadata": {
    "collapsed": false,
    "ExecuteTime": {
     "end_time": "2024-10-05T06:33:14.846958Z",
     "start_time": "2024-10-05T06:33:13.805585Z"
    }
   },
   "id": "b9d5f8fd256a797f",
   "execution_count": 240
  }
 ],
 "metadata": {
  "kernelspec": {
   "display_name": "Python 3",
   "language": "python",
   "name": "python3"
  },
  "language_info": {
   "codemirror_mode": {
    "name": "ipython",
    "version": 2
   },
   "file_extension": ".py",
   "mimetype": "text/x-python",
   "name": "python",
   "nbconvert_exporter": "python",
   "pygments_lexer": "ipython2",
   "version": "2.7.6"
  }
 },
 "nbformat": 4,
 "nbformat_minor": 5
}
