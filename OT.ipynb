{
 "cells": [
  {
   "cell_type": "markdown",
   "id": "06586a2a-57b9-49d9-be73-487e198dc1c9",
   "metadata": {},
   "source": [
    "# OT\n",
    "1. 1~2주차는 인지개 복습\n",
    "2. 깃허브 30%\n",
    "3. 발표(자율인듯)"
   ]
  },
  {
   "cell_type": "markdown",
   "id": "79bf7ba4",
   "metadata": {},
   "source": [
    "옵티마이저 : 옵티마이저는 비선형성을 제공한다. 단순히 선형결합인 딥러닝은 아무리 층을 쌓아도 층이 하나인 것과 다름이 없다.\n",
    "그래서, 옵티마이저로 비선형성을 제공한다."
   ]
  }
 ],
 "metadata": {
  "kernelspec": {
   "display_name": "Python 3 (ipykernel)",
   "language": "python",
   "name": "python3"
  },
  "language_info": {
   "codemirror_mode": {
    "name": "ipython",
    "version": 3
   },
   "file_extension": ".py",
   "mimetype": "text/x-python",
   "name": "python",
   "nbconvert_exporter": "python",
   "pygments_lexer": "ipython3",
   "version": "3.10.13"
  }
 },
 "nbformat": 4,
 "nbformat_minor": 5
}
