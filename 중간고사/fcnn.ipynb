{
 "cells": [
  {
   "cell_type": "code",
   "execution_count": 1,
   "id": "initial_id",
   "metadata": {
    "collapsed": true,
    "ExecuteTime": {
     "end_time": "2024-10-24T01:52:27.397001Z",
     "start_time": "2024-10-24T01:52:27.394779Z"
    }
   },
   "outputs": [],
   "source": [
    "import pandas as pd\n",
    "import numpy as np\n",
    "import matplotlib.pyplot as plt\n",
    "import seaborn as sns"
   ]
  },
  {
   "cell_type": "code",
   "outputs": [
    {
     "data": {
      "text/plain": "      mpg  cylinders  displacement  horsepower  weight  acceleration  \\\n0    18.0          8         307.0       130.0  3504.0          12.0   \n1    15.0          8         350.0       165.0  3693.0          11.5   \n2    18.0          8         318.0       150.0  3436.0          11.0   \n3    16.0          8         304.0       150.0  3433.0          12.0   \n4    17.0          8         302.0       140.0  3449.0          10.5   \n..    ...        ...           ...         ...     ...           ...   \n393  27.0          4         140.0        86.0  2790.0          15.6   \n394  44.0          4          97.0        52.0  2130.0          24.6   \n395  32.0          4         135.0        84.0  2295.0          11.6   \n396  28.0          4         120.0        79.0  2625.0          18.6   \n397  31.0          4         119.0        82.0  2720.0          19.4   \n\n     model year  origin                   car name  \n0            70       1  chevrolet chevelle malibu  \n1            70       1          buick skylark 320  \n2            70       1         plymouth satellite  \n3            70       1              amc rebel sst  \n4            70       1                ford torino  \n..          ...     ...                        ...  \n393          82       1            ford mustang gl  \n394          82       2                  vw pickup  \n395          82       1              dodge rampage  \n396          82       1                ford ranger  \n397          82       1                 chevy s-10  \n\n[398 rows x 9 columns]",
      "text/html": "<div>\n<style scoped>\n    .dataframe tbody tr th:only-of-type {\n        vertical-align: middle;\n    }\n\n    .dataframe tbody tr th {\n        vertical-align: top;\n    }\n\n    .dataframe thead th {\n        text-align: right;\n    }\n</style>\n<table border=\"1\" class=\"dataframe\">\n  <thead>\n    <tr style=\"text-align: right;\">\n      <th></th>\n      <th>mpg</th>\n      <th>cylinders</th>\n      <th>displacement</th>\n      <th>horsepower</th>\n      <th>weight</th>\n      <th>acceleration</th>\n      <th>model year</th>\n      <th>origin</th>\n      <th>car name</th>\n    </tr>\n  </thead>\n  <tbody>\n    <tr>\n      <th>0</th>\n      <td>18.0</td>\n      <td>8</td>\n      <td>307.0</td>\n      <td>130.0</td>\n      <td>3504.0</td>\n      <td>12.0</td>\n      <td>70</td>\n      <td>1</td>\n      <td>chevrolet chevelle malibu</td>\n    </tr>\n    <tr>\n      <th>1</th>\n      <td>15.0</td>\n      <td>8</td>\n      <td>350.0</td>\n      <td>165.0</td>\n      <td>3693.0</td>\n      <td>11.5</td>\n      <td>70</td>\n      <td>1</td>\n      <td>buick skylark 320</td>\n    </tr>\n    <tr>\n      <th>2</th>\n      <td>18.0</td>\n      <td>8</td>\n      <td>318.0</td>\n      <td>150.0</td>\n      <td>3436.0</td>\n      <td>11.0</td>\n      <td>70</td>\n      <td>1</td>\n      <td>plymouth satellite</td>\n    </tr>\n    <tr>\n      <th>3</th>\n      <td>16.0</td>\n      <td>8</td>\n      <td>304.0</td>\n      <td>150.0</td>\n      <td>3433.0</td>\n      <td>12.0</td>\n      <td>70</td>\n      <td>1</td>\n      <td>amc rebel sst</td>\n    </tr>\n    <tr>\n      <th>4</th>\n      <td>17.0</td>\n      <td>8</td>\n      <td>302.0</td>\n      <td>140.0</td>\n      <td>3449.0</td>\n      <td>10.5</td>\n      <td>70</td>\n      <td>1</td>\n      <td>ford torino</td>\n    </tr>\n    <tr>\n      <th>...</th>\n      <td>...</td>\n      <td>...</td>\n      <td>...</td>\n      <td>...</td>\n      <td>...</td>\n      <td>...</td>\n      <td>...</td>\n      <td>...</td>\n      <td>...</td>\n    </tr>\n    <tr>\n      <th>393</th>\n      <td>27.0</td>\n      <td>4</td>\n      <td>140.0</td>\n      <td>86.0</td>\n      <td>2790.0</td>\n      <td>15.6</td>\n      <td>82</td>\n      <td>1</td>\n      <td>ford mustang gl</td>\n    </tr>\n    <tr>\n      <th>394</th>\n      <td>44.0</td>\n      <td>4</td>\n      <td>97.0</td>\n      <td>52.0</td>\n      <td>2130.0</td>\n      <td>24.6</td>\n      <td>82</td>\n      <td>2</td>\n      <td>vw pickup</td>\n    </tr>\n    <tr>\n      <th>395</th>\n      <td>32.0</td>\n      <td>4</td>\n      <td>135.0</td>\n      <td>84.0</td>\n      <td>2295.0</td>\n      <td>11.6</td>\n      <td>82</td>\n      <td>1</td>\n      <td>dodge rampage</td>\n    </tr>\n    <tr>\n      <th>396</th>\n      <td>28.0</td>\n      <td>4</td>\n      <td>120.0</td>\n      <td>79.0</td>\n      <td>2625.0</td>\n      <td>18.6</td>\n      <td>82</td>\n      <td>1</td>\n      <td>ford ranger</td>\n    </tr>\n    <tr>\n      <th>397</th>\n      <td>31.0</td>\n      <td>4</td>\n      <td>119.0</td>\n      <td>82.0</td>\n      <td>2720.0</td>\n      <td>19.4</td>\n      <td>82</td>\n      <td>1</td>\n      <td>chevy s-10</td>\n    </tr>\n  </tbody>\n</table>\n<p>398 rows × 9 columns</p>\n</div>"
     },
     "execution_count": 2,
     "metadata": {},
     "output_type": "execute_result"
    }
   ],
   "source": [
    "\n",
    "url = \"http://archive.ics.uci.edu/ml/machine-learning-databases/auto-mpg/auto-mpg.data\"\n",
    "\n",
    "\n",
    "columns = ['mpg', 'cylinders', 'displacement', 'horsepower', 'weight', 'acceleration', 'model year', 'origin', 'car name']\n",
    "df = pd.read_csv(url, sep='\\s+', names=columns, na_values='?')\n",
    "df"
   ],
   "metadata": {
    "collapsed": false,
    "ExecuteTime": {
     "end_time": "2024-10-24T01:52:27.972533Z",
     "start_time": "2024-10-24T01:52:27.398033Z"
    }
   },
   "id": "b9b5b8588ef29e0b",
   "execution_count": 2
  },
  {
   "cell_type": "code",
   "outputs": [],
   "source": [
    "# 결측치 제거\n",
    "data=df.dropna()"
   ],
   "metadata": {
    "collapsed": false,
    "ExecuteTime": {
     "end_time": "2024-10-24T01:52:32.908369Z",
     "start_time": "2024-10-24T01:52:32.904776Z"
    }
   },
   "id": "6b1b728de3b6e6ad",
   "execution_count": 3
  },
  {
   "cell_type": "code",
   "outputs": [
    {
     "data": {
      "text/plain": "mpg             0\ncylinders       0\ndisplacement    0\nhorsepower      0\nweight          0\nacceleration    0\nmodel year      0\norigin          0\ncar name        0\ndtype: int64"
     },
     "execution_count": 4,
     "metadata": {},
     "output_type": "execute_result"
    }
   ],
   "source": [
    "data.isnull().sum()"
   ],
   "metadata": {
    "collapsed": false,
    "ExecuteTime": {
     "end_time": "2024-10-24T01:52:38.871770Z",
     "start_time": "2024-10-24T01:52:38.866355Z"
    }
   },
   "id": "746cdc8f421dbc2",
   "execution_count": 4
  },
  {
   "cell_type": "code",
   "outputs": [
    {
     "data": {
      "text/plain": "      mpg  cylinders  displacement  horsepower  weight  acceleration  \\\n0    18.0          8         307.0       130.0  3504.0          12.0   \n1    15.0          8         350.0       165.0  3693.0          11.5   \n2    18.0          8         318.0       150.0  3436.0          11.0   \n3    16.0          8         304.0       150.0  3433.0          12.0   \n4    17.0          8         302.0       140.0  3449.0          10.5   \n..    ...        ...           ...         ...     ...           ...   \n393  27.0          4         140.0        86.0  2790.0          15.6   \n394  44.0          4          97.0        52.0  2130.0          24.6   \n395  32.0          4         135.0        84.0  2295.0          11.6   \n396  28.0          4         120.0        79.0  2625.0          18.6   \n397  31.0          4         119.0        82.0  2720.0          19.4   \n\n     model year  origin  car name_amc ambassador brougham  \\\n0            70       1                             False   \n1            70       1                             False   \n2            70       1                             False   \n3            70       1                             False   \n4            70       1                             False   \n..          ...     ...                               ...   \n393          82       1                             False   \n394          82       2                             False   \n395          82       1                             False   \n396          82       1                             False   \n397          82       1                             False   \n\n     car name_amc ambassador dpl  ...  car name_volvo 145e (sw)  \\\n0                          False  ...                     False   \n1                          False  ...                     False   \n2                          False  ...                     False   \n3                          False  ...                     False   \n4                          False  ...                     False   \n..                           ...  ...                       ...   \n393                        False  ...                     False   \n394                        False  ...                     False   \n395                        False  ...                     False   \n396                        False  ...                     False   \n397                        False  ...                     False   \n\n     car name_volvo 244dl  car name_volvo 245  car name_volvo 264gl  \\\n0                   False               False                 False   \n1                   False               False                 False   \n2                   False               False                 False   \n3                   False               False                 False   \n4                   False               False                 False   \n..                    ...                 ...                   ...   \n393                 False               False                 False   \n394                 False               False                 False   \n395                 False               False                 False   \n396                 False               False                 False   \n397                 False               False                 False   \n\n     car name_volvo diesel  car name_vw dasher (diesel)  car name_vw pickup  \\\n0                    False                        False               False   \n1                    False                        False               False   \n2                    False                        False               False   \n3                    False                        False               False   \n4                    False                        False               False   \n..                     ...                          ...                 ...   \n393                  False                        False               False   \n394                  False                        False                True   \n395                  False                        False               False   \n396                  False                        False               False   \n397                  False                        False               False   \n\n     car name_vw rabbit  car name_vw rabbit c (diesel)  \\\n0                 False                          False   \n1                 False                          False   \n2                 False                          False   \n3                 False                          False   \n4                 False                          False   \n..                  ...                            ...   \n393               False                          False   \n394               False                          False   \n395               False                          False   \n396               False                          False   \n397               False                          False   \n\n     car name_vw rabbit custom  \n0                        False  \n1                        False  \n2                        False  \n3                        False  \n4                        False  \n..                         ...  \n393                      False  \n394                      False  \n395                      False  \n396                      False  \n397                      False  \n\n[392 rows x 309 columns]",
      "text/html": "<div>\n<style scoped>\n    .dataframe tbody tr th:only-of-type {\n        vertical-align: middle;\n    }\n\n    .dataframe tbody tr th {\n        vertical-align: top;\n    }\n\n    .dataframe thead th {\n        text-align: right;\n    }\n</style>\n<table border=\"1\" class=\"dataframe\">\n  <thead>\n    <tr style=\"text-align: right;\">\n      <th></th>\n      <th>mpg</th>\n      <th>cylinders</th>\n      <th>displacement</th>\n      <th>horsepower</th>\n      <th>weight</th>\n      <th>acceleration</th>\n      <th>model year</th>\n      <th>origin</th>\n      <th>car name_amc ambassador brougham</th>\n      <th>car name_amc ambassador dpl</th>\n      <th>...</th>\n      <th>car name_volvo 145e (sw)</th>\n      <th>car name_volvo 244dl</th>\n      <th>car name_volvo 245</th>\n      <th>car name_volvo 264gl</th>\n      <th>car name_volvo diesel</th>\n      <th>car name_vw dasher (diesel)</th>\n      <th>car name_vw pickup</th>\n      <th>car name_vw rabbit</th>\n      <th>car name_vw rabbit c (diesel)</th>\n      <th>car name_vw rabbit custom</th>\n    </tr>\n  </thead>\n  <tbody>\n    <tr>\n      <th>0</th>\n      <td>18.0</td>\n      <td>8</td>\n      <td>307.0</td>\n      <td>130.0</td>\n      <td>3504.0</td>\n      <td>12.0</td>\n      <td>70</td>\n      <td>1</td>\n      <td>False</td>\n      <td>False</td>\n      <td>...</td>\n      <td>False</td>\n      <td>False</td>\n      <td>False</td>\n      <td>False</td>\n      <td>False</td>\n      <td>False</td>\n      <td>False</td>\n      <td>False</td>\n      <td>False</td>\n      <td>False</td>\n    </tr>\n    <tr>\n      <th>1</th>\n      <td>15.0</td>\n      <td>8</td>\n      <td>350.0</td>\n      <td>165.0</td>\n      <td>3693.0</td>\n      <td>11.5</td>\n      <td>70</td>\n      <td>1</td>\n      <td>False</td>\n      <td>False</td>\n      <td>...</td>\n      <td>False</td>\n      <td>False</td>\n      <td>False</td>\n      <td>False</td>\n      <td>False</td>\n      <td>False</td>\n      <td>False</td>\n      <td>False</td>\n      <td>False</td>\n      <td>False</td>\n    </tr>\n    <tr>\n      <th>2</th>\n      <td>18.0</td>\n      <td>8</td>\n      <td>318.0</td>\n      <td>150.0</td>\n      <td>3436.0</td>\n      <td>11.0</td>\n      <td>70</td>\n      <td>1</td>\n      <td>False</td>\n      <td>False</td>\n      <td>...</td>\n      <td>False</td>\n      <td>False</td>\n      <td>False</td>\n      <td>False</td>\n      <td>False</td>\n      <td>False</td>\n      <td>False</td>\n      <td>False</td>\n      <td>False</td>\n      <td>False</td>\n    </tr>\n    <tr>\n      <th>3</th>\n      <td>16.0</td>\n      <td>8</td>\n      <td>304.0</td>\n      <td>150.0</td>\n      <td>3433.0</td>\n      <td>12.0</td>\n      <td>70</td>\n      <td>1</td>\n      <td>False</td>\n      <td>False</td>\n      <td>...</td>\n      <td>False</td>\n      <td>False</td>\n      <td>False</td>\n      <td>False</td>\n      <td>False</td>\n      <td>False</td>\n      <td>False</td>\n      <td>False</td>\n      <td>False</td>\n      <td>False</td>\n    </tr>\n    <tr>\n      <th>4</th>\n      <td>17.0</td>\n      <td>8</td>\n      <td>302.0</td>\n      <td>140.0</td>\n      <td>3449.0</td>\n      <td>10.5</td>\n      <td>70</td>\n      <td>1</td>\n      <td>False</td>\n      <td>False</td>\n      <td>...</td>\n      <td>False</td>\n      <td>False</td>\n      <td>False</td>\n      <td>False</td>\n      <td>False</td>\n      <td>False</td>\n      <td>False</td>\n      <td>False</td>\n      <td>False</td>\n      <td>False</td>\n    </tr>\n    <tr>\n      <th>...</th>\n      <td>...</td>\n      <td>...</td>\n      <td>...</td>\n      <td>...</td>\n      <td>...</td>\n      <td>...</td>\n      <td>...</td>\n      <td>...</td>\n      <td>...</td>\n      <td>...</td>\n      <td>...</td>\n      <td>...</td>\n      <td>...</td>\n      <td>...</td>\n      <td>...</td>\n      <td>...</td>\n      <td>...</td>\n      <td>...</td>\n      <td>...</td>\n      <td>...</td>\n      <td>...</td>\n    </tr>\n    <tr>\n      <th>393</th>\n      <td>27.0</td>\n      <td>4</td>\n      <td>140.0</td>\n      <td>86.0</td>\n      <td>2790.0</td>\n      <td>15.6</td>\n      <td>82</td>\n      <td>1</td>\n      <td>False</td>\n      <td>False</td>\n      <td>...</td>\n      <td>False</td>\n      <td>False</td>\n      <td>False</td>\n      <td>False</td>\n      <td>False</td>\n      <td>False</td>\n      <td>False</td>\n      <td>False</td>\n      <td>False</td>\n      <td>False</td>\n    </tr>\n    <tr>\n      <th>394</th>\n      <td>44.0</td>\n      <td>4</td>\n      <td>97.0</td>\n      <td>52.0</td>\n      <td>2130.0</td>\n      <td>24.6</td>\n      <td>82</td>\n      <td>2</td>\n      <td>False</td>\n      <td>False</td>\n      <td>...</td>\n      <td>False</td>\n      <td>False</td>\n      <td>False</td>\n      <td>False</td>\n      <td>False</td>\n      <td>False</td>\n      <td>True</td>\n      <td>False</td>\n      <td>False</td>\n      <td>False</td>\n    </tr>\n    <tr>\n      <th>395</th>\n      <td>32.0</td>\n      <td>4</td>\n      <td>135.0</td>\n      <td>84.0</td>\n      <td>2295.0</td>\n      <td>11.6</td>\n      <td>82</td>\n      <td>1</td>\n      <td>False</td>\n      <td>False</td>\n      <td>...</td>\n      <td>False</td>\n      <td>False</td>\n      <td>False</td>\n      <td>False</td>\n      <td>False</td>\n      <td>False</td>\n      <td>False</td>\n      <td>False</td>\n      <td>False</td>\n      <td>False</td>\n    </tr>\n    <tr>\n      <th>396</th>\n      <td>28.0</td>\n      <td>4</td>\n      <td>120.0</td>\n      <td>79.0</td>\n      <td>2625.0</td>\n      <td>18.6</td>\n      <td>82</td>\n      <td>1</td>\n      <td>False</td>\n      <td>False</td>\n      <td>...</td>\n      <td>False</td>\n      <td>False</td>\n      <td>False</td>\n      <td>False</td>\n      <td>False</td>\n      <td>False</td>\n      <td>False</td>\n      <td>False</td>\n      <td>False</td>\n      <td>False</td>\n    </tr>\n    <tr>\n      <th>397</th>\n      <td>31.0</td>\n      <td>4</td>\n      <td>119.0</td>\n      <td>82.0</td>\n      <td>2720.0</td>\n      <td>19.4</td>\n      <td>82</td>\n      <td>1</td>\n      <td>False</td>\n      <td>False</td>\n      <td>...</td>\n      <td>False</td>\n      <td>False</td>\n      <td>False</td>\n      <td>False</td>\n      <td>False</td>\n      <td>False</td>\n      <td>False</td>\n      <td>False</td>\n      <td>False</td>\n      <td>False</td>\n    </tr>\n  </tbody>\n</table>\n<p>392 rows × 309 columns</p>\n</div>"
     },
     "execution_count": 5,
     "metadata": {},
     "output_type": "execute_result"
    }
   ],
   "source": [
    "data = pd.get_dummies(data, columns=['car name'])\n",
    "data"
   ],
   "metadata": {
    "collapsed": false,
    "ExecuteTime": {
     "end_time": "2024-10-24T01:52:46.455237Z",
     "start_time": "2024-10-24T01:52:46.436290Z"
    }
   },
   "id": "b79eef9e423b6744",
   "execution_count": 5
  },
  {
   "cell_type": "code",
   "outputs": [
    {
     "data": {
      "text/plain": "(392, 308)"
     },
     "execution_count": 17,
     "metadata": {},
     "output_type": "execute_result"
    }
   ],
   "source": [
    "X=data.drop('mpg',axis=1).astype('float32')\n",
    "X.shape"
   ],
   "metadata": {
    "collapsed": false,
    "ExecuteTime": {
     "end_time": "2024-10-24T01:56:25.561896Z",
     "start_time": "2024-10-24T01:56:25.557429Z"
    }
   },
   "id": "78d50e23fe8f422",
   "execution_count": 17
  },
  {
   "cell_type": "code",
   "outputs": [
    {
     "data": {
      "text/plain": "array([18. , 15. , 18. , 16. , 17. , 15. , 14. , 14. , 14. , 15. , 15. ,\n       14. , 15. , 14. , 24. , 22. , 18. , 21. , 27. , 26. , 25. , 24. ,\n       25. , 26. , 21. , 10. , 10. , 11. ,  9. , 27. , 28. , 25. , 19. ,\n       16. , 17. , 19. , 18. , 14. , 14. , 14. , 14. , 12. , 13. , 13. ,\n       18. , 22. , 19. , 18. , 23. , 28. , 30. , 30. , 31. , 35. , 27. ,\n       26. , 24. , 25. , 23. , 20. , 21. , 13. , 14. , 15. , 14. , 17. ,\n       11. , 13. , 12. , 13. , 19. , 15. , 13. , 13. , 14. , 18. , 22. ,\n       21. , 26. , 22. , 28. , 23. , 28. , 27. , 13. , 14. , 13. , 14. ,\n       15. , 12. , 13. , 13. , 14. , 13. , 12. , 13. , 18. , 16. , 18. ,\n       18. , 23. , 26. , 11. , 12. , 13. , 12. , 18. , 20. , 21. , 22. ,\n       18. , 19. , 21. , 26. , 15. , 16. , 29. , 24. , 20. , 19. , 15. ,\n       24. , 20. , 11. , 20. , 19. , 15. , 31. , 26. , 32. , 25. , 16. ,\n       16. , 18. , 16. , 13. , 14. , 14. , 14. , 29. , 26. , 26. , 31. ,\n       32. , 28. , 24. , 26. , 24. , 26. , 31. , 19. , 18. , 15. , 15. ,\n       16. , 15. , 16. , 14. , 17. , 16. , 15. , 18. , 21. , 20. , 13. ,\n       29. , 23. , 20. , 23. , 24. , 25. , 24. , 18. , 29. , 19. , 23. ,\n       23. , 22. , 25. , 33. , 28. , 25. , 25. , 26. , 27. , 17.5, 16. ,\n       15.5, 14.5, 22. , 22. , 24. , 22.5, 29. , 24.5, 29. , 33. , 20. ,\n       18. , 18.5, 17.5, 29.5, 32. , 28. , 26.5, 20. , 13. , 19. , 19. ,\n       16.5, 16.5, 13. , 13. , 13. , 31.5, 30. , 36. , 25.5, 33.5, 17.5,\n       17. , 15.5, 15. , 17.5, 20.5, 19. , 18.5, 16. , 15.5, 15.5, 16. ,\n       29. , 24.5, 26. , 25.5, 30.5, 33.5, 30. , 30.5, 22. , 21.5, 21.5,\n       43.1, 36.1, 32.8, 39.4, 36.1, 19.9, 19.4, 20.2, 19.2, 20.5, 20.2,\n       25.1, 20.5, 19.4, 20.6, 20.8, 18.6, 18.1, 19.2, 17.7, 18.1, 17.5,\n       30. , 27.5, 27.2, 30.9, 21.1, 23.2, 23.8, 23.9, 20.3, 17. , 21.6,\n       16.2, 31.5, 29.5, 21.5, 19.8, 22.3, 20.2, 20.6, 17. , 17.6, 16.5,\n       18.2, 16.9, 15.5, 19.2, 18.5, 31.9, 34.1, 35.7, 27.4, 25.4, 23. ,\n       27.2, 23.9, 34.2, 34.5, 31.8, 37.3, 28.4, 28.8, 26.8, 33.5, 41.5,\n       38.1, 32.1, 37.2, 28. , 26.4, 24.3, 19.1, 34.3, 29.8, 31.3, 37. ,\n       32.2, 46.6, 27.9, 40.8, 44.3, 43.4, 36.4, 30. , 44.6, 33.8, 29.8,\n       32.7, 23.7, 35. , 32.4, 27.2, 26.6, 25.8, 23.5, 30. , 39.1, 39. ,\n       35.1, 32.3, 37. , 37.7, 34.1, 34.7, 34.4, 29.9, 33. , 33.7, 32.4,\n       32.9, 31.6, 28.1, 30.7, 25.4, 24.2, 22.4, 26.6, 20.2, 17.6, 28. ,\n       27. , 34. , 31. , 29. , 27. , 24. , 36. , 37. , 31. , 38. , 36. ,\n       36. , 36. , 34. , 38. , 32. , 38. , 25. , 38. , 26. , 22. , 32. ,\n       36. , 27. , 27. , 44. , 32. , 28. , 31. ])"
     },
     "execution_count": 10,
     "metadata": {},
     "output_type": "execute_result"
    }
   ],
   "source": [
    "Y=data['mpg'].values\n",
    "Y"
   ],
   "metadata": {
    "collapsed": false,
    "ExecuteTime": {
     "end_time": "2024-10-24T01:54:44.734133Z",
     "start_time": "2024-10-24T01:54:44.727153Z"
    }
   },
   "id": "ecec8609c69b367a",
   "execution_count": 10
  },
  {
   "cell_type": "code",
   "outputs": [],
   "source": [
    "from sklearn.model_selection import train_test_split\n",
    "X_train,X_test, y_train,y_test = train_test_split(X,Y,test_size=0.2,random_state=0) "
   ],
   "metadata": {
    "collapsed": false,
    "ExecuteTime": {
     "end_time": "2024-10-24T01:54:46.590775Z",
     "start_time": "2024-10-24T01:54:46.584155Z"
    }
   },
   "id": "2089ba6d30d9ccbc",
   "execution_count": 11
  },
  {
   "cell_type": "code",
   "outputs": [
    {
     "name": "stdout",
     "output_type": "stream",
     "text": [
      "Model: \"sequential_3\"\n",
      "_________________________________________________________________\n",
      " Layer (type)                Output Shape              Param #   \n",
      "=================================================================\n",
      " dense_6 (Dense)             (None, 64)                19776     \n",
      "                                                                 \n",
      " dense_7 (Dense)             (None, 32)                2080      \n",
      "                                                                 \n",
      " dense_8 (Dense)             (None, 1)                 33        \n",
      "                                                                 \n",
      "=================================================================\n",
      "Total params: 21,889\n",
      "Trainable params: 21,889\n",
      "Non-trainable params: 0\n",
      "_________________________________________________________________\n"
     ]
    }
   ],
   "source": [
    "#Defining the model \n",
    "\n",
    "from keras.models import Sequential\n",
    "from keras.layers import Dense\n",
    "from keras.optimizers import Adam\n",
    "\n",
    "\n",
    "model = Sequential()\n",
    "\n",
    "model.add(Dense(64,input_shape=(308,),activation='tanh'))\n",
    "model.add(Dense(32,activation='tanh'))\n",
    "model.add(Dense(1,activation='linear'))\n",
    "\n",
    "model.compile(optimizer='rmsprop',loss='mse',metrics=['mse'])\n",
    "\n",
    "model.summary()"
   ],
   "metadata": {
    "collapsed": false,
    "ExecuteTime": {
     "end_time": "2024-10-24T01:56:37.092648Z",
     "start_time": "2024-10-24T01:56:37.059324Z"
    }
   },
   "id": "798626912b644d1",
   "execution_count": 18
  },
  {
   "cell_type": "code",
   "outputs": [
    {
     "name": "stdout",
     "output_type": "stream",
     "text": [
      "Epoch 1/30\n",
      "10/10 [==============================] - 0s 6ms/step - loss: 105.6096 - mse: 105.6096 - val_loss: 102.6535 - val_mse: 102.6535\n",
      "Epoch 2/30\n",
      "10/10 [==============================] - 0s 3ms/step - loss: 101.5331 - mse: 101.5331 - val_loss: 98.8830 - val_mse: 98.8830\n",
      "Epoch 3/30\n",
      "10/10 [==============================] - 0s 3ms/step - loss: 97.7530 - mse: 97.7530 - val_loss: 95.3484 - val_mse: 95.3484\n",
      "Epoch 4/30\n",
      "10/10 [==============================] - 0s 3ms/step - loss: 94.0712 - mse: 94.0712 - val_loss: 91.7816 - val_mse: 91.7816\n",
      "Epoch 5/30\n",
      "10/10 [==============================] - 0s 3ms/step - loss: 90.5380 - mse: 90.5380 - val_loss: 88.5527 - val_mse: 88.5527\n",
      "Epoch 6/30\n",
      "10/10 [==============================] - 0s 3ms/step - loss: 87.3471 - mse: 87.3471 - val_loss: 85.5865 - val_mse: 85.5865\n",
      "Epoch 7/30\n",
      "10/10 [==============================] - 0s 3ms/step - loss: 84.3021 - mse: 84.3021 - val_loss: 82.7322 - val_mse: 82.7322\n",
      "Epoch 8/30\n",
      "10/10 [==============================] - 0s 3ms/step - loss: 81.4164 - mse: 81.4164 - val_loss: 80.0483 - val_mse: 80.0483\n",
      "Epoch 9/30\n",
      "10/10 [==============================] - 0s 3ms/step - loss: 78.7084 - mse: 78.7084 - val_loss: 77.5891 - val_mse: 77.5891\n",
      "Epoch 10/30\n",
      "10/10 [==============================] - 0s 3ms/step - loss: 76.2832 - mse: 76.2832 - val_loss: 75.4414 - val_mse: 75.4414\n",
      "Epoch 11/30\n",
      "10/10 [==============================] - 0s 3ms/step - loss: 74.0661 - mse: 74.0661 - val_loss: 73.3132 - val_mse: 73.3132\n",
      "Epoch 12/30\n",
      "10/10 [==============================] - 0s 3ms/step - loss: 71.9567 - mse: 71.9567 - val_loss: 71.5166 - val_mse: 71.5166\n",
      "Epoch 13/30\n",
      "10/10 [==============================] - 0s 3ms/step - loss: 70.1540 - mse: 70.1540 - val_loss: 69.8559 - val_mse: 69.8559\n",
      "Epoch 14/30\n",
      "10/10 [==============================] - 0s 3ms/step - loss: 68.4149 - mse: 68.4149 - val_loss: 68.3069 - val_mse: 68.3069\n",
      "Epoch 15/30\n",
      "10/10 [==============================] - 0s 3ms/step - loss: 66.9346 - mse: 66.9346 - val_loss: 67.1463 - val_mse: 67.1463\n",
      "Epoch 16/30\n",
      "10/10 [==============================] - 0s 3ms/step - loss: 65.7184 - mse: 65.7184 - val_loss: 66.0403 - val_mse: 66.0403\n",
      "Epoch 17/30\n",
      "10/10 [==============================] - 0s 3ms/step - loss: 64.5814 - mse: 64.5814 - val_loss: 65.1102 - val_mse: 65.1102\n",
      "Epoch 18/30\n",
      "10/10 [==============================] - 0s 3ms/step - loss: 63.6463 - mse: 63.6463 - val_loss: 64.3379 - val_mse: 64.3379\n",
      "Epoch 19/30\n",
      "10/10 [==============================] - 0s 3ms/step - loss: 62.8229 - mse: 62.8229 - val_loss: 63.6957 - val_mse: 63.6957\n",
      "Epoch 20/30\n",
      "10/10 [==============================] - 0s 3ms/step - loss: 62.1880 - mse: 62.1880 - val_loss: 63.2004 - val_mse: 63.2004\n",
      "Epoch 21/30\n",
      "10/10 [==============================] - 0s 3ms/step - loss: 61.7044 - mse: 61.7044 - val_loss: 62.8450 - val_mse: 62.8450\n",
      "Epoch 22/30\n",
      "10/10 [==============================] - 0s 3ms/step - loss: 61.3032 - mse: 61.3032 - val_loss: 62.5945 - val_mse: 62.5945\n",
      "Epoch 23/30\n",
      "10/10 [==============================] - 0s 3ms/step - loss: 61.0312 - mse: 61.0312 - val_loss: 62.4069 - val_mse: 62.4069\n",
      "Epoch 24/30\n",
      "10/10 [==============================] - 0s 3ms/step - loss: 60.8361 - mse: 60.8361 - val_loss: 62.2809 - val_mse: 62.2809\n",
      "Epoch 25/30\n",
      "10/10 [==============================] - 0s 3ms/step - loss: 60.6817 - mse: 60.6817 - val_loss: 62.2193 - val_mse: 62.2193\n",
      "Epoch 26/30\n",
      "10/10 [==============================] - 0s 3ms/step - loss: 60.6000 - mse: 60.6000 - val_loss: 62.1913 - val_mse: 62.1913\n",
      "Epoch 27/30\n",
      "10/10 [==============================] - 0s 3ms/step - loss: 60.5530 - mse: 60.5530 - val_loss: 62.1703 - val_mse: 62.1703\n",
      "Epoch 28/30\n",
      "10/10 [==============================] - 0s 3ms/step - loss: 60.5034 - mse: 60.5034 - val_loss: 62.1593 - val_mse: 62.1593\n",
      "Epoch 29/30\n",
      "10/10 [==============================] - 0s 3ms/step - loss: 60.5137 - mse: 60.5137 - val_loss: 62.1553 - val_mse: 62.1553\n",
      "Epoch 30/30\n",
      "10/10 [==============================] - 0s 3ms/step - loss: 60.5103 - mse: 60.5103 - val_loss: 62.1557 - val_mse: 62.1557\n",
      "3/3 [==============================] - 0s 888us/step\n"
     ]
    }
   ],
   "source": [
    "import numpy as np\n",
    "N_EPOCHS = 30\n",
    "\n",
    "history=model.fit(x=X_train, y=y_train, epochs=N_EPOCHS, batch_size=32,validation_data= (X_test,y_test))\n",
    "y_pred = model.predict(X_test)"
   ],
   "metadata": {
    "collapsed": false,
    "ExecuteTime": {
     "end_time": "2024-10-24T01:56:52.219140Z",
     "start_time": "2024-10-24T01:56:51.303566Z"
    }
   },
   "id": "2c4e98c3b2c5062f",
   "execution_count": 20
  },
  {
   "cell_type": "code",
   "outputs": [
    {
     "name": "stdout",
     "output_type": "stream",
     "text": [
      "3/3 [==============================] - 0s 1ms/step - loss: 62.1557 - mse: 62.1557\n"
     ]
    },
    {
     "data": {
      "text/plain": "[62.1556510925293, 62.1556510925293]"
     },
     "execution_count": 21,
     "metadata": {},
     "output_type": "execute_result"
    }
   ],
   "source": [
    "model.evaluate(X_test, y_test)"
   ],
   "metadata": {
    "collapsed": false,
    "ExecuteTime": {
     "end_time": "2024-10-24T01:57:06.766367Z",
     "start_time": "2024-10-24T01:57:06.710358Z"
    }
   },
   "id": "ae0f9a9c58b44941",
   "execution_count": 21
  },
  {
   "cell_type": "code",
   "outputs": [],
   "source": [],
   "metadata": {
    "collapsed": false
   },
   "id": "701aad5080828e04"
  }
 ],
 "metadata": {
  "kernelspec": {
   "display_name": "Python 3",
   "language": "python",
   "name": "python3"
  },
  "language_info": {
   "codemirror_mode": {
    "name": "ipython",
    "version": 2
   },
   "file_extension": ".py",
   "mimetype": "text/x-python",
   "name": "python",
   "nbconvert_exporter": "python",
   "pygments_lexer": "ipython2",
   "version": "2.7.6"
  }
 },
 "nbformat": 4,
 "nbformat_minor": 5
}
