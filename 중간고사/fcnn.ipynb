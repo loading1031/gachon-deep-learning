{
 "cells": [
  {
   "cell_type": "code",
   "execution_count": 1,
   "id": "initial_id",
   "metadata": {
    "collapsed": true,
    "ExecuteTime": {
     "end_time": "2024-10-24T02:05:25.079254Z",
     "start_time": "2024-10-24T02:05:25.077119Z"
    }
   },
   "outputs": [],
   "source": [
    "import pandas as pd\n",
    "import numpy as np\n",
    "import matplotlib.pyplot as plt\n",
    "import seaborn as sns"
   ]
  },
  {
   "cell_type": "code",
   "outputs": [
    {
     "data": {
      "text/plain": "      mpg  cylinders  displacement  horsepower  weight  acceleration  \\\n0    18.0          8         307.0       130.0  3504.0          12.0   \n1    15.0          8         350.0       165.0  3693.0          11.5   \n2    18.0          8         318.0       150.0  3436.0          11.0   \n3    16.0          8         304.0       150.0  3433.0          12.0   \n4    17.0          8         302.0       140.0  3449.0          10.5   \n..    ...        ...           ...         ...     ...           ...   \n393  27.0          4         140.0        86.0  2790.0          15.6   \n394  44.0          4          97.0        52.0  2130.0          24.6   \n395  32.0          4         135.0        84.0  2295.0          11.6   \n396  28.0          4         120.0        79.0  2625.0          18.6   \n397  31.0          4         119.0        82.0  2720.0          19.4   \n\n     model year  origin                   car name  \n0            70       1  chevrolet chevelle malibu  \n1            70       1          buick skylark 320  \n2            70       1         plymouth satellite  \n3            70       1              amc rebel sst  \n4            70       1                ford torino  \n..          ...     ...                        ...  \n393          82       1            ford mustang gl  \n394          82       2                  vw pickup  \n395          82       1              dodge rampage  \n396          82       1                ford ranger  \n397          82       1                 chevy s-10  \n\n[398 rows x 9 columns]",
      "text/html": "<div>\n<style scoped>\n    .dataframe tbody tr th:only-of-type {\n        vertical-align: middle;\n    }\n\n    .dataframe tbody tr th {\n        vertical-align: top;\n    }\n\n    .dataframe thead th {\n        text-align: right;\n    }\n</style>\n<table border=\"1\" class=\"dataframe\">\n  <thead>\n    <tr style=\"text-align: right;\">\n      <th></th>\n      <th>mpg</th>\n      <th>cylinders</th>\n      <th>displacement</th>\n      <th>horsepower</th>\n      <th>weight</th>\n      <th>acceleration</th>\n      <th>model year</th>\n      <th>origin</th>\n      <th>car name</th>\n    </tr>\n  </thead>\n  <tbody>\n    <tr>\n      <th>0</th>\n      <td>18.0</td>\n      <td>8</td>\n      <td>307.0</td>\n      <td>130.0</td>\n      <td>3504.0</td>\n      <td>12.0</td>\n      <td>70</td>\n      <td>1</td>\n      <td>chevrolet chevelle malibu</td>\n    </tr>\n    <tr>\n      <th>1</th>\n      <td>15.0</td>\n      <td>8</td>\n      <td>350.0</td>\n      <td>165.0</td>\n      <td>3693.0</td>\n      <td>11.5</td>\n      <td>70</td>\n      <td>1</td>\n      <td>buick skylark 320</td>\n    </tr>\n    <tr>\n      <th>2</th>\n      <td>18.0</td>\n      <td>8</td>\n      <td>318.0</td>\n      <td>150.0</td>\n      <td>3436.0</td>\n      <td>11.0</td>\n      <td>70</td>\n      <td>1</td>\n      <td>plymouth satellite</td>\n    </tr>\n    <tr>\n      <th>3</th>\n      <td>16.0</td>\n      <td>8</td>\n      <td>304.0</td>\n      <td>150.0</td>\n      <td>3433.0</td>\n      <td>12.0</td>\n      <td>70</td>\n      <td>1</td>\n      <td>amc rebel sst</td>\n    </tr>\n    <tr>\n      <th>4</th>\n      <td>17.0</td>\n      <td>8</td>\n      <td>302.0</td>\n      <td>140.0</td>\n      <td>3449.0</td>\n      <td>10.5</td>\n      <td>70</td>\n      <td>1</td>\n      <td>ford torino</td>\n    </tr>\n    <tr>\n      <th>...</th>\n      <td>...</td>\n      <td>...</td>\n      <td>...</td>\n      <td>...</td>\n      <td>...</td>\n      <td>...</td>\n      <td>...</td>\n      <td>...</td>\n      <td>...</td>\n    </tr>\n    <tr>\n      <th>393</th>\n      <td>27.0</td>\n      <td>4</td>\n      <td>140.0</td>\n      <td>86.0</td>\n      <td>2790.0</td>\n      <td>15.6</td>\n      <td>82</td>\n      <td>1</td>\n      <td>ford mustang gl</td>\n    </tr>\n    <tr>\n      <th>394</th>\n      <td>44.0</td>\n      <td>4</td>\n      <td>97.0</td>\n      <td>52.0</td>\n      <td>2130.0</td>\n      <td>24.6</td>\n      <td>82</td>\n      <td>2</td>\n      <td>vw pickup</td>\n    </tr>\n    <tr>\n      <th>395</th>\n      <td>32.0</td>\n      <td>4</td>\n      <td>135.0</td>\n      <td>84.0</td>\n      <td>2295.0</td>\n      <td>11.6</td>\n      <td>82</td>\n      <td>1</td>\n      <td>dodge rampage</td>\n    </tr>\n    <tr>\n      <th>396</th>\n      <td>28.0</td>\n      <td>4</td>\n      <td>120.0</td>\n      <td>79.0</td>\n      <td>2625.0</td>\n      <td>18.6</td>\n      <td>82</td>\n      <td>1</td>\n      <td>ford ranger</td>\n    </tr>\n    <tr>\n      <th>397</th>\n      <td>31.0</td>\n      <td>4</td>\n      <td>119.0</td>\n      <td>82.0</td>\n      <td>2720.0</td>\n      <td>19.4</td>\n      <td>82</td>\n      <td>1</td>\n      <td>chevy s-10</td>\n    </tr>\n  </tbody>\n</table>\n<p>398 rows × 9 columns</p>\n</div>"
     },
     "execution_count": 2,
     "metadata": {},
     "output_type": "execute_result"
    }
   ],
   "source": [
    "\n",
    "url = \"http://archive.ics.uci.edu/ml/machine-learning-databases/auto-mpg/auto-mpg.data\"\n",
    "\n",
    "\n",
    "columns = ['mpg', 'cylinders', 'displacement', 'horsepower', 'weight', 'acceleration', 'model year', 'origin', 'car name']\n",
    "df = pd.read_csv(url, sep='\\s+', names=columns, na_values='?')\n",
    "df"
   ],
   "metadata": {
    "collapsed": false,
    "ExecuteTime": {
     "end_time": "2024-10-24T02:05:25.756104Z",
     "start_time": "2024-10-24T02:05:25.080209Z"
    }
   },
   "id": "b9b5b8588ef29e0b",
   "execution_count": 2
  },
  {
   "cell_type": "code",
   "outputs": [],
   "source": [
    "# 결측치 제거\n",
    "data=df.dropna()"
   ],
   "metadata": {
    "collapsed": false,
    "ExecuteTime": {
     "end_time": "2024-10-24T02:05:25.760225Z",
     "start_time": "2024-10-24T02:05:25.757249Z"
    }
   },
   "id": "6b1b728de3b6e6ad",
   "execution_count": 3
  },
  {
   "cell_type": "code",
   "outputs": [
    {
     "data": {
      "text/plain": "mpg             0\ncylinders       0\ndisplacement    0\nhorsepower      0\nweight          0\nacceleration    0\nmodel year      0\norigin          0\ncar name        0\ndtype: int64"
     },
     "execution_count": 4,
     "metadata": {},
     "output_type": "execute_result"
    }
   ],
   "source": [
    "data.isnull().sum()"
   ],
   "metadata": {
    "collapsed": false,
    "ExecuteTime": {
     "end_time": "2024-10-24T02:05:25.765614Z",
     "start_time": "2024-10-24T02:05:25.761303Z"
    }
   },
   "id": "746cdc8f421dbc2",
   "execution_count": 4
  },
  {
   "cell_type": "code",
   "outputs": [
    {
     "data": {
      "text/plain": "      mpg  cylinders  displacement  horsepower  weight  acceleration  \\\n0    18.0          8         307.0       130.0  3504.0          12.0   \n1    15.0          8         350.0       165.0  3693.0          11.5   \n2    18.0          8         318.0       150.0  3436.0          11.0   \n3    16.0          8         304.0       150.0  3433.0          12.0   \n4    17.0          8         302.0       140.0  3449.0          10.5   \n..    ...        ...           ...         ...     ...           ...   \n393  27.0          4         140.0        86.0  2790.0          15.6   \n394  44.0          4          97.0        52.0  2130.0          24.6   \n395  32.0          4         135.0        84.0  2295.0          11.6   \n396  28.0          4         120.0        79.0  2625.0          18.6   \n397  31.0          4         119.0        82.0  2720.0          19.4   \n\n     model year  origin  car name_amc ambassador brougham  \\\n0            70       1                             False   \n1            70       1                             False   \n2            70       1                             False   \n3            70       1                             False   \n4            70       1                             False   \n..          ...     ...                               ...   \n393          82       1                             False   \n394          82       2                             False   \n395          82       1                             False   \n396          82       1                             False   \n397          82       1                             False   \n\n     car name_amc ambassador dpl  ...  car name_volvo 145e (sw)  \\\n0                          False  ...                     False   \n1                          False  ...                     False   \n2                          False  ...                     False   \n3                          False  ...                     False   \n4                          False  ...                     False   \n..                           ...  ...                       ...   \n393                        False  ...                     False   \n394                        False  ...                     False   \n395                        False  ...                     False   \n396                        False  ...                     False   \n397                        False  ...                     False   \n\n     car name_volvo 244dl  car name_volvo 245  car name_volvo 264gl  \\\n0                   False               False                 False   \n1                   False               False                 False   \n2                   False               False                 False   \n3                   False               False                 False   \n4                   False               False                 False   \n..                    ...                 ...                   ...   \n393                 False               False                 False   \n394                 False               False                 False   \n395                 False               False                 False   \n396                 False               False                 False   \n397                 False               False                 False   \n\n     car name_volvo diesel  car name_vw dasher (diesel)  car name_vw pickup  \\\n0                    False                        False               False   \n1                    False                        False               False   \n2                    False                        False               False   \n3                    False                        False               False   \n4                    False                        False               False   \n..                     ...                          ...                 ...   \n393                  False                        False               False   \n394                  False                        False                True   \n395                  False                        False               False   \n396                  False                        False               False   \n397                  False                        False               False   \n\n     car name_vw rabbit  car name_vw rabbit c (diesel)  \\\n0                 False                          False   \n1                 False                          False   \n2                 False                          False   \n3                 False                          False   \n4                 False                          False   \n..                  ...                            ...   \n393               False                          False   \n394               False                          False   \n395               False                          False   \n396               False                          False   \n397               False                          False   \n\n     car name_vw rabbit custom  \n0                        False  \n1                        False  \n2                        False  \n3                        False  \n4                        False  \n..                         ...  \n393                      False  \n394                      False  \n395                      False  \n396                      False  \n397                      False  \n\n[392 rows x 309 columns]",
      "text/html": "<div>\n<style scoped>\n    .dataframe tbody tr th:only-of-type {\n        vertical-align: middle;\n    }\n\n    .dataframe tbody tr th {\n        vertical-align: top;\n    }\n\n    .dataframe thead th {\n        text-align: right;\n    }\n</style>\n<table border=\"1\" class=\"dataframe\">\n  <thead>\n    <tr style=\"text-align: right;\">\n      <th></th>\n      <th>mpg</th>\n      <th>cylinders</th>\n      <th>displacement</th>\n      <th>horsepower</th>\n      <th>weight</th>\n      <th>acceleration</th>\n      <th>model year</th>\n      <th>origin</th>\n      <th>car name_amc ambassador brougham</th>\n      <th>car name_amc ambassador dpl</th>\n      <th>...</th>\n      <th>car name_volvo 145e (sw)</th>\n      <th>car name_volvo 244dl</th>\n      <th>car name_volvo 245</th>\n      <th>car name_volvo 264gl</th>\n      <th>car name_volvo diesel</th>\n      <th>car name_vw dasher (diesel)</th>\n      <th>car name_vw pickup</th>\n      <th>car name_vw rabbit</th>\n      <th>car name_vw rabbit c (diesel)</th>\n      <th>car name_vw rabbit custom</th>\n    </tr>\n  </thead>\n  <tbody>\n    <tr>\n      <th>0</th>\n      <td>18.0</td>\n      <td>8</td>\n      <td>307.0</td>\n      <td>130.0</td>\n      <td>3504.0</td>\n      <td>12.0</td>\n      <td>70</td>\n      <td>1</td>\n      <td>False</td>\n      <td>False</td>\n      <td>...</td>\n      <td>False</td>\n      <td>False</td>\n      <td>False</td>\n      <td>False</td>\n      <td>False</td>\n      <td>False</td>\n      <td>False</td>\n      <td>False</td>\n      <td>False</td>\n      <td>False</td>\n    </tr>\n    <tr>\n      <th>1</th>\n      <td>15.0</td>\n      <td>8</td>\n      <td>350.0</td>\n      <td>165.0</td>\n      <td>3693.0</td>\n      <td>11.5</td>\n      <td>70</td>\n      <td>1</td>\n      <td>False</td>\n      <td>False</td>\n      <td>...</td>\n      <td>False</td>\n      <td>False</td>\n      <td>False</td>\n      <td>False</td>\n      <td>False</td>\n      <td>False</td>\n      <td>False</td>\n      <td>False</td>\n      <td>False</td>\n      <td>False</td>\n    </tr>\n    <tr>\n      <th>2</th>\n      <td>18.0</td>\n      <td>8</td>\n      <td>318.0</td>\n      <td>150.0</td>\n      <td>3436.0</td>\n      <td>11.0</td>\n      <td>70</td>\n      <td>1</td>\n      <td>False</td>\n      <td>False</td>\n      <td>...</td>\n      <td>False</td>\n      <td>False</td>\n      <td>False</td>\n      <td>False</td>\n      <td>False</td>\n      <td>False</td>\n      <td>False</td>\n      <td>False</td>\n      <td>False</td>\n      <td>False</td>\n    </tr>\n    <tr>\n      <th>3</th>\n      <td>16.0</td>\n      <td>8</td>\n      <td>304.0</td>\n      <td>150.0</td>\n      <td>3433.0</td>\n      <td>12.0</td>\n      <td>70</td>\n      <td>1</td>\n      <td>False</td>\n      <td>False</td>\n      <td>...</td>\n      <td>False</td>\n      <td>False</td>\n      <td>False</td>\n      <td>False</td>\n      <td>False</td>\n      <td>False</td>\n      <td>False</td>\n      <td>False</td>\n      <td>False</td>\n      <td>False</td>\n    </tr>\n    <tr>\n      <th>4</th>\n      <td>17.0</td>\n      <td>8</td>\n      <td>302.0</td>\n      <td>140.0</td>\n      <td>3449.0</td>\n      <td>10.5</td>\n      <td>70</td>\n      <td>1</td>\n      <td>False</td>\n      <td>False</td>\n      <td>...</td>\n      <td>False</td>\n      <td>False</td>\n      <td>False</td>\n      <td>False</td>\n      <td>False</td>\n      <td>False</td>\n      <td>False</td>\n      <td>False</td>\n      <td>False</td>\n      <td>False</td>\n    </tr>\n    <tr>\n      <th>...</th>\n      <td>...</td>\n      <td>...</td>\n      <td>...</td>\n      <td>...</td>\n      <td>...</td>\n      <td>...</td>\n      <td>...</td>\n      <td>...</td>\n      <td>...</td>\n      <td>...</td>\n      <td>...</td>\n      <td>...</td>\n      <td>...</td>\n      <td>...</td>\n      <td>...</td>\n      <td>...</td>\n      <td>...</td>\n      <td>...</td>\n      <td>...</td>\n      <td>...</td>\n      <td>...</td>\n    </tr>\n    <tr>\n      <th>393</th>\n      <td>27.0</td>\n      <td>4</td>\n      <td>140.0</td>\n      <td>86.0</td>\n      <td>2790.0</td>\n      <td>15.6</td>\n      <td>82</td>\n      <td>1</td>\n      <td>False</td>\n      <td>False</td>\n      <td>...</td>\n      <td>False</td>\n      <td>False</td>\n      <td>False</td>\n      <td>False</td>\n      <td>False</td>\n      <td>False</td>\n      <td>False</td>\n      <td>False</td>\n      <td>False</td>\n      <td>False</td>\n    </tr>\n    <tr>\n      <th>394</th>\n      <td>44.0</td>\n      <td>4</td>\n      <td>97.0</td>\n      <td>52.0</td>\n      <td>2130.0</td>\n      <td>24.6</td>\n      <td>82</td>\n      <td>2</td>\n      <td>False</td>\n      <td>False</td>\n      <td>...</td>\n      <td>False</td>\n      <td>False</td>\n      <td>False</td>\n      <td>False</td>\n      <td>False</td>\n      <td>False</td>\n      <td>True</td>\n      <td>False</td>\n      <td>False</td>\n      <td>False</td>\n    </tr>\n    <tr>\n      <th>395</th>\n      <td>32.0</td>\n      <td>4</td>\n      <td>135.0</td>\n      <td>84.0</td>\n      <td>2295.0</td>\n      <td>11.6</td>\n      <td>82</td>\n      <td>1</td>\n      <td>False</td>\n      <td>False</td>\n      <td>...</td>\n      <td>False</td>\n      <td>False</td>\n      <td>False</td>\n      <td>False</td>\n      <td>False</td>\n      <td>False</td>\n      <td>False</td>\n      <td>False</td>\n      <td>False</td>\n      <td>False</td>\n    </tr>\n    <tr>\n      <th>396</th>\n      <td>28.0</td>\n      <td>4</td>\n      <td>120.0</td>\n      <td>79.0</td>\n      <td>2625.0</td>\n      <td>18.6</td>\n      <td>82</td>\n      <td>1</td>\n      <td>False</td>\n      <td>False</td>\n      <td>...</td>\n      <td>False</td>\n      <td>False</td>\n      <td>False</td>\n      <td>False</td>\n      <td>False</td>\n      <td>False</td>\n      <td>False</td>\n      <td>False</td>\n      <td>False</td>\n      <td>False</td>\n    </tr>\n    <tr>\n      <th>397</th>\n      <td>31.0</td>\n      <td>4</td>\n      <td>119.0</td>\n      <td>82.0</td>\n      <td>2720.0</td>\n      <td>19.4</td>\n      <td>82</td>\n      <td>1</td>\n      <td>False</td>\n      <td>False</td>\n      <td>...</td>\n      <td>False</td>\n      <td>False</td>\n      <td>False</td>\n      <td>False</td>\n      <td>False</td>\n      <td>False</td>\n      <td>False</td>\n      <td>False</td>\n      <td>False</td>\n      <td>False</td>\n    </tr>\n  </tbody>\n</table>\n<p>392 rows × 309 columns</p>\n</div>"
     },
     "execution_count": 5,
     "metadata": {},
     "output_type": "execute_result"
    }
   ],
   "source": [
    "data = pd.get_dummies(data, columns=['car name'])\n",
    "data"
   ],
   "metadata": {
    "collapsed": false,
    "ExecuteTime": {
     "end_time": "2024-10-24T02:05:25.781465Z",
     "start_time": "2024-10-24T02:05:25.766575Z"
    }
   },
   "id": "b79eef9e423b6744",
   "execution_count": 5
  },
  {
   "cell_type": "code",
   "outputs": [
    {
     "data": {
      "text/plain": "(392, 308)"
     },
     "execution_count": 6,
     "metadata": {},
     "output_type": "execute_result"
    }
   ],
   "source": [
    "X=data.drop('mpg',axis=1).astype('float32')\n",
    "X.shape"
   ],
   "metadata": {
    "collapsed": false,
    "ExecuteTime": {
     "end_time": "2024-10-24T02:05:25.788186Z",
     "start_time": "2024-10-24T02:05:25.784428Z"
    }
   },
   "id": "78d50e23fe8f422",
   "execution_count": 6
  },
  {
   "cell_type": "code",
   "outputs": [
    {
     "data": {
      "text/plain": "array([18. , 15. , 18. , 16. , 17. , 15. , 14. , 14. , 14. , 15. , 15. ,\n       14. , 15. , 14. , 24. , 22. , 18. , 21. , 27. , 26. , 25. , 24. ,\n       25. , 26. , 21. , 10. , 10. , 11. ,  9. , 27. , 28. , 25. , 19. ,\n       16. , 17. , 19. , 18. , 14. , 14. , 14. , 14. , 12. , 13. , 13. ,\n       18. , 22. , 19. , 18. , 23. , 28. , 30. , 30. , 31. , 35. , 27. ,\n       26. , 24. , 25. , 23. , 20. , 21. , 13. , 14. , 15. , 14. , 17. ,\n       11. , 13. , 12. , 13. , 19. , 15. , 13. , 13. , 14. , 18. , 22. ,\n       21. , 26. , 22. , 28. , 23. , 28. , 27. , 13. , 14. , 13. , 14. ,\n       15. , 12. , 13. , 13. , 14. , 13. , 12. , 13. , 18. , 16. , 18. ,\n       18. , 23. , 26. , 11. , 12. , 13. , 12. , 18. , 20. , 21. , 22. ,\n       18. , 19. , 21. , 26. , 15. , 16. , 29. , 24. , 20. , 19. , 15. ,\n       24. , 20. , 11. , 20. , 19. , 15. , 31. , 26. , 32. , 25. , 16. ,\n       16. , 18. , 16. , 13. , 14. , 14. , 14. , 29. , 26. , 26. , 31. ,\n       32. , 28. , 24. , 26. , 24. , 26. , 31. , 19. , 18. , 15. , 15. ,\n       16. , 15. , 16. , 14. , 17. , 16. , 15. , 18. , 21. , 20. , 13. ,\n       29. , 23. , 20. , 23. , 24. , 25. , 24. , 18. , 29. , 19. , 23. ,\n       23. , 22. , 25. , 33. , 28. , 25. , 25. , 26. , 27. , 17.5, 16. ,\n       15.5, 14.5, 22. , 22. , 24. , 22.5, 29. , 24.5, 29. , 33. , 20. ,\n       18. , 18.5, 17.5, 29.5, 32. , 28. , 26.5, 20. , 13. , 19. , 19. ,\n       16.5, 16.5, 13. , 13. , 13. , 31.5, 30. , 36. , 25.5, 33.5, 17.5,\n       17. , 15.5, 15. , 17.5, 20.5, 19. , 18.5, 16. , 15.5, 15.5, 16. ,\n       29. , 24.5, 26. , 25.5, 30.5, 33.5, 30. , 30.5, 22. , 21.5, 21.5,\n       43.1, 36.1, 32.8, 39.4, 36.1, 19.9, 19.4, 20.2, 19.2, 20.5, 20.2,\n       25.1, 20.5, 19.4, 20.6, 20.8, 18.6, 18.1, 19.2, 17.7, 18.1, 17.5,\n       30. , 27.5, 27.2, 30.9, 21.1, 23.2, 23.8, 23.9, 20.3, 17. , 21.6,\n       16.2, 31.5, 29.5, 21.5, 19.8, 22.3, 20.2, 20.6, 17. , 17.6, 16.5,\n       18.2, 16.9, 15.5, 19.2, 18.5, 31.9, 34.1, 35.7, 27.4, 25.4, 23. ,\n       27.2, 23.9, 34.2, 34.5, 31.8, 37.3, 28.4, 28.8, 26.8, 33.5, 41.5,\n       38.1, 32.1, 37.2, 28. , 26.4, 24.3, 19.1, 34.3, 29.8, 31.3, 37. ,\n       32.2, 46.6, 27.9, 40.8, 44.3, 43.4, 36.4, 30. , 44.6, 33.8, 29.8,\n       32.7, 23.7, 35. , 32.4, 27.2, 26.6, 25.8, 23.5, 30. , 39.1, 39. ,\n       35.1, 32.3, 37. , 37.7, 34.1, 34.7, 34.4, 29.9, 33. , 33.7, 32.4,\n       32.9, 31.6, 28.1, 30.7, 25.4, 24.2, 22.4, 26.6, 20.2, 17.6, 28. ,\n       27. , 34. , 31. , 29. , 27. , 24. , 36. , 37. , 31. , 38. , 36. ,\n       36. , 36. , 34. , 38. , 32. , 38. , 25. , 38. , 26. , 22. , 32. ,\n       36. , 27. , 27. , 44. , 32. , 28. , 31. ])"
     },
     "execution_count": 7,
     "metadata": {},
     "output_type": "execute_result"
    }
   ],
   "source": [
    "Y=data['mpg'].values\n",
    "Y"
   ],
   "metadata": {
    "collapsed": false,
    "ExecuteTime": {
     "end_time": "2024-10-24T02:05:25.795059Z",
     "start_time": "2024-10-24T02:05:25.789430Z"
    }
   },
   "id": "ecec8609c69b367a",
   "execution_count": 7
  },
  {
   "cell_type": "code",
   "outputs": [],
   "source": [
    "from sklearn.model_selection import train_test_split\n",
    "X_train,X_test, y_train,y_test = train_test_split(X,Y,test_size=0.2,random_state=0) "
   ],
   "metadata": {
    "collapsed": false,
    "ExecuteTime": {
     "end_time": "2024-10-24T02:05:25.922879Z",
     "start_time": "2024-10-24T02:05:25.796040Z"
    }
   },
   "id": "2089ba6d30d9ccbc",
   "execution_count": 8
  },
  {
   "cell_type": "code",
   "outputs": [
    {
     "name": "stdout",
     "output_type": "stream",
     "text": [
      "Model: \"sequential\"\n",
      "_________________________________________________________________\n",
      " Layer (type)                Output Shape              Param #   \n",
      "=================================================================\n",
      " dense (Dense)               (None, 64)                19776     \n",
      "                                                                 \n",
      " dense_1 (Dense)             (None, 32)                2080      \n",
      "                                                                 \n",
      " dense_2 (Dense)             (None, 1)                 33        \n",
      "                                                                 \n",
      "=================================================================\n",
      "Total params: 21,889\n",
      "Trainable params: 21,889\n",
      "Non-trainable params: 0\n",
      "_________________________________________________________________\n"
     ]
    }
   ],
   "source": [
    "#Defining the model \n",
    "\n",
    "from keras.models import Sequential\n",
    "from keras.layers import Dense\n",
    "from keras.optimizers import Adam\n",
    "\n",
    "\n",
    "model = Sequential()\n",
    "\n",
    "model.add(Dense(64,input_shape=(308,),activation='tanh'))\n",
    "model.add(Dense(32,activation='tanh'))\n",
    "model.add(Dense(1,activation='linear'))\n",
    "\n",
    "model.compile(optimizer='rmsprop',loss='mse',metrics=['mse'])\n",
    "\n",
    "model.summary()"
   ],
   "metadata": {
    "collapsed": false,
    "ExecuteTime": {
     "end_time": "2024-10-24T02:05:28.197441Z",
     "start_time": "2024-10-24T02:05:25.923688Z"
    }
   },
   "id": "798626912b644d1",
   "execution_count": 9
  },
  {
   "cell_type": "code",
   "outputs": [
    {
     "name": "stdout",
     "output_type": "stream",
     "text": [
      "Epoch 1/30\n"
     ]
    },
    {
     "name": "stderr",
     "output_type": "stream",
     "text": [
      "2024-10-24 11:05:28.246358: W tensorflow/tsl/platform/profile_utils/cpu_utils.cc:128] Failed to get CPU frequency: 0 Hz\n"
     ]
    },
    {
     "name": "stdout",
     "output_type": "stream",
     "text": [
      "10/10 [==============================] - 0s 13ms/step - loss: 527.2443 - mse: 527.2443 - val_loss: 443.4162 - val_mse: 443.4162\n",
      "Epoch 2/30\n",
      "10/10 [==============================] - 0s 3ms/step - loss: 415.8466 - mse: 415.8466 - val_loss: 377.5594 - val_mse: 377.5594\n",
      "Epoch 3/30\n",
      "10/10 [==============================] - 0s 3ms/step - loss: 365.5342 - mse: 365.5342 - val_loss: 343.9296 - val_mse: 343.9296\n",
      "Epoch 4/30\n",
      "10/10 [==============================] - 0s 4ms/step - loss: 338.8546 - mse: 338.8546 - val_loss: 323.9842 - val_mse: 323.9842\n",
      "Epoch 5/30\n",
      "10/10 [==============================] - 0s 4ms/step - loss: 321.2885 - mse: 321.2885 - val_loss: 309.1234 - val_mse: 309.1234\n",
      "Epoch 6/30\n",
      "10/10 [==============================] - 0s 4ms/step - loss: 307.3474 - mse: 307.3474 - val_loss: 296.5558 - val_mse: 296.5558\n",
      "Epoch 7/30\n",
      "10/10 [==============================] - 0s 3ms/step - loss: 295.3228 - mse: 295.3228 - val_loss: 285.3511 - val_mse: 285.3511\n",
      "Epoch 8/30\n",
      "10/10 [==============================] - 0s 3ms/step - loss: 284.2812 - mse: 284.2812 - val_loss: 274.8334 - val_mse: 274.8334\n",
      "Epoch 9/30\n",
      "10/10 [==============================] - 0s 3ms/step - loss: 274.0947 - mse: 274.0947 - val_loss: 265.2171 - val_mse: 265.2171\n",
      "Epoch 10/30\n",
      "10/10 [==============================] - 0s 3ms/step - loss: 264.4067 - mse: 264.4067 - val_loss: 255.7337 - val_mse: 255.7337\n",
      "Epoch 11/30\n",
      "10/10 [==============================] - 0s 3ms/step - loss: 254.9441 - mse: 254.9441 - val_loss: 246.5434 - val_mse: 246.5434\n",
      "Epoch 12/30\n",
      "10/10 [==============================] - 0s 3ms/step - loss: 245.8531 - mse: 245.8531 - val_loss: 237.8234 - val_mse: 237.8234\n",
      "Epoch 13/30\n",
      "10/10 [==============================] - 0s 3ms/step - loss: 237.1745 - mse: 237.1745 - val_loss: 229.4633 - val_mse: 229.4633\n",
      "Epoch 14/30\n",
      "10/10 [==============================] - 0s 3ms/step - loss: 228.7226 - mse: 228.7226 - val_loss: 221.1983 - val_mse: 221.1983\n",
      "Epoch 15/30\n",
      "10/10 [==============================] - 0s 2ms/step - loss: 220.3840 - mse: 220.3840 - val_loss: 213.1038 - val_mse: 213.1038\n",
      "Epoch 16/30\n",
      "10/10 [==============================] - 0s 3ms/step - loss: 212.3582 - mse: 212.3582 - val_loss: 205.3206 - val_mse: 205.3206\n",
      "Epoch 17/30\n",
      "10/10 [==============================] - 0s 3ms/step - loss: 204.5916 - mse: 204.5916 - val_loss: 197.8426 - val_mse: 197.8426\n",
      "Epoch 18/30\n",
      "10/10 [==============================] - 0s 3ms/step - loss: 196.9835 - mse: 196.9835 - val_loss: 190.3987 - val_mse: 190.3987\n",
      "Epoch 19/30\n",
      "10/10 [==============================] - 0s 3ms/step - loss: 189.5366 - mse: 189.5366 - val_loss: 183.1591 - val_mse: 183.1591\n",
      "Epoch 20/30\n",
      "10/10 [==============================] - 0s 3ms/step - loss: 182.3782 - mse: 182.3782 - val_loss: 176.3311 - val_mse: 176.3311\n",
      "Epoch 21/30\n",
      "10/10 [==============================] - 0s 3ms/step - loss: 175.5004 - mse: 175.5004 - val_loss: 169.6380 - val_mse: 169.6380\n",
      "Epoch 22/30\n",
      "10/10 [==============================] - 0s 3ms/step - loss: 168.6878 - mse: 168.6878 - val_loss: 162.9660 - val_mse: 162.9660\n",
      "Epoch 23/30\n",
      "10/10 [==============================] - 0s 3ms/step - loss: 162.1510 - mse: 162.1510 - val_loss: 156.8601 - val_mse: 156.8601\n",
      "Epoch 24/30\n",
      "10/10 [==============================] - 0s 3ms/step - loss: 155.9056 - mse: 155.9056 - val_loss: 150.7429 - val_mse: 150.7429\n",
      "Epoch 25/30\n",
      "10/10 [==============================] - 0s 3ms/step - loss: 149.7862 - mse: 149.7862 - val_loss: 144.8899 - val_mse: 144.8899\n",
      "Epoch 26/30\n",
      "10/10 [==============================] - 0s 2ms/step - loss: 143.8951 - mse: 143.8951 - val_loss: 139.2179 - val_mse: 139.2179\n",
      "Epoch 27/30\n",
      "10/10 [==============================] - 0s 3ms/step - loss: 138.2475 - mse: 138.2475 - val_loss: 133.8556 - val_mse: 133.8556\n",
      "Epoch 28/30\n",
      "10/10 [==============================] - 0s 3ms/step - loss: 132.8103 - mse: 132.8103 - val_loss: 128.5423 - val_mse: 128.5423\n",
      "Epoch 29/30\n",
      "10/10 [==============================] - 0s 3ms/step - loss: 127.4669 - mse: 127.4669 - val_loss: 123.4806 - val_mse: 123.4806\n",
      "Epoch 30/30\n",
      "10/10 [==============================] - 0s 3ms/step - loss: 122.4063 - mse: 122.4063 - val_loss: 118.6326 - val_mse: 118.6326\n",
      "3/3 [==============================] - 0s 997us/step\n"
     ]
    }
   ],
   "source": [
    "import numpy as np\n",
    "N_EPOCHS = 30\n",
    "\n",
    "history=model.fit(x=X_train, y=y_train, epochs=N_EPOCHS, batch_size=32,validation_data= (X_test,y_test))\n",
    "y_pred = model.predict(X_test)"
   ],
   "metadata": {
    "collapsed": false,
    "ExecuteTime": {
     "end_time": "2024-10-24T02:05:29.559259Z",
     "start_time": "2024-10-24T02:05:28.198457Z"
    }
   },
   "id": "2c4e98c3b2c5062f",
   "execution_count": 10
  },
  {
   "cell_type": "code",
   "outputs": [
    {
     "name": "stdout",
     "output_type": "stream",
     "text": [
      "3/3 [==============================] - 0s 1ms/step - loss: 118.6326 - mse: 118.6326\n"
     ]
    },
    {
     "data": {
      "text/plain": "[118.63257598876953, 118.63257598876953]"
     },
     "execution_count": 11,
     "metadata": {},
     "output_type": "execute_result"
    }
   ],
   "source": [
    "model.evaluate(X_test, y_test)"
   ],
   "metadata": {
    "collapsed": false,
    "ExecuteTime": {
     "end_time": "2024-10-24T02:05:29.607760Z",
     "start_time": "2024-10-24T02:05:29.560280Z"
    }
   },
   "id": "ae0f9a9c58b44941",
   "execution_count": 11
  }
 ],
 "metadata": {
  "kernelspec": {
   "display_name": "Python 3",
   "language": "python",
   "name": "python3"
  },
  "language_info": {
   "codemirror_mode": {
    "name": "ipython",
    "version": 2
   },
   "file_extension": ".py",
   "mimetype": "text/x-python",
   "name": "python",
   "nbconvert_exporter": "python",
   "pygments_lexer": "ipython2",
   "version": "2.7.6"
  }
 },
 "nbformat": 4,
 "nbformat_minor": 5
}
