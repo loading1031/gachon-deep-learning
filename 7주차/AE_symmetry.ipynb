{
 "cells": [
  {
   "cell_type": "code",
   "execution_count": 1,
   "id": "initial_id",
   "metadata": {
    "collapsed": true,
    "ExecuteTime": {
     "end_time": "2024-10-23T13:29:29.230572Z",
     "start_time": "2024-10-23T13:29:27.389285Z"
    }
   },
   "outputs": [],
   "source": [
    "import pandas as pd\n",
    "import numpy as np\n",
    "import matplotlib.pyplot as plt\n",
    "from sklearn.model_selection import train_test_split\n",
    "from tensorflow.keras.models import Model\n",
    "from tensorflow.keras.layers import Input, Dense\n",
    "from tensorflow.keras.optimizers import Adam"
   ]
  },
  {
   "cell_type": "code",
   "outputs": [
    {
     "data": {
      "text/plain": "   T_xacc_mean  T_xacc_max  T_xacc_min  T_xacc_var  T_xacc_std  T_xacc_skew  \\\n0     7.975714      8.1605      7.6823    0.014395    0.119981    -0.023319   \n1     7.978250      8.1763      7.8472    0.007551    0.086896     0.552416   \n2     7.970894      8.0860      7.8470    0.003092    0.055603     0.100538   \n3     7.938412      8.1083      7.6901    0.003763    0.061343    -0.231914   \n4     7.908930      8.1305      7.8322    0.001741    0.041731     2.042285   \n\n   T_yacc_mean  T_yacc_max  T_yacc_min  T_yacc_var  ...  LL_ymag_std  \\\n0     1.083150      1.1832     0.99744    0.002208  ...     0.000792   \n1     1.140865      1.2129     1.05810    0.000784  ...     0.000860   \n2     1.140962      1.2128     1.07960    0.000508  ...     0.000762   \n3     1.165260      1.3170     1.07870    0.002173  ...     0.000735   \n4     1.187504      1.2574     1.09450    0.000662  ...     0.000824   \n\n   LL_ymag_skew  LL_zmag_mean  LL_zmag_max  LL_zmag_min   LL_zmag_var  \\\n0      0.177075     -0.057119    -0.054963    -0.059241  6.778722e-07   \n1     -0.286918     -0.057268    -0.054945    -0.059589  7.032302e-07   \n2     -0.134430     -0.057068    -0.054711    -0.059065  6.268222e-07   \n3      0.021485     -0.056422    -0.053670    -0.058310  8.011245e-07   \n4     -0.148229     -0.055801    -0.053313    -0.057815  6.853423e-07   \n\n   LL_zmag_std  LL_zmag_skew  activity  people  \n0     0.000823      0.036729   sitting      p1  \n1     0.000839      0.347471   sitting      p1  \n2     0.000792      0.045579   sitting      p1  \n3     0.000895      0.240690   sitting      p1  \n4     0.000828      0.258429   sitting      p1  \n\n[5 rows x 272 columns]",
      "text/html": "<div>\n<style scoped>\n    .dataframe tbody tr th:only-of-type {\n        vertical-align: middle;\n    }\n\n    .dataframe tbody tr th {\n        vertical-align: top;\n    }\n\n    .dataframe thead th {\n        text-align: right;\n    }\n</style>\n<table border=\"1\" class=\"dataframe\">\n  <thead>\n    <tr style=\"text-align: right;\">\n      <th></th>\n      <th>T_xacc_mean</th>\n      <th>T_xacc_max</th>\n      <th>T_xacc_min</th>\n      <th>T_xacc_var</th>\n      <th>T_xacc_std</th>\n      <th>T_xacc_skew</th>\n      <th>T_yacc_mean</th>\n      <th>T_yacc_max</th>\n      <th>T_yacc_min</th>\n      <th>T_yacc_var</th>\n      <th>...</th>\n      <th>LL_ymag_std</th>\n      <th>LL_ymag_skew</th>\n      <th>LL_zmag_mean</th>\n      <th>LL_zmag_max</th>\n      <th>LL_zmag_min</th>\n      <th>LL_zmag_var</th>\n      <th>LL_zmag_std</th>\n      <th>LL_zmag_skew</th>\n      <th>activity</th>\n      <th>people</th>\n    </tr>\n  </thead>\n  <tbody>\n    <tr>\n      <th>0</th>\n      <td>7.975714</td>\n      <td>8.1605</td>\n      <td>7.6823</td>\n      <td>0.014395</td>\n      <td>0.119981</td>\n      <td>-0.023319</td>\n      <td>1.083150</td>\n      <td>1.1832</td>\n      <td>0.99744</td>\n      <td>0.002208</td>\n      <td>...</td>\n      <td>0.000792</td>\n      <td>0.177075</td>\n      <td>-0.057119</td>\n      <td>-0.054963</td>\n      <td>-0.059241</td>\n      <td>6.778722e-07</td>\n      <td>0.000823</td>\n      <td>0.036729</td>\n      <td>sitting</td>\n      <td>p1</td>\n    </tr>\n    <tr>\n      <th>1</th>\n      <td>7.978250</td>\n      <td>8.1763</td>\n      <td>7.8472</td>\n      <td>0.007551</td>\n      <td>0.086896</td>\n      <td>0.552416</td>\n      <td>1.140865</td>\n      <td>1.2129</td>\n      <td>1.05810</td>\n      <td>0.000784</td>\n      <td>...</td>\n      <td>0.000860</td>\n      <td>-0.286918</td>\n      <td>-0.057268</td>\n      <td>-0.054945</td>\n      <td>-0.059589</td>\n      <td>7.032302e-07</td>\n      <td>0.000839</td>\n      <td>0.347471</td>\n      <td>sitting</td>\n      <td>p1</td>\n    </tr>\n    <tr>\n      <th>2</th>\n      <td>7.970894</td>\n      <td>8.0860</td>\n      <td>7.8470</td>\n      <td>0.003092</td>\n      <td>0.055603</td>\n      <td>0.100538</td>\n      <td>1.140962</td>\n      <td>1.2128</td>\n      <td>1.07960</td>\n      <td>0.000508</td>\n      <td>...</td>\n      <td>0.000762</td>\n      <td>-0.134430</td>\n      <td>-0.057068</td>\n      <td>-0.054711</td>\n      <td>-0.059065</td>\n      <td>6.268222e-07</td>\n      <td>0.000792</td>\n      <td>0.045579</td>\n      <td>sitting</td>\n      <td>p1</td>\n    </tr>\n    <tr>\n      <th>3</th>\n      <td>7.938412</td>\n      <td>8.1083</td>\n      <td>7.6901</td>\n      <td>0.003763</td>\n      <td>0.061343</td>\n      <td>-0.231914</td>\n      <td>1.165260</td>\n      <td>1.3170</td>\n      <td>1.07870</td>\n      <td>0.002173</td>\n      <td>...</td>\n      <td>0.000735</td>\n      <td>0.021485</td>\n      <td>-0.056422</td>\n      <td>-0.053670</td>\n      <td>-0.058310</td>\n      <td>8.011245e-07</td>\n      <td>0.000895</td>\n      <td>0.240690</td>\n      <td>sitting</td>\n      <td>p1</td>\n    </tr>\n    <tr>\n      <th>4</th>\n      <td>7.908930</td>\n      <td>8.1305</td>\n      <td>7.8322</td>\n      <td>0.001741</td>\n      <td>0.041731</td>\n      <td>2.042285</td>\n      <td>1.187504</td>\n      <td>1.2574</td>\n      <td>1.09450</td>\n      <td>0.000662</td>\n      <td>...</td>\n      <td>0.000824</td>\n      <td>-0.148229</td>\n      <td>-0.055801</td>\n      <td>-0.053313</td>\n      <td>-0.057815</td>\n      <td>6.853423e-07</td>\n      <td>0.000828</td>\n      <td>0.258429</td>\n      <td>sitting</td>\n      <td>p1</td>\n    </tr>\n  </tbody>\n</table>\n<p>5 rows × 272 columns</p>\n</div>"
     },
     "execution_count": 2,
     "metadata": {},
     "output_type": "execute_result"
    }
   ],
   "source": [
    "# 1. 데이터 로드 및 전처리\n",
    "# 신용카드 데이터셋을 불러옵니다. \n",
    "\n",
    "df = pd.read_csv('../dataset/DSA_features.csv')\n",
    "df.head()"
   ],
   "metadata": {
    "collapsed": false,
    "ExecuteTime": {
     "end_time": "2024-10-23T13:29:29.465475Z",
     "start_time": "2024-10-23T13:29:29.233507Z"
    }
   },
   "id": "7423f3cc4d686259",
   "execution_count": 2
  },
  {
   "cell_type": "code",
   "outputs": [
    {
     "data": {
      "text/plain": "T_xacc_mean     float64\nT_xacc_max      float64\nT_xacc_min      float64\nT_xacc_var      float64\nT_xacc_std      float64\n                 ...   \nLL_zmag_var     float64\nLL_zmag_std     float64\nLL_zmag_skew    float64\nactivity         object\npeople           object\nLength: 272, dtype: object"
     },
     "execution_count": 3,
     "metadata": {},
     "output_type": "execute_result"
    }
   ],
   "source": [
    "df.dtypes"
   ],
   "metadata": {
    "collapsed": false,
    "ExecuteTime": {
     "end_time": "2024-10-23T13:29:29.469607Z",
     "start_time": "2024-10-23T13:29:29.466304Z"
    }
   },
   "id": "73f132ea3457ec67",
   "execution_count": 3
  },
  {
   "cell_type": "code",
   "outputs": [
    {
     "data": {
      "text/plain": "people\np1    1140\np2    1140\np3    1140\np4    1140\np5    1140\np6    1140\np7    1140\np8    1140\nName: count, dtype: int64"
     },
     "execution_count": 4,
     "metadata": {},
     "output_type": "execute_result"
    }
   ],
   "source": [
    "df['people'].value_counts()"
   ],
   "metadata": {
    "collapsed": false,
    "ExecuteTime": {
     "end_time": "2024-10-23T13:29:29.474200Z",
     "start_time": "2024-10-23T13:29:29.470438Z"
    }
   },
   "id": "c7c10a93403d51ed",
   "execution_count": 4
  },
  {
   "cell_type": "code",
   "outputs": [
    {
     "data": {
      "text/plain": "T_xacc_mean    float64\nT_xacc_max     float64\nT_xacc_min     float64\nT_xacc_var     float64\nT_xacc_std     float64\n                ...   \npeople_p4         bool\npeople_p5         bool\npeople_p6         bool\npeople_p7         bool\npeople_p8         bool\nLength: 278, dtype: object"
     },
     "execution_count": 5,
     "metadata": {},
     "output_type": "execute_result"
    }
   ],
   "source": [
    "data = pd.get_dummies(df, columns=['people'], drop_first=True)\n",
    "data.dtypes"
   ],
   "metadata": {
    "collapsed": false,
    "ExecuteTime": {
     "end_time": "2024-10-23T13:29:29.485717Z",
     "start_time": "2024-10-23T13:29:29.474885Z"
    }
   },
   "id": "518de5ecd31ce741",
   "execution_count": 5
  },
  {
   "cell_type": "code",
   "outputs": [],
   "source": [
    "## 원핫 인코딩한 부분은 activity까지 변경후 한번에 데이터 타입 통일"
   ],
   "metadata": {
    "collapsed": false,
    "ExecuteTime": {
     "end_time": "2024-10-23T13:29:29.488025Z",
     "start_time": "2024-10-23T13:29:29.486516Z"
    }
   },
   "id": "741296325c629590",
   "execution_count": 6
  },
  {
   "cell_type": "code",
   "outputs": [
    {
     "data": {
      "text/plain": "activity\nsitting                    480\nwalkingTreadmillIncline    480\njumping                    480\nrowing                     480\ncyclingVertical            480\ncyclingHorizontal          480\ncrossTrainer               480\nstepper                    480\nrunningTreadmill           480\nwalkingTreadmillFlat       480\nstanding                   480\nwalkingLot                 480\nmovingInElevator           480\nstandingInElevatorStill    480\ndecendingStairs            480\nascendingStairs            480\nlyingRigh                  480\nlyingBack                  480\nbasketBall                 480\nName: count, dtype: int64"
     },
     "execution_count": 7,
     "metadata": {},
     "output_type": "execute_result"
    }
   ],
   "source": [
    "data['activity'].value_counts()"
   ],
   "metadata": {
    "collapsed": false,
    "ExecuteTime": {
     "end_time": "2024-10-23T13:29:29.493004Z",
     "start_time": "2024-10-23T13:29:29.488774Z"
    }
   },
   "id": "7e8668a97cecd200",
   "execution_count": 7
  },
  {
   "cell_type": "code",
   "outputs": [
    {
     "data": {
      "text/plain": "   T_xacc_mean  T_xacc_max  T_xacc_min  T_xacc_var  T_xacc_std  T_xacc_skew  \\\n0     7.975714      8.1605      7.6823    0.014395    0.119981    -0.023319   \n1     7.978250      8.1763      7.8472    0.007551    0.086896     0.552416   \n2     7.970894      8.0860      7.8470    0.003092    0.055603     0.100538   \n3     7.938412      8.1083      7.6901    0.003763    0.061343    -0.231914   \n4     7.908930      8.1305      7.8322    0.001741    0.041731     2.042285   \n\n   T_yacc_mean  T_yacc_max  T_yacc_min  T_yacc_var  ...  LL_zmag_std  \\\n0     1.083150      1.1832     0.99744    0.002208  ...     0.000823   \n1     1.140865      1.2129     1.05810    0.000784  ...     0.000839   \n2     1.140962      1.2128     1.07960    0.000508  ...     0.000792   \n3     1.165260      1.3170     1.07870    0.002173  ...     0.000895   \n4     1.187504      1.2574     1.09450    0.000662  ...     0.000828   \n\n   LL_zmag_skew  people_p2  people_p3  people_p4  people_p5  people_p6  \\\n0      0.036729      False      False      False      False      False   \n1      0.347471      False      False      False      False      False   \n2      0.045579      False      False      False      False      False   \n3      0.240690      False      False      False      False      False   \n4      0.258429      False      False      False      False      False   \n\n   people_p7  people_p8  activity_group  \n0      False      False             NaN  \n1      False      False             NaN  \n2      False      False             NaN  \n3      False      False             NaN  \n4      False      False             NaN  \n\n[5 rows x 278 columns]",
      "text/html": "<div>\n<style scoped>\n    .dataframe tbody tr th:only-of-type {\n        vertical-align: middle;\n    }\n\n    .dataframe tbody tr th {\n        vertical-align: top;\n    }\n\n    .dataframe thead th {\n        text-align: right;\n    }\n</style>\n<table border=\"1\" class=\"dataframe\">\n  <thead>\n    <tr style=\"text-align: right;\">\n      <th></th>\n      <th>T_xacc_mean</th>\n      <th>T_xacc_max</th>\n      <th>T_xacc_min</th>\n      <th>T_xacc_var</th>\n      <th>T_xacc_std</th>\n      <th>T_xacc_skew</th>\n      <th>T_yacc_mean</th>\n      <th>T_yacc_max</th>\n      <th>T_yacc_min</th>\n      <th>T_yacc_var</th>\n      <th>...</th>\n      <th>LL_zmag_std</th>\n      <th>LL_zmag_skew</th>\n      <th>people_p2</th>\n      <th>people_p3</th>\n      <th>people_p4</th>\n      <th>people_p5</th>\n      <th>people_p6</th>\n      <th>people_p7</th>\n      <th>people_p8</th>\n      <th>activity_group</th>\n    </tr>\n  </thead>\n  <tbody>\n    <tr>\n      <th>0</th>\n      <td>7.975714</td>\n      <td>8.1605</td>\n      <td>7.6823</td>\n      <td>0.014395</td>\n      <td>0.119981</td>\n      <td>-0.023319</td>\n      <td>1.083150</td>\n      <td>1.1832</td>\n      <td>0.99744</td>\n      <td>0.002208</td>\n      <td>...</td>\n      <td>0.000823</td>\n      <td>0.036729</td>\n      <td>False</td>\n      <td>False</td>\n      <td>False</td>\n      <td>False</td>\n      <td>False</td>\n      <td>False</td>\n      <td>False</td>\n      <td>NaN</td>\n    </tr>\n    <tr>\n      <th>1</th>\n      <td>7.978250</td>\n      <td>8.1763</td>\n      <td>7.8472</td>\n      <td>0.007551</td>\n      <td>0.086896</td>\n      <td>0.552416</td>\n      <td>1.140865</td>\n      <td>1.2129</td>\n      <td>1.05810</td>\n      <td>0.000784</td>\n      <td>...</td>\n      <td>0.000839</td>\n      <td>0.347471</td>\n      <td>False</td>\n      <td>False</td>\n      <td>False</td>\n      <td>False</td>\n      <td>False</td>\n      <td>False</td>\n      <td>False</td>\n      <td>NaN</td>\n    </tr>\n    <tr>\n      <th>2</th>\n      <td>7.970894</td>\n      <td>8.0860</td>\n      <td>7.8470</td>\n      <td>0.003092</td>\n      <td>0.055603</td>\n      <td>0.100538</td>\n      <td>1.140962</td>\n      <td>1.2128</td>\n      <td>1.07960</td>\n      <td>0.000508</td>\n      <td>...</td>\n      <td>0.000792</td>\n      <td>0.045579</td>\n      <td>False</td>\n      <td>False</td>\n      <td>False</td>\n      <td>False</td>\n      <td>False</td>\n      <td>False</td>\n      <td>False</td>\n      <td>NaN</td>\n    </tr>\n    <tr>\n      <th>3</th>\n      <td>7.938412</td>\n      <td>8.1083</td>\n      <td>7.6901</td>\n      <td>0.003763</td>\n      <td>0.061343</td>\n      <td>-0.231914</td>\n      <td>1.165260</td>\n      <td>1.3170</td>\n      <td>1.07870</td>\n      <td>0.002173</td>\n      <td>...</td>\n      <td>0.000895</td>\n      <td>0.240690</td>\n      <td>False</td>\n      <td>False</td>\n      <td>False</td>\n      <td>False</td>\n      <td>False</td>\n      <td>False</td>\n      <td>False</td>\n      <td>NaN</td>\n    </tr>\n    <tr>\n      <th>4</th>\n      <td>7.908930</td>\n      <td>8.1305</td>\n      <td>7.8322</td>\n      <td>0.001741</td>\n      <td>0.041731</td>\n      <td>2.042285</td>\n      <td>1.187504</td>\n      <td>1.2574</td>\n      <td>1.09450</td>\n      <td>0.000662</td>\n      <td>...</td>\n      <td>0.000828</td>\n      <td>0.258429</td>\n      <td>False</td>\n      <td>False</td>\n      <td>False</td>\n      <td>False</td>\n      <td>False</td>\n      <td>False</td>\n      <td>False</td>\n      <td>NaN</td>\n    </tr>\n  </tbody>\n</table>\n<p>5 rows × 278 columns</p>\n</div>"
     },
     "execution_count": 8,
     "metadata": {},
     "output_type": "execute_result"
    }
   ],
   "source": [
    "LABELS = [\"Normal\", \"Fraud\"]\n",
    "\n",
    "activity_mapping = {\n",
    "    \"lyingRigh\": 0,\n",
    "    \"lyingBack\": 0,\n",
    "    \"rowing\": 1,\n",
    "}\n",
    "# activity 열을 해당 그룹으로 변환\n",
    "data['activity_group'] = data['activity'].map(activity_mapping)\n",
    "data = data.drop(['activity'], axis=1)\n",
    "data.head()"
   ],
   "metadata": {
    "collapsed": false,
    "ExecuteTime": {
     "end_time": "2024-10-23T13:29:29.506098Z",
     "start_time": "2024-10-23T13:29:29.493857Z"
    }
   },
   "id": "e66c3c9b15ae4b54",
   "execution_count": 8
  },
  {
   "cell_type": "code",
   "outputs": [
    {
     "data": {
      "text/plain": "True"
     },
     "execution_count": 9,
     "metadata": {},
     "output_type": "execute_result"
    }
   ],
   "source": [
    "# 결측치 홗인\n",
    "data['activity_group'].isnull().values.any()"
   ],
   "metadata": {
    "collapsed": false,
    "ExecuteTime": {
     "end_time": "2024-10-23T13:29:29.509926Z",
     "start_time": "2024-10-23T13:29:29.506783Z"
    }
   },
   "id": "e36be13457838d48",
   "execution_count": 9
  },
  {
   "cell_type": "code",
   "outputs": [],
   "source": [
    "data=data.dropna()"
   ],
   "metadata": {
    "collapsed": false,
    "ExecuteTime": {
     "end_time": "2024-10-23T13:29:29.518780Z",
     "start_time": "2024-10-23T13:29:29.510831Z"
    }
   },
   "id": "2de54ec366c1523",
   "execution_count": 10
  },
  {
   "cell_type": "code",
   "outputs": [
    {
     "data": {
      "text/plain": "False"
     },
     "execution_count": 11,
     "metadata": {},
     "output_type": "execute_result"
    }
   ],
   "source": [
    "# 결측치 홗인\n",
    "data['activity_group'].isnull().values.any()"
   ],
   "metadata": {
    "collapsed": false,
    "ExecuteTime": {
     "end_time": "2024-10-23T13:29:29.522748Z",
     "start_time": "2024-10-23T13:29:29.519456Z"
    }
   },
   "id": "8bc38f9c986ff92a",
   "execution_count": 11
  },
  {
   "cell_type": "code",
   "outputs": [
    {
     "data": {
      "text/plain": "T_xacc_mean       float32\nT_xacc_max        float32\nT_xacc_min        float32\nT_xacc_var        float32\nT_xacc_std        float32\n                   ...   \npeople_p5         float32\npeople_p6         float32\npeople_p7         float32\npeople_p8         float32\nactivity_group    float32\nLength: 278, dtype: object"
     },
     "execution_count": 12,
     "metadata": {},
     "output_type": "execute_result"
    }
   ],
   "source": [
    "## 데이터타입 float 통일\n",
    "data =data.astype('float32')\n",
    "data.dtypes"
   ],
   "metadata": {
    "collapsed": false,
    "ExecuteTime": {
     "end_time": "2024-10-23T13:29:29.527617Z",
     "start_time": "2024-10-23T13:29:29.523357Z"
    }
   },
   "id": "57779c30c5dbaf5",
   "execution_count": 12
  },
  {
   "cell_type": "code",
   "outputs": [
    {
     "data": {
      "text/plain": "<Figure size 640x480 with 1 Axes>",
      "image/png": "[encoded data removed]"
     },
     "metadata": {},
     "output_type": "display_data"
    }
   ],
   "source": [
    "count_classes = data['activity_group'].value_counts(sort=True)\n",
    "count_classes.plot(kind='bar', rot=0)\n",
    "plt.title(\"Activity class distribution\")\n",
    "plt.xticks(range(2), LABELS)  # LABELS의 키값으로 레이블 설정\n",
    "plt.xlabel(\"Activity Group\")\n",
    "plt.ylabel(\"Frequency\")\n",
    "plt.show()"
   ],
   "metadata": {
    "collapsed": false,
    "ExecuteTime": {
     "end_time": "2024-10-23T13:29:29.613002Z",
     "start_time": "2024-10-23T13:29:29.528149Z"
    }
   },
   "id": "52e234d43e295d8e",
   "execution_count": 13
  },
  {
   "cell_type": "code",
   "outputs": [
    {
     "data": {
      "text/plain": "(480, 278)"
     },
     "execution_count": 14,
     "metadata": {},
     "output_type": "execute_result"
    }
   ],
   "source": [
    "frauds = data[data.activity_group == 1]\n",
    "normal = data[data.activity_group == 0]\n",
    "frauds.shape"
   ],
   "metadata": {
    "collapsed": false,
    "ExecuteTime": {
     "end_time": "2024-10-23T13:29:29.619502Z",
     "start_time": "2024-10-23T13:29:29.614237Z"
    }
   },
   "id": "2c0b98bc2cfe30b3",
   "execution_count": 14
  },
  {
   "cell_type": "code",
   "outputs": [
    {
     "data": {
      "text/plain": "(960, 278)"
     },
     "execution_count": 15,
     "metadata": {},
     "output_type": "execute_result"
    }
   ],
   "source": [
    "normal.shape"
   ],
   "metadata": {
    "collapsed": false,
    "ExecuteTime": {
     "end_time": "2024-10-23T13:29:29.624792Z",
     "start_time": "2024-10-23T13:29:29.620632Z"
    }
   },
   "id": "ad5b6bbea904d973",
   "execution_count": 15
  },
  {
   "cell_type": "markdown",
   "source": [
    "### 모델을 오직 정상 기록으로만 훈련\n",
    "### 비정상 기록을 테스트 셋에 넣으면 모델의 성능을 평가"
   ],
   "metadata": {
    "collapsed": false
   },
   "id": "4a5b06764b50026"
  },
  {
   "cell_type": "code",
   "outputs": [],
   "source": [
    "RANDOM_SEED = 42"
   ],
   "metadata": {
    "collapsed": false,
    "ExecuteTime": {
     "end_time": "2024-10-23T13:29:29.633367Z",
     "start_time": "2024-10-23T13:29:29.630674Z"
    }
   },
   "id": "fba8265be4593c2b",
   "execution_count": 16
  },
  {
   "cell_type": "code",
   "outputs": [
    {
     "name": "stdout",
     "output_type": "stream",
     "text": [
      "T_xacc_mean    float32\n",
      "T_xacc_max     float32\n",
      "T_xacc_min     float32\n",
      "T_xacc_var     float32\n",
      "T_xacc_std     float32\n",
      "                ...   \n",
      "people_p4      float32\n",
      "people_p5      float32\n",
      "people_p6      float32\n",
      "people_p7      float32\n",
      "people_p8      float32\n",
      "Length: 277, dtype: object\n",
      "(480, 277)\n",
      "(960, 277)\n"
     ]
    }
   ],
   "source": [
    "# Normal 데이터를 50%로 나눠 학습 및 테스트 세트 생성\n",
    "X_train, Normal_test = train_test_split(normal, test_size=0.5, random_state=RANDOM_SEED)\n",
    "\n",
    "# 학습용 X_train에서 'activity_group' 열 제거\n",
    "X_train = X_train.drop(['activity_group'], axis=1)\n",
    "\n",
    "# 정상 테스트 세트와 사기 데이터를 테스트 세트에 합치기 (X, y 분리)\n",
    "X_test = pd.concat([Normal_test.drop(['activity_group'], axis=1), frauds.drop(['activity_group'], axis=1)])\n",
    "\n",
    "# 테스트 세트 레이블 합치기\n",
    "y_test = pd.concat([Normal_test['activity_group'], frauds['activity_group']])\n",
    "\n",
    "# 데이터 타입 확인\n",
    "print(X_train.dtypes)\n",
    "\n",
    "X_train = X_train.values\n",
    "X_test = X_test.values\n",
    "# 테스트 레이블을 남겨두는 이유는 나중에 정확도를 비교하기 위해서임\n",
    "print(X_train.shape)\n",
    "print(X_test.shape)"
   ],
   "metadata": {
    "collapsed": false,
    "ExecuteTime": {
     "end_time": "2024-10-23T13:29:29.936522Z",
     "start_time": "2024-10-23T13:29:29.928573Z"
    }
   },
   "id": "8c4ae4a316fe7f13",
   "execution_count": 17
  },
  {
   "cell_type": "code",
   "outputs": [
    {
     "name": "stderr",
     "output_type": "stream",
     "text": [
      "WARNING:absl:At this time, the v2.11+ optimizer `tf.keras.optimizers.Adam` runs slowly on M1/M2 Macs, please use the legacy Keras optimizer instead, located at `tf.keras.optimizers.legacy.Adam`.\n",
      "WARNING:absl:There is a known slowdown when using v2.11+ Keras optimizers on M1/M2 Macs. Falling back to the legacy Keras optimizer, i.e., `tf.keras.optimizers.legacy.Adam`.\n"
     ]
    }
   ],
   "source": [
    "# 오토인코더 모델\n",
    "\n",
    "input_dim = X_train.shape[1]\n",
    "encoding_dim = 14  # 인코딩 차원을 설정 (임의로 설정한 값, 조정 가능)\n",
    "\n",
    "input_layer = Input(shape=(input_dim,))\n",
    "encoded = Dense(encoding_dim, activation='relu')(input_layer)\n",
    "encoded = Dense(int(encoding_dim / 2), activation='relu')(encoded)\n",
    "decoded = Dense(int(encoding_dim / 2), activation='relu')(encoded)\n",
    "decoded = Dense(encoding_dim, activation='relu')(encoded)\n",
    "decoded = Dense(input_dim, activation='sigmoid')(decoded)\n",
    "\n",
    "autoencoder = Model(inputs=input_layer, outputs=decoded)\n",
    "autoencoder.compile(optimizer=Adam(learning_rate=0.001), loss='mse')"
   ],
   "metadata": {
    "collapsed": false,
    "ExecuteTime": {
     "end_time": "2024-10-23T13:29:30.183562Z",
     "start_time": "2024-10-23T13:29:30.138290Z"
    }
   },
   "id": "846e9b1af46a8b50",
   "execution_count": 18
  },
  {
   "cell_type": "code",
   "outputs": [
    {
     "name": "stdout",
     "output_type": "stream",
     "text": [
      "Epoch 1/50\n",
      "1/2 [==============>...............] - ETA: 0s - loss: 5.5768"
     ]
    },
    {
     "name": "stderr",
     "output_type": "stream",
     "text": [
      "2024-10-23 22:29:30.861885: W tensorflow/tsl/platform/profile_utils/cpu_utils.cc:128] Failed to get CPU frequency: 0 Hz\n"
     ]
    },
    {
     "name": "stdout",
     "output_type": "stream",
     "text": [
      "2/2 [==============================] - 0s 69ms/step - loss: 5.5609 - val_loss: 5.5370\n",
      "Epoch 2/50\n",
      "2/2 [==============================] - 0s 14ms/step - loss: 5.5478 - val_loss: 5.5276\n",
      "Epoch 3/50\n",
      "2/2 [==============================] - 0s 15ms/step - loss: 5.5367 - val_loss: 5.5182\n",
      "Epoch 4/50\n",
      "2/2 [==============================] - 0s 15ms/step - loss: 5.5264 - val_loss: 5.5077\n",
      "Epoch 5/50\n",
      "2/2 [==============================] - 0s 15ms/step - loss: 5.5157 - val_loss: 5.4952\n",
      "Epoch 6/50\n",
      "2/2 [==============================] - 0s 13ms/step - loss: 5.5041 - val_loss: 5.4802\n",
      "Epoch 7/50\n",
      "2/2 [==============================] - 0s 13ms/step - loss: 5.4903 - val_loss: 5.4624\n",
      "Epoch 8/50\n",
      "2/2 [==============================] - 0s 13ms/step - loss: 5.4742 - val_loss: 5.4411\n",
      "Epoch 9/50\n",
      "2/2 [==============================] - 0s 13ms/step - loss: 5.4555 - val_loss: 5.4166\n",
      "Epoch 10/50\n",
      "2/2 [==============================] - 0s 14ms/step - loss: 5.4336 - val_loss: 5.3888\n",
      "Epoch 11/50\n",
      "2/2 [==============================] - 0s 15ms/step - loss: 5.4092 - val_loss: 5.3573\n",
      "Epoch 12/50\n",
      "2/2 [==============================] - 0s 14ms/step - loss: 5.3817 - val_loss: 5.3228\n",
      "Epoch 13/50\n",
      "2/2 [==============================] - 0s 14ms/step - loss: 5.3520 - val_loss: 5.2860\n",
      "Epoch 14/50\n",
      "2/2 [==============================] - 0s 14ms/step - loss: 5.3199 - val_loss: 5.2478\n",
      "Epoch 15/50\n",
      "2/2 [==============================] - 0s 12ms/step - loss: 5.2866 - val_loss: 5.2088\n",
      "Epoch 16/50\n",
      "2/2 [==============================] - 0s 13ms/step - loss: 5.2523 - val_loss: 5.1700\n",
      "Epoch 17/50\n",
      "2/2 [==============================] - 0s 13ms/step - loss: 5.2176 - val_loss: 5.1319\n",
      "Epoch 18/50\n",
      "2/2 [==============================] - 0s 12ms/step - loss: 5.1831 - val_loss: 5.0946\n",
      "Epoch 19/50\n",
      "2/2 [==============================] - 0s 13ms/step - loss: 5.1485 - val_loss: 5.0586\n",
      "Epoch 20/50\n",
      "2/2 [==============================] - 0s 13ms/step - loss: 5.1144 - val_loss: 5.0242\n",
      "Epoch 21/50\n",
      "2/2 [==============================] - 0s 13ms/step - loss: 5.0812 - val_loss: 4.9915\n",
      "Epoch 22/50\n",
      "2/2 [==============================] - 0s 13ms/step - loss: 5.0487 - val_loss: 4.9607\n",
      "Epoch 23/50\n",
      "2/2 [==============================] - 0s 14ms/step - loss: 5.0176 - val_loss: 4.9320\n",
      "Epoch 24/50\n",
      "2/2 [==============================] - 0s 14ms/step - loss: 4.9877 - val_loss: 4.9054\n",
      "Epoch 25/50\n",
      "2/2 [==============================] - 0s 14ms/step - loss: 4.9594 - val_loss: 4.8808\n",
      "Epoch 26/50\n",
      "2/2 [==============================] - 0s 17ms/step - loss: 4.9325 - val_loss: 4.8582\n",
      "Epoch 27/50\n",
      "2/2 [==============================] - 0s 16ms/step - loss: 4.9077 - val_loss: 4.8376\n",
      "Epoch 28/50\n",
      "2/2 [==============================] - 0s 14ms/step - loss: 4.8845 - val_loss: 4.8188\n",
      "Epoch 29/50\n",
      "2/2 [==============================] - 0s 13ms/step - loss: 4.8632 - val_loss: 4.8019\n",
      "Epoch 30/50\n",
      "2/2 [==============================] - 0s 15ms/step - loss: 4.8434 - val_loss: 4.7868\n",
      "Epoch 31/50\n",
      "2/2 [==============================] - 0s 13ms/step - loss: 4.8262 - val_loss: 4.7733\n",
      "Epoch 32/50\n",
      "2/2 [==============================] - 0s 20ms/step - loss: 4.8103 - val_loss: 4.7613\n",
      "Epoch 33/50\n",
      "2/2 [==============================] - 0s 14ms/step - loss: 4.7963 - val_loss: 4.7509\n",
      "Epoch 34/50\n",
      "2/2 [==============================] - 0s 14ms/step - loss: 4.7842 - val_loss: 4.7419\n",
      "Epoch 35/50\n",
      "2/2 [==============================] - 0s 13ms/step - loss: 4.7739 - val_loss: 4.7343\n",
      "Epoch 36/50\n",
      "2/2 [==============================] - 0s 12ms/step - loss: 4.7652 - val_loss: 4.7278\n",
      "Epoch 37/50\n",
      "2/2 [==============================] - 0s 13ms/step - loss: 4.7577 - val_loss: 4.7223\n",
      "Epoch 38/50\n",
      "2/2 [==============================] - 0s 13ms/step - loss: 4.7513 - val_loss: 4.7177\n",
      "Epoch 39/50\n",
      "2/2 [==============================] - 0s 13ms/step - loss: 4.7459 - val_loss: 4.7137\n",
      "Epoch 40/50\n",
      "2/2 [==============================] - 0s 13ms/step - loss: 4.7413 - val_loss: 4.7103\n",
      "Epoch 41/50\n",
      "2/2 [==============================] - 0s 14ms/step - loss: 4.7373 - val_loss: 4.7073\n",
      "Epoch 42/50\n",
      "2/2 [==============================] - 0s 14ms/step - loss: 4.7339 - val_loss: 4.7046\n",
      "Epoch 43/50\n",
      "2/2 [==============================] - 0s 14ms/step - loss: 4.7306 - val_loss: 4.7023\n",
      "Epoch 44/50\n",
      "2/2 [==============================] - 0s 14ms/step - loss: 4.7279 - val_loss: 4.7002\n",
      "Epoch 45/50\n",
      "2/2 [==============================] - 0s 14ms/step - loss: 4.7254 - val_loss: 4.6983\n",
      "Epoch 46/50\n",
      "2/2 [==============================] - 0s 14ms/step - loss: 4.7231 - val_loss: 4.6966\n",
      "Epoch 47/50\n",
      "2/2 [==============================] - 0s 16ms/step - loss: 4.7212 - val_loss: 4.6951\n",
      "Epoch 48/50\n",
      "2/2 [==============================] - 0s 16ms/step - loss: 4.7194 - val_loss: 4.6937\n",
      "Epoch 49/50\n",
      "2/2 [==============================] - 0s 15ms/step - loss: 4.7178 - val_loss: 4.6924\n",
      "Epoch 50/50\n",
      "2/2 [==============================] - 0s 16ms/step - loss: 4.7163 - val_loss: 4.6910\n"
     ]
    }
   ],
   "source": [
    "# 3. 모델 학습\n",
    "# 훈련데이터의 0.1 을 validation data로 사용\n",
    "history = autoencoder.fit(X_train, X_train, \n",
    "                          epochs=50, \n",
    "                          batch_size=256, \n",
    "                          shuffle=True, \n",
    "                          validation_split = 0.1)"
   ],
   "metadata": {
    "collapsed": false,
    "ExecuteTime": {
     "end_time": "2024-10-23T13:29:31.925015Z",
     "start_time": "2024-10-23T13:29:30.833480Z"
    }
   },
   "id": "ded688fa4d2ec970",
   "execution_count": 19
  },
  {
   "cell_type": "code",
   "outputs": [
    {
     "data": {
      "text/plain": "<Figure size 640x480 with 1 Axes>",
      "image/png": "[encoded data removed]"
     },
     "metadata": {},
     "output_type": "display_data"
    }
   ],
   "source": [
    "plt.plot(history.history['loss'])\n",
    "plt.plot(history.history['val_loss'])\n",
    "plt.title('model loss')\n",
    "plt.ylabel('loss')\n",
    "plt.xlabel('epoch')\n",
    "plt.legend(['train', 'test'], loc='upper right');"
   ],
   "metadata": {
    "collapsed": false,
    "ExecuteTime": {
     "end_time": "2024-10-23T13:29:32.038567Z",
     "start_time": "2024-10-23T13:29:31.927601Z"
    }
   },
   "id": "a6e36e185050996",
   "execution_count": 20
  },
  {
   "cell_type": "code",
   "outputs": [
    {
     "name": "stdout",
     "output_type": "stream",
     "text": [
      "30/30 [==============================] - 0s 510us/step\n"
     ]
    },
    {
     "data": {
      "text/plain": "       reconstruction_error  true_class\ncount            960.000000  960.000000\nmean               9.386863    0.500000\nstd                6.296990    0.500261\nmin                4.412983    0.000000\n25%                4.699064    0.000000\n50%                6.951271    0.500000\n75%               11.911757    1.000000\nmax               45.861565    1.000000",
      "text/html": "<div>\n<style scoped>\n    .dataframe tbody tr th:only-of-type {\n        vertical-align: middle;\n    }\n\n    .dataframe tbody tr th {\n        vertical-align: top;\n    }\n\n    .dataframe thead th {\n        text-align: right;\n    }\n</style>\n<table border=\"1\" class=\"dataframe\">\n  <thead>\n    <tr style=\"text-align: right;\">\n      <th></th>\n      <th>reconstruction_error</th>\n      <th>true_class</th>\n    </tr>\n  </thead>\n  <tbody>\n    <tr>\n      <th>count</th>\n      <td>960.000000</td>\n      <td>960.000000</td>\n    </tr>\n    <tr>\n      <th>mean</th>\n      <td>9.386863</td>\n      <td>0.500000</td>\n    </tr>\n    <tr>\n      <th>std</th>\n      <td>6.296990</td>\n      <td>0.500261</td>\n    </tr>\n    <tr>\n      <th>min</th>\n      <td>4.412983</td>\n      <td>0.000000</td>\n    </tr>\n    <tr>\n      <th>25%</th>\n      <td>4.699064</td>\n      <td>0.000000</td>\n    </tr>\n    <tr>\n      <th>50%</th>\n      <td>6.951271</td>\n      <td>0.500000</td>\n    </tr>\n    <tr>\n      <th>75%</th>\n      <td>11.911757</td>\n      <td>1.000000</td>\n    </tr>\n    <tr>\n      <th>max</th>\n      <td>45.861565</td>\n      <td>1.000000</td>\n    </tr>\n  </tbody>\n</table>\n</div>"
     },
     "execution_count": 21,
     "metadata": {},
     "output_type": "execute_result"
    }
   ],
   "source": [
    "# X_test 값을 넣어서 Reconstruction Error 값을 얻고,\n",
    "# 실제 레이블인 y_test와 데이터프레임으로 구성\n",
    "# Reconstruction Error + 실제 레이블의 형태가 됨\n",
    "\n",
    "predictions = autoencoder.predict(X_test)\n",
    "mse = np.mean(np.power(X_test - predictions, 2), axis=1)\n",
    "error_df = pd.DataFrame({'reconstruction_error': mse,\n",
    "                        'true_class': y_test})\n",
    "error_df.describe()"
   ],
   "metadata": {
    "collapsed": false,
    "ExecuteTime": {
     "end_time": "2024-10-23T13:29:32.125135Z",
     "start_time": "2024-10-23T13:29:32.040089Z"
    }
   },
   "id": "bc8c8c9f0e33abb6",
   "execution_count": 21
  },
  {
   "cell_type": "code",
   "outputs": [
    {
     "data": {
      "text/plain": "      reconstruction_error  true_class\n1796              4.876761         0.0\n1437              4.437646         0.0\n1310              4.566233         0.0\n1853              4.743412         0.0\n1883              4.843678         0.0",
      "text/html": "<div>\n<style scoped>\n    .dataframe tbody tr th:only-of-type {\n        vertical-align: middle;\n    }\n\n    .dataframe tbody tr th {\n        vertical-align: top;\n    }\n\n    .dataframe thead th {\n        text-align: right;\n    }\n</style>\n<table border=\"1\" class=\"dataframe\">\n  <thead>\n    <tr style=\"text-align: right;\">\n      <th></th>\n      <th>reconstruction_error</th>\n      <th>true_class</th>\n    </tr>\n  </thead>\n  <tbody>\n    <tr>\n      <th>1796</th>\n      <td>4.876761</td>\n      <td>0.0</td>\n    </tr>\n    <tr>\n      <th>1437</th>\n      <td>4.437646</td>\n      <td>0.0</td>\n    </tr>\n    <tr>\n      <th>1310</th>\n      <td>4.566233</td>\n      <td>0.0</td>\n    </tr>\n    <tr>\n      <th>1853</th>\n      <td>4.743412</td>\n      <td>0.0</td>\n    </tr>\n    <tr>\n      <th>1883</th>\n      <td>4.843678</td>\n      <td>0.0</td>\n    </tr>\n  </tbody>\n</table>\n</div>"
     },
     "execution_count": 22,
     "metadata": {},
     "output_type": "execute_result"
    }
   ],
   "source": [
    "error_df.head()"
   ],
   "metadata": {
    "collapsed": false,
    "ExecuteTime": {
     "end_time": "2024-10-23T13:29:32.132163Z",
     "start_time": "2024-10-23T13:29:32.127120Z"
    }
   },
   "id": "4ed3440685b33a2d",
   "execution_count": 22
  },
  {
   "cell_type": "code",
   "outputs": [],
   "source": [
    "# threshold 값을 조정하여 최선의 정확도를 얻음, 그래프로를 보고 결정\n",
    "\n",
    "threshold = 7"
   ],
   "metadata": {
    "collapsed": false,
    "ExecuteTime": {
     "end_time": "2024-10-23T13:29:32.135605Z",
     "start_time": "2024-10-23T13:29:32.133021Z"
    }
   },
   "id": "d617ca1ce1845d52",
   "execution_count": 23
  },
  {
   "cell_type": "code",
   "outputs": [
    {
     "data": {
      "text/plain": "<Figure size 640x480 with 1 Axes>",
      "image/png": "[encoded data removed]"
     },
     "metadata": {},
     "output_type": "display_data"
    }
   ],
   "source": [
    "groups = error_df.groupby('true_class')\n",
    "fig, ax = plt.subplots()\n",
    "\n",
    "for name, group in groups:\n",
    "    ax.plot(group.index, group.reconstruction_error, marker='o', ms=3.5, linestyle='',\n",
    "            label= \"Fraud\" if name == 1 else \"Normal\")\n",
    "ax.hlines(threshold, ax.get_xlim()[0], ax.get_xlim()[1], colors=\"r\", zorder=20, label='Threshold')\n",
    "ax.legend()\n",
    "plt.title(\"Reconstruction error for different classes\")\n",
    "plt.ylabel(\"Reconstruction error\")\n",
    "plt.xlabel(\"Data point index\")\n",
    "plt.show();"
   ],
   "metadata": {
    "collapsed": false,
    "ExecuteTime": {
     "end_time": "2024-10-23T13:29:32.313378Z",
     "start_time": "2024-10-23T13:29:32.205052Z"
    }
   },
   "id": "e3c64548b06e55ac",
   "execution_count": 24
  },
  {
   "cell_type": "code",
   "outputs": [
    {
     "data": {
      "text/plain": "<Figure size 800x800 with 2 Axes>",
      "image/png": "[encoded data removed]"
     },
     "metadata": {},
     "output_type": "display_data"
    },
    {
     "name": "stdout",
     "output_type": "stream",
     "text": [
      "              precision    recall  f1-score   support\n",
      "\n",
      "         0.0       0.99      0.99      0.99       480\n",
      "         1.0       0.99      0.99      0.99       480\n",
      "\n",
      "    accuracy                           0.99       960\n",
      "   macro avg       0.99      0.99      0.99       960\n",
      "weighted avg       0.99      0.99      0.99       960\n"
     ]
    }
   ],
   "source": [
    "from sklearn.metrics import confusion_matrix, classification_report\n",
    "import seaborn as sns\n",
    "\n",
    "y_pred = [1 if e > threshold else 0 for e in error_df.reconstruction_error.values]\n",
    "conf_matrix = confusion_matrix(error_df.true_class, y_pred)\n",
    "plt.figure(figsize=(8, 8))\n",
    "sns.heatmap(conf_matrix, xticklabels=LABELS, yticklabels=LABELS, annot=True, fmt=\"d\")\n",
    "plt.title(\"Confusion matrix\")\n",
    "plt.ylabel('True class')\n",
    "plt.xlabel('Predicted class')\n",
    "plt.show()\n",
    "\n",
    "print(classification_report(error_df.true_class, y_pred))"
   ],
   "metadata": {
    "collapsed": false,
    "ExecuteTime": {
     "end_time": "2024-10-23T13:29:32.606953Z",
     "start_time": "2024-10-23T13:29:32.511683Z"
    }
   },
   "id": "a91ac953561be1c1",
   "execution_count": 25
  }
 ],
 "metadata": {
  "kernelspec": {
   "display_name": "Python 3",
   "language": "python",
   "name": "python3"
  },
  "language_info": {
   "codemirror_mode": {
    "name": "ipython",
    "version": 2
   },
   "file_extension": ".py",
   "mimetype": "text/x-python",
   "name": "python",
   "nbconvert_exporter": "python",
   "pygments_lexer": "ipython2",
   "version": "2.7.6"
  }
 },
 "nbformat": 4,
 "nbformat_minor": 5
}
