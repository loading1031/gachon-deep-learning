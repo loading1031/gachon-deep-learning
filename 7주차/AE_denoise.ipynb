{
 "cells": [
  {
   "cell_type": "code",
   "execution_count": 1,
   "id": "initial_id",
   "metadata": {
    "collapsed": true,
    "ExecuteTime": {
     "end_time": "2024-10-23T13:10:27.085660Z",
     "start_time": "2024-10-23T13:10:25.211673Z"
    }
   },
   "outputs": [],
   "source": [
    "import pandas as pd\n",
    "import numpy as np\n",
    "import matplotlib.pyplot as plt\n",
    "from sklearn.model_selection import train_test_split\n",
    "from tensorflow.keras.models import Model\n",
    "from tensorflow.keras.layers import Input, Dense\n",
    "from tensorflow.keras.optimizers import Adam"
   ]
  },
  {
   "cell_type": "code",
   "outputs": [
    {
     "data": {
      "text/plain": "   T_xacc_mean  T_xacc_max  T_xacc_min  T_xacc_var  T_xacc_std  T_xacc_skew  \\\n0     7.975714      8.1605      7.6823    0.014395    0.119981    -0.023319   \n1     7.978250      8.1763      7.8472    0.007551    0.086896     0.552416   \n2     7.970894      8.0860      7.8470    0.003092    0.055603     0.100538   \n3     7.938412      8.1083      7.6901    0.003763    0.061343    -0.231914   \n4     7.908930      8.1305      7.8322    0.001741    0.041731     2.042285   \n\n   T_yacc_mean  T_yacc_max  T_yacc_min  T_yacc_var  ...  LL_ymag_std  \\\n0     1.083150      1.1832     0.99744    0.002208  ...     0.000792   \n1     1.140865      1.2129     1.05810    0.000784  ...     0.000860   \n2     1.140962      1.2128     1.07960    0.000508  ...     0.000762   \n3     1.165260      1.3170     1.07870    0.002173  ...     0.000735   \n4     1.187504      1.2574     1.09450    0.000662  ...     0.000824   \n\n   LL_ymag_skew  LL_zmag_mean  LL_zmag_max  LL_zmag_min   LL_zmag_var  \\\n0      0.177075     -0.057119    -0.054963    -0.059241  6.778722e-07   \n1     -0.286918     -0.057268    -0.054945    -0.059589  7.032302e-07   \n2     -0.134430     -0.057068    -0.054711    -0.059065  6.268222e-07   \n3      0.021485     -0.056422    -0.053670    -0.058310  8.011245e-07   \n4     -0.148229     -0.055801    -0.053313    -0.057815  6.853423e-07   \n\n   LL_zmag_std  LL_zmag_skew  activity  people  \n0     0.000823      0.036729   sitting      p1  \n1     0.000839      0.347471   sitting      p1  \n2     0.000792      0.045579   sitting      p1  \n3     0.000895      0.240690   sitting      p1  \n4     0.000828      0.258429   sitting      p1  \n\n[5 rows x 272 columns]",
      "text/html": "<div>\n<style scoped>\n    .dataframe tbody tr th:only-of-type {\n        vertical-align: middle;\n    }\n\n    .dataframe tbody tr th {\n        vertical-align: top;\n    }\n\n    .dataframe thead th {\n        text-align: right;\n    }\n</style>\n<table border=\"1\" class=\"dataframe\">\n  <thead>\n    <tr style=\"text-align: right;\">\n      <th></th>\n      <th>T_xacc_mean</th>\n      <th>T_xacc_max</th>\n      <th>T_xacc_min</th>\n      <th>T_xacc_var</th>\n      <th>T_xacc_std</th>\n      <th>T_xacc_skew</th>\n      <th>T_yacc_mean</th>\n      <th>T_yacc_max</th>\n      <th>T_yacc_min</th>\n      <th>T_yacc_var</th>\n      <th>...</th>\n      <th>LL_ymag_std</th>\n      <th>LL_ymag_skew</th>\n      <th>LL_zmag_mean</th>\n      <th>LL_zmag_max</th>\n      <th>LL_zmag_min</th>\n      <th>LL_zmag_var</th>\n      <th>LL_zmag_std</th>\n      <th>LL_zmag_skew</th>\n      <th>activity</th>\n      <th>people</th>\n    </tr>\n  </thead>\n  <tbody>\n    <tr>\n      <th>0</th>\n      <td>7.975714</td>\n      <td>8.1605</td>\n      <td>7.6823</td>\n      <td>0.014395</td>\n      <td>0.119981</td>\n      <td>-0.023319</td>\n      <td>1.083150</td>\n      <td>1.1832</td>\n      <td>0.99744</td>\n      <td>0.002208</td>\n      <td>...</td>\n      <td>0.000792</td>\n      <td>0.177075</td>\n      <td>-0.057119</td>\n      <td>-0.054963</td>\n      <td>-0.059241</td>\n      <td>6.778722e-07</td>\n      <td>0.000823</td>\n      <td>0.036729</td>\n      <td>sitting</td>\n      <td>p1</td>\n    </tr>\n    <tr>\n      <th>1</th>\n      <td>7.978250</td>\n      <td>8.1763</td>\n      <td>7.8472</td>\n      <td>0.007551</td>\n      <td>0.086896</td>\n      <td>0.552416</td>\n      <td>1.140865</td>\n      <td>1.2129</td>\n      <td>1.05810</td>\n      <td>0.000784</td>\n      <td>...</td>\n      <td>0.000860</td>\n      <td>-0.286918</td>\n      <td>-0.057268</td>\n      <td>-0.054945</td>\n      <td>-0.059589</td>\n      <td>7.032302e-07</td>\n      <td>0.000839</td>\n      <td>0.347471</td>\n      <td>sitting</td>\n      <td>p1</td>\n    </tr>\n    <tr>\n      <th>2</th>\n      <td>7.970894</td>\n      <td>8.0860</td>\n      <td>7.8470</td>\n      <td>0.003092</td>\n      <td>0.055603</td>\n      <td>0.100538</td>\n      <td>1.140962</td>\n      <td>1.2128</td>\n      <td>1.07960</td>\n      <td>0.000508</td>\n      <td>...</td>\n      <td>0.000762</td>\n      <td>-0.134430</td>\n      <td>-0.057068</td>\n      <td>-0.054711</td>\n      <td>-0.059065</td>\n      <td>6.268222e-07</td>\n      <td>0.000792</td>\n      <td>0.045579</td>\n      <td>sitting</td>\n      <td>p1</td>\n    </tr>\n    <tr>\n      <th>3</th>\n      <td>7.938412</td>\n      <td>8.1083</td>\n      <td>7.6901</td>\n      <td>0.003763</td>\n      <td>0.061343</td>\n      <td>-0.231914</td>\n      <td>1.165260</td>\n      <td>1.3170</td>\n      <td>1.07870</td>\n      <td>0.002173</td>\n      <td>...</td>\n      <td>0.000735</td>\n      <td>0.021485</td>\n      <td>-0.056422</td>\n      <td>-0.053670</td>\n      <td>-0.058310</td>\n      <td>8.011245e-07</td>\n      <td>0.000895</td>\n      <td>0.240690</td>\n      <td>sitting</td>\n      <td>p1</td>\n    </tr>\n    <tr>\n      <th>4</th>\n      <td>7.908930</td>\n      <td>8.1305</td>\n      <td>7.8322</td>\n      <td>0.001741</td>\n      <td>0.041731</td>\n      <td>2.042285</td>\n      <td>1.187504</td>\n      <td>1.2574</td>\n      <td>1.09450</td>\n      <td>0.000662</td>\n      <td>...</td>\n      <td>0.000824</td>\n      <td>-0.148229</td>\n      <td>-0.055801</td>\n      <td>-0.053313</td>\n      <td>-0.057815</td>\n      <td>6.853423e-07</td>\n      <td>0.000828</td>\n      <td>0.258429</td>\n      <td>sitting</td>\n      <td>p1</td>\n    </tr>\n  </tbody>\n</table>\n<p>5 rows × 272 columns</p>\n</div>"
     },
     "execution_count": 2,
     "metadata": {},
     "output_type": "execute_result"
    }
   ],
   "source": [
    "# 1. 데이터 로드 및 전처리\n",
    "# 신용카드 데이터셋을 불러옵니다. \n",
    "\n",
    "df = pd.read_csv('../dataset/DSA_features.csv')\n",
    "df.head()"
   ],
   "metadata": {
    "collapsed": false,
    "ExecuteTime": {
     "end_time": "2024-10-23T13:10:27.317458Z",
     "start_time": "2024-10-23T13:10:27.086626Z"
    }
   },
   "id": "7423f3cc4d686259",
   "execution_count": 2
  },
  {
   "cell_type": "code",
   "outputs": [
    {
     "data": {
      "text/plain": "T_xacc_mean     float64\nT_xacc_max      float64\nT_xacc_min      float64\nT_xacc_var      float64\nT_xacc_std      float64\n                 ...   \nLL_zmag_var     float64\nLL_zmag_std     float64\nLL_zmag_skew    float64\nactivity         object\npeople           object\nLength: 272, dtype: object"
     },
     "execution_count": 3,
     "metadata": {},
     "output_type": "execute_result"
    }
   ],
   "source": [
    "df.dtypes"
   ],
   "metadata": {
    "collapsed": false,
    "ExecuteTime": {
     "end_time": "2024-10-23T13:10:27.321255Z",
     "start_time": "2024-10-23T13:10:27.318223Z"
    }
   },
   "id": "73f132ea3457ec67",
   "execution_count": 3
  },
  {
   "cell_type": "code",
   "outputs": [
    {
     "data": {
      "text/plain": "people\np1    1140\np2    1140\np3    1140\np4    1140\np5    1140\np6    1140\np7    1140\np8    1140\nName: count, dtype: int64"
     },
     "execution_count": 4,
     "metadata": {},
     "output_type": "execute_result"
    }
   ],
   "source": [
    "df['people'].value_counts()"
   ],
   "metadata": {
    "collapsed": false,
    "ExecuteTime": {
     "end_time": "2024-10-23T13:10:27.326766Z",
     "start_time": "2024-10-23T13:10:27.323068Z"
    }
   },
   "id": "c7c10a93403d51ed",
   "execution_count": 4
  },
  {
   "cell_type": "code",
   "outputs": [
    {
     "data": {
      "text/plain": "T_xacc_mean    float64\nT_xacc_max     float64\nT_xacc_min     float64\nT_xacc_var     float64\nT_xacc_std     float64\n                ...   \npeople_p4         bool\npeople_p5         bool\npeople_p6         bool\npeople_p7         bool\npeople_p8         bool\nLength: 278, dtype: object"
     },
     "execution_count": 5,
     "metadata": {},
     "output_type": "execute_result"
    }
   ],
   "source": [
    "data = pd.get_dummies(df, columns=['people'], drop_first=True)\n",
    "data.dtypes"
   ],
   "metadata": {
    "collapsed": false,
    "ExecuteTime": {
     "end_time": "2024-10-23T13:10:27.343038Z",
     "start_time": "2024-10-23T13:10:27.327484Z"
    }
   },
   "id": "518de5ecd31ce741",
   "execution_count": 5
  },
  {
   "cell_type": "code",
   "outputs": [],
   "source": [
    "## 원핫 인코딩한 부분은 activity까지 변경후 한번에 데이터 타입 통일"
   ],
   "metadata": {
    "collapsed": false,
    "ExecuteTime": {
     "end_time": "2024-10-23T13:10:27.346377Z",
     "start_time": "2024-10-23T13:10:27.344149Z"
    }
   },
   "id": "741296325c629590",
   "execution_count": 6
  },
  {
   "cell_type": "code",
   "outputs": [
    {
     "data": {
      "text/plain": "activity\nsitting                    480\nwalkingTreadmillIncline    480\njumping                    480\nrowing                     480\ncyclingVertical            480\ncyclingHorizontal          480\ncrossTrainer               480\nstepper                    480\nrunningTreadmill           480\nwalkingTreadmillFlat       480\nstanding                   480\nwalkingLot                 480\nmovingInElevator           480\nstandingInElevatorStill    480\ndecendingStairs            480\nascendingStairs            480\nlyingRigh                  480\nlyingBack                  480\nbasketBall                 480\nName: count, dtype: int64"
     },
     "execution_count": 7,
     "metadata": {},
     "output_type": "execute_result"
    }
   ],
   "source": [
    "data['activity'].value_counts()"
   ],
   "metadata": {
    "collapsed": false,
    "ExecuteTime": {
     "end_time": "2024-10-23T13:10:27.351325Z",
     "start_time": "2024-10-23T13:10:27.347238Z"
    }
   },
   "id": "7e8668a97cecd200",
   "execution_count": 7
  },
  {
   "cell_type": "code",
   "outputs": [
    {
     "data": {
      "text/plain": "   T_xacc_mean  T_xacc_max  T_xacc_min  T_xacc_var  T_xacc_std  T_xacc_skew  \\\n0     7.975714      8.1605      7.6823    0.014395    0.119981    -0.023319   \n1     7.978250      8.1763      7.8472    0.007551    0.086896     0.552416   \n2     7.970894      8.0860      7.8470    0.003092    0.055603     0.100538   \n3     7.938412      8.1083      7.6901    0.003763    0.061343    -0.231914   \n4     7.908930      8.1305      7.8322    0.001741    0.041731     2.042285   \n\n   T_yacc_mean  T_yacc_max  T_yacc_min  T_yacc_var  ...  LL_zmag_std  \\\n0     1.083150      1.1832     0.99744    0.002208  ...     0.000823   \n1     1.140865      1.2129     1.05810    0.000784  ...     0.000839   \n2     1.140962      1.2128     1.07960    0.000508  ...     0.000792   \n3     1.165260      1.3170     1.07870    0.002173  ...     0.000895   \n4     1.187504      1.2574     1.09450    0.000662  ...     0.000828   \n\n   LL_zmag_skew  people_p2  people_p3  people_p4  people_p5  people_p6  \\\n0      0.036729      False      False      False      False      False   \n1      0.347471      False      False      False      False      False   \n2      0.045579      False      False      False      False      False   \n3      0.240690      False      False      False      False      False   \n4      0.258429      False      False      False      False      False   \n\n   people_p7  people_p8  activity_group  \n0      False      False             NaN  \n1      False      False             NaN  \n2      False      False             NaN  \n3      False      False             NaN  \n4      False      False             NaN  \n\n[5 rows x 278 columns]",
      "text/html": "<div>\n<style scoped>\n    .dataframe tbody tr th:only-of-type {\n        vertical-align: middle;\n    }\n\n    .dataframe tbody tr th {\n        vertical-align: top;\n    }\n\n    .dataframe thead th {\n        text-align: right;\n    }\n</style>\n<table border=\"1\" class=\"dataframe\">\n  <thead>\n    <tr style=\"text-align: right;\">\n      <th></th>\n      <th>T_xacc_mean</th>\n      <th>T_xacc_max</th>\n      <th>T_xacc_min</th>\n      <th>T_xacc_var</th>\n      <th>T_xacc_std</th>\n      <th>T_xacc_skew</th>\n      <th>T_yacc_mean</th>\n      <th>T_yacc_max</th>\n      <th>T_yacc_min</th>\n      <th>T_yacc_var</th>\n      <th>...</th>\n      <th>LL_zmag_std</th>\n      <th>LL_zmag_skew</th>\n      <th>people_p2</th>\n      <th>people_p3</th>\n      <th>people_p4</th>\n      <th>people_p5</th>\n      <th>people_p6</th>\n      <th>people_p7</th>\n      <th>people_p8</th>\n      <th>activity_group</th>\n    </tr>\n  </thead>\n  <tbody>\n    <tr>\n      <th>0</th>\n      <td>7.975714</td>\n      <td>8.1605</td>\n      <td>7.6823</td>\n      <td>0.014395</td>\n      <td>0.119981</td>\n      <td>-0.023319</td>\n      <td>1.083150</td>\n      <td>1.1832</td>\n      <td>0.99744</td>\n      <td>0.002208</td>\n      <td>...</td>\n      <td>0.000823</td>\n      <td>0.036729</td>\n      <td>False</td>\n      <td>False</td>\n      <td>False</td>\n      <td>False</td>\n      <td>False</td>\n      <td>False</td>\n      <td>False</td>\n      <td>NaN</td>\n    </tr>\n    <tr>\n      <th>1</th>\n      <td>7.978250</td>\n      <td>8.1763</td>\n      <td>7.8472</td>\n      <td>0.007551</td>\n      <td>0.086896</td>\n      <td>0.552416</td>\n      <td>1.140865</td>\n      <td>1.2129</td>\n      <td>1.05810</td>\n      <td>0.000784</td>\n      <td>...</td>\n      <td>0.000839</td>\n      <td>0.347471</td>\n      <td>False</td>\n      <td>False</td>\n      <td>False</td>\n      <td>False</td>\n      <td>False</td>\n      <td>False</td>\n      <td>False</td>\n      <td>NaN</td>\n    </tr>\n    <tr>\n      <th>2</th>\n      <td>7.970894</td>\n      <td>8.0860</td>\n      <td>7.8470</td>\n      <td>0.003092</td>\n      <td>0.055603</td>\n      <td>0.100538</td>\n      <td>1.140962</td>\n      <td>1.2128</td>\n      <td>1.07960</td>\n      <td>0.000508</td>\n      <td>...</td>\n      <td>0.000792</td>\n      <td>0.045579</td>\n      <td>False</td>\n      <td>False</td>\n      <td>False</td>\n      <td>False</td>\n      <td>False</td>\n      <td>False</td>\n      <td>False</td>\n      <td>NaN</td>\n    </tr>\n    <tr>\n      <th>3</th>\n      <td>7.938412</td>\n      <td>8.1083</td>\n      <td>7.6901</td>\n      <td>0.003763</td>\n      <td>0.061343</td>\n      <td>-0.231914</td>\n      <td>1.165260</td>\n      <td>1.3170</td>\n      <td>1.07870</td>\n      <td>0.002173</td>\n      <td>...</td>\n      <td>0.000895</td>\n      <td>0.240690</td>\n      <td>False</td>\n      <td>False</td>\n      <td>False</td>\n      <td>False</td>\n      <td>False</td>\n      <td>False</td>\n      <td>False</td>\n      <td>NaN</td>\n    </tr>\n    <tr>\n      <th>4</th>\n      <td>7.908930</td>\n      <td>8.1305</td>\n      <td>7.8322</td>\n      <td>0.001741</td>\n      <td>0.041731</td>\n      <td>2.042285</td>\n      <td>1.187504</td>\n      <td>1.2574</td>\n      <td>1.09450</td>\n      <td>0.000662</td>\n      <td>...</td>\n      <td>0.000828</td>\n      <td>0.258429</td>\n      <td>False</td>\n      <td>False</td>\n      <td>False</td>\n      <td>False</td>\n      <td>False</td>\n      <td>False</td>\n      <td>False</td>\n      <td>NaN</td>\n    </tr>\n  </tbody>\n</table>\n<p>5 rows × 278 columns</p>\n</div>"
     },
     "execution_count": 8,
     "metadata": {},
     "output_type": "execute_result"
    }
   ],
   "source": [
    "LABELS = [\"Normal\", \"Fraud\"]\n",
    "\n",
    "activity_mapping = {\n",
    "    \"lyingRigh\": 0,\n",
    "    \"lyingBack\": 0,\n",
    "    \"rowing\": 1,\n",
    "}\n",
    "# activity 열을 해당 그룹으로 변환\n",
    "data['activity_group'] = data['activity'].map(activity_mapping)\n",
    "data = data.drop(['activity'], axis=1)\n",
    "data.head()"
   ],
   "metadata": {
    "collapsed": false,
    "ExecuteTime": {
     "end_time": "2024-10-23T13:10:27.365160Z",
     "start_time": "2024-10-23T13:10:27.352094Z"
    }
   },
   "id": "e66c3c9b15ae4b54",
   "execution_count": 8
  },
  {
   "cell_type": "code",
   "outputs": [
    {
     "data": {
      "text/plain": "True"
     },
     "execution_count": 9,
     "metadata": {},
     "output_type": "execute_result"
    }
   ],
   "source": [
    "# 결측치 홗인\n",
    "data['activity_group'].isnull().values.any()"
   ],
   "metadata": {
    "collapsed": false,
    "ExecuteTime": {
     "end_time": "2024-10-23T13:10:27.368980Z",
     "start_time": "2024-10-23T13:10:27.366108Z"
    }
   },
   "id": "e36be13457838d48",
   "execution_count": 9
  },
  {
   "cell_type": "code",
   "outputs": [],
   "source": [
    "data=data.dropna()"
   ],
   "metadata": {
    "collapsed": false,
    "ExecuteTime": {
     "end_time": "2024-10-23T13:10:27.377168Z",
     "start_time": "2024-10-23T13:10:27.370718Z"
    }
   },
   "id": "2de54ec366c1523",
   "execution_count": 10
  },
  {
   "cell_type": "code",
   "outputs": [
    {
     "data": {
      "text/plain": "False"
     },
     "execution_count": 11,
     "metadata": {},
     "output_type": "execute_result"
    }
   ],
   "source": [
    "# 결측치 홗인\n",
    "data['activity_group'].isnull().values.any()"
   ],
   "metadata": {
    "collapsed": false,
    "ExecuteTime": {
     "end_time": "2024-10-23T13:10:27.380502Z",
     "start_time": "2024-10-23T13:10:27.377745Z"
    }
   },
   "id": "8bc38f9c986ff92a",
   "execution_count": 11
  },
  {
   "cell_type": "code",
   "outputs": [
    {
     "data": {
      "text/plain": "T_xacc_mean       float32\nT_xacc_max        float32\nT_xacc_min        float32\nT_xacc_var        float32\nT_xacc_std        float32\n                   ...   \npeople_p5         float32\npeople_p6         float32\npeople_p7         float32\npeople_p8         float32\nactivity_group    float32\nLength: 278, dtype: object"
     },
     "execution_count": 12,
     "metadata": {},
     "output_type": "execute_result"
    }
   ],
   "source": [
    "## 데이터타입 float 통일\n",
    "data =data.astype('float32')\n",
    "data.dtypes"
   ],
   "metadata": {
    "collapsed": false,
    "ExecuteTime": {
     "end_time": "2024-10-23T13:10:27.545293Z",
     "start_time": "2024-10-23T13:10:27.539852Z"
    }
   },
   "id": "57779c30c5dbaf5",
   "execution_count": 12
  },
  {
   "cell_type": "code",
   "outputs": [
    {
     "data": {
      "text/plain": "<Figure size 640x480 with 1 Axes>",
      "image/png": "[encoded data removed]"
     },
     "metadata": {},
     "output_type": "display_data"
    }
   ],
   "source": [
    "count_classes = data['activity_group'].value_counts(sort=True)\n",
    "count_classes.plot(kind='bar', rot=0)\n",
    "plt.title(\"Activity class distribution\")\n",
    "plt.xticks(range(2), LABELS)  # LABELS의 키값으로 레이블 설정\n",
    "plt.xlabel(\"Activity Group\")\n",
    "plt.ylabel(\"Frequency\")\n",
    "plt.show()"
   ],
   "metadata": {
    "collapsed": false,
    "ExecuteTime": {
     "end_time": "2024-10-23T13:10:27.833059Z",
     "start_time": "2024-10-23T13:10:27.742614Z"
    }
   },
   "id": "52e234d43e295d8e",
   "execution_count": 13
  },
  {
   "cell_type": "code",
   "outputs": [
    {
     "data": {
      "text/plain": "(480, 278)"
     },
     "execution_count": 14,
     "metadata": {},
     "output_type": "execute_result"
    }
   ],
   "source": [
    "frauds = data[data.activity_group == 1]\n",
    "normal = data[data.activity_group == 0]\n",
    "frauds.shape"
   ],
   "metadata": {
    "collapsed": false,
    "ExecuteTime": {
     "end_time": "2024-10-23T13:10:28.062857Z",
     "start_time": "2024-10-23T13:10:28.059517Z"
    }
   },
   "id": "2c0b98bc2cfe30b3",
   "execution_count": 14
  },
  {
   "cell_type": "code",
   "outputs": [
    {
     "data": {
      "text/plain": "(960, 278)"
     },
     "execution_count": 15,
     "metadata": {},
     "output_type": "execute_result"
    }
   ],
   "source": [
    "normal.shape"
   ],
   "metadata": {
    "collapsed": false,
    "ExecuteTime": {
     "end_time": "2024-10-23T13:10:28.507831Z",
     "start_time": "2024-10-23T13:10:28.505478Z"
    }
   },
   "id": "ad5b6bbea904d973",
   "execution_count": 15
  },
  {
   "cell_type": "markdown",
   "source": [
    "### 모델을 오직 정상 기록으로만 훈련\n",
    "### noise 정상 기록을 테스트셋에 추가하고 모델의 성능을 평가"
   ],
   "metadata": {
    "collapsed": false
   },
   "id": "4a5b06764b50026"
  },
  {
   "cell_type": "code",
   "outputs": [],
   "source": [
    "RANDOM_SEED = 42"
   ],
   "metadata": {
    "collapsed": false,
    "ExecuteTime": {
     "end_time": "2024-10-23T13:10:28.661873Z",
     "start_time": "2024-10-23T13:10:28.660167Z"
    }
   },
   "id": "fba8265be4593c2b",
   "execution_count": 16
  },
  {
   "cell_type": "code",
   "outputs": [
    {
     "name": "stdout",
     "output_type": "stream",
     "text": [
      "T_xacc_mean    float32\n",
      "T_xacc_max     float32\n",
      "T_xacc_min     float32\n",
      "T_xacc_var     float32\n",
      "T_xacc_std     float32\n",
      "                ...   \n",
      "people_p4      float32\n",
      "people_p5      float32\n",
      "people_p6      float32\n",
      "people_p7      float32\n",
      "people_p8      float32\n",
      "Length: 277, dtype: object\n",
      "(480, 277)\n",
      "(960, 277)\n"
     ]
    }
   ],
   "source": [
    "# Normal 데이터를 50%로 나눠 학습 및 테스트 세트 생성\n",
    "X_train, X_test = train_test_split(normal, test_size=0.5, random_state=RANDOM_SEED)\n",
    "# Normal 데이터 중 50%에 noise 데이터로 분류\n",
    "normal_test, noise_test = train_test_split(X_test, test_size=0.5, random_state=RANDOM_SEED)\n",
    "\n",
    "# 학습용 X_train에서 'activity_group' 열 제거\n",
    "X_train = X_train.drop(['activity_group'], axis=1)\n",
    "\n",
    "# noise_test에 noise 추가\n",
    "noise_factor = 0.2\n",
    "noise_test = noise_test + noise_factor * np.random.normal(loc=0.0, scale=1.0, size=noise_test.shape)\n",
    "# 레이블에는 오차가 안들어가게 복구\n",
    "noise_test['activity_group'] = 0\n",
    "\n",
    "# 정상(+노이즈 정상) 테스트 세트와 사기 데이터를 테스트 세트에 합치기 (X, y 분리)\n",
    "X_test = pd.concat([normal_test.drop(['activity_group'], axis=1), noise_test.drop(['activity_group'], axis=1), frauds.drop(['activity_group'], axis=1)])\n",
    "\n",
    "# 테스트 세트 레이블 합치기\n",
    "y_test = pd.concat([normal_test['activity_group'], noise_test['activity_group'], frauds['activity_group']])\n",
    "\n",
    "# 데이터 타입 확인\n",
    "print(X_train.dtypes)\n",
    "\n",
    "X_train = X_train.values\n",
    "X_test = X_test.values\n",
    "# 테스트 레이블을 남겨두는 이유는 나중에 정확도를 비교하기 위해서임\n",
    "print(X_train.shape)\n",
    "print(X_test.shape)"
   ],
   "metadata": {
    "collapsed": false,
    "ExecuteTime": {
     "end_time": "2024-10-23T13:10:28.832245Z",
     "start_time": "2024-10-23T13:10:28.820693Z"
    }
   },
   "id": "8c4ae4a316fe7f13",
   "execution_count": 17
  },
  {
   "cell_type": "code",
   "outputs": [
    {
     "name": "stderr",
     "output_type": "stream",
     "text": [
      "WARNING:absl:At this time, the v2.11+ optimizer `tf.keras.optimizers.Adam` runs slowly on M1/M2 Macs, please use the legacy Keras optimizer instead, located at `tf.keras.optimizers.legacy.Adam`.\n",
      "WARNING:absl:There is a known slowdown when using v2.11+ Keras optimizers on M1/M2 Macs. Falling back to the legacy Keras optimizer, i.e., `tf.keras.optimizers.legacy.Adam`.\n"
     ]
    }
   ],
   "source": [
    "# 오토인코더 모델\n",
    "\n",
    "input_dim = X_train.shape[1]\n",
    "encoding_dim = 14  # 인코딩 차원을 설정 (임의로 설정한 값, 조정 가능)\n",
    "\n",
    "input_layer = Input(shape=(input_dim,))\n",
    "encoded = Dense(encoding_dim, activation='relu')(input_layer)\n",
    "encoded = Dense(int(encoding_dim / 2), activation='relu')(encoded)\n",
    "decoded = Dense(int(encoding_dim / 2), activation='relu')(encoded)\n",
    "decoded = Dense(encoding_dim, activation='relu')(encoded)\n",
    "decoded = Dense(input_dim, activation='sigmoid')(decoded)\n",
    "\n",
    "autoencoder = Model(inputs=input_layer, outputs=decoded)\n",
    "autoencoder.compile(optimizer=Adam(learning_rate=0.001), loss='mse')"
   ],
   "metadata": {
    "collapsed": false,
    "ExecuteTime": {
     "end_time": "2024-10-23T13:10:29.129219Z",
     "start_time": "2024-10-23T13:10:29.008312Z"
    }
   },
   "id": "846e9b1af46a8b50",
   "execution_count": 18
  },
  {
   "cell_type": "code",
   "outputs": [
    {
     "name": "stdout",
     "output_type": "stream",
     "text": [
      "Epoch 1/50\n",
      "1/2 [==============>...............] - ETA: 0s - loss: 5.5588"
     ]
    },
    {
     "name": "stderr",
     "output_type": "stream",
     "text": [
      "2024-10-23 22:10:29.441660: W tensorflow/tsl/platform/profile_utils/cpu_utils.cc:128] Failed to get CPU frequency: 0 Hz\n"
     ]
    },
    {
     "name": "stdout",
     "output_type": "stream",
     "text": [
      "2/2 [==============================] - 0s 64ms/step - loss: 5.5447 - val_loss: 5.5315\n",
      "Epoch 2/50\n",
      "2/2 [==============================] - 0s 13ms/step - loss: 5.5351 - val_loss: 5.5199\n",
      "Epoch 3/50\n",
      "2/2 [==============================] - 0s 14ms/step - loss: 5.5256 - val_loss: 5.5078\n",
      "Epoch 4/50\n",
      "2/2 [==============================] - 0s 14ms/step - loss: 5.5154 - val_loss: 5.4940\n",
      "Epoch 5/50\n",
      "2/2 [==============================] - 0s 15ms/step - loss: 5.5038 - val_loss: 5.4786\n",
      "Epoch 6/50\n",
      "2/2 [==============================] - 0s 15ms/step - loss: 5.4908 - val_loss: 5.4619\n",
      "Epoch 7/50\n",
      "2/2 [==============================] - 0s 13ms/step - loss: 5.4762 - val_loss: 5.4433\n",
      "Epoch 8/50\n",
      "2/2 [==============================] - 0s 13ms/step - loss: 5.4605 - val_loss: 5.4228\n",
      "Epoch 9/50\n",
      "2/2 [==============================] - 0s 19ms/step - loss: 5.4424 - val_loss: 5.4001\n",
      "Epoch 10/50\n",
      "2/2 [==============================] - 0s 12ms/step - loss: 5.4227 - val_loss: 5.3749\n",
      "Epoch 11/50\n",
      "2/2 [==============================] - 0s 12ms/step - loss: 5.4001 - val_loss: 5.3473\n",
      "Epoch 12/50\n",
      "2/2 [==============================] - 0s 13ms/step - loss: 5.3759 - val_loss: 5.3173\n",
      "Epoch 13/50\n",
      "2/2 [==============================] - 0s 12ms/step - loss: 5.3490 - val_loss: 5.2853\n",
      "Epoch 14/50\n",
      "2/2 [==============================] - 0s 13ms/step - loss: 5.3206 - val_loss: 5.2514\n",
      "Epoch 15/50\n",
      "2/2 [==============================] - 0s 12ms/step - loss: 5.2900 - val_loss: 5.2162\n",
      "Epoch 16/50\n",
      "2/2 [==============================] - 0s 12ms/step - loss: 5.2576 - val_loss: 5.1799\n",
      "Epoch 17/50\n",
      "2/2 [==============================] - 0s 12ms/step - loss: 5.2239 - val_loss: 5.1429\n",
      "Epoch 18/50\n",
      "2/2 [==============================] - 0s 12ms/step - loss: 5.1892 - val_loss: 5.1060\n",
      "Epoch 19/50\n",
      "2/2 [==============================] - 0s 14ms/step - loss: 5.1539 - val_loss: 5.0696\n",
      "Epoch 20/50\n",
      "2/2 [==============================] - 0s 12ms/step - loss: 5.1188 - val_loss: 5.0340\n",
      "Epoch 21/50\n",
      "2/2 [==============================] - 0s 13ms/step - loss: 5.0838 - val_loss: 4.9997\n",
      "Epoch 22/50\n",
      "2/2 [==============================] - 0s 13ms/step - loss: 5.0496 - val_loss: 4.9669\n",
      "Epoch 23/50\n",
      "2/2 [==============================] - 0s 13ms/step - loss: 5.0164 - val_loss: 4.9358\n",
      "Epoch 24/50\n",
      "2/2 [==============================] - 0s 12ms/step - loss: 4.9846 - val_loss: 4.9066\n",
      "Epoch 25/50\n",
      "2/2 [==============================] - 0s 14ms/step - loss: 4.9544 - val_loss: 4.8794\n",
      "Epoch 26/50\n",
      "2/2 [==============================] - 0s 14ms/step - loss: 4.9258 - val_loss: 4.8542\n",
      "Epoch 27/50\n",
      "2/2 [==============================] - 0s 15ms/step - loss: 4.8993 - val_loss: 4.8313\n",
      "Epoch 28/50\n",
      "2/2 [==============================] - 0s 13ms/step - loss: 4.8747 - val_loss: 4.8108\n",
      "Epoch 29/50\n",
      "2/2 [==============================] - 0s 13ms/step - loss: 4.8530 - val_loss: 4.7927\n",
      "Epoch 30/50\n",
      "2/2 [==============================] - 0s 12ms/step - loss: 4.8336 - val_loss: 4.7771\n",
      "Epoch 31/50\n",
      "2/2 [==============================] - 0s 13ms/step - loss: 4.8165 - val_loss: 4.7639\n",
      "Epoch 32/50\n",
      "2/2 [==============================] - 0s 12ms/step - loss: 4.8021 - val_loss: 4.7529\n",
      "Epoch 33/50\n",
      "2/2 [==============================] - 0s 13ms/step - loss: 4.7897 - val_loss: 4.7438\n",
      "Epoch 34/50\n",
      "2/2 [==============================] - 0s 12ms/step - loss: 4.7797 - val_loss: 4.7364\n",
      "Epoch 35/50\n",
      "2/2 [==============================] - 0s 12ms/step - loss: 4.7713 - val_loss: 4.7304\n",
      "Epoch 36/50\n",
      "2/2 [==============================] - 0s 12ms/step - loss: 4.7645 - val_loss: 4.7256\n",
      "Epoch 37/50\n",
      "2/2 [==============================] - 0s 13ms/step - loss: 4.7589 - val_loss: 4.7217\n",
      "Epoch 38/50\n",
      "2/2 [==============================] - 0s 12ms/step - loss: 4.7543 - val_loss: 4.7184\n",
      "Epoch 39/50\n",
      "2/2 [==============================] - 0s 13ms/step - loss: 4.7504 - val_loss: 4.7158\n",
      "Epoch 40/50\n",
      "2/2 [==============================] - 0s 12ms/step - loss: 4.7473 - val_loss: 4.7135\n",
      "Epoch 41/50\n",
      "2/2 [==============================] - 0s 13ms/step - loss: 4.7446 - val_loss: 4.7115\n",
      "Epoch 42/50\n",
      "2/2 [==============================] - 0s 12ms/step - loss: 4.7421 - val_loss: 4.7098\n",
      "Epoch 43/50\n",
      "2/2 [==============================] - 0s 13ms/step - loss: 4.7400 - val_loss: 4.7083\n",
      "Epoch 44/50\n",
      "2/2 [==============================] - 0s 12ms/step - loss: 4.7382 - val_loss: 4.7069\n",
      "Epoch 45/50\n",
      "2/2 [==============================] - 0s 13ms/step - loss: 4.7365 - val_loss: 4.7057\n",
      "Epoch 46/50\n",
      "2/2 [==============================] - 0s 12ms/step - loss: 4.7350 - val_loss: 4.7045\n",
      "Epoch 47/50\n",
      "2/2 [==============================] - 0s 13ms/step - loss: 4.7336 - val_loss: 4.7034\n",
      "Epoch 48/50\n",
      "2/2 [==============================] - 0s 13ms/step - loss: 4.7322 - val_loss: 4.7023\n",
      "Epoch 49/50\n",
      "2/2 [==============================] - 0s 14ms/step - loss: 4.7308 - val_loss: 4.7013\n",
      "Epoch 50/50\n",
      "2/2 [==============================] - 0s 12ms/step - loss: 4.7295 - val_loss: 4.7004\n"
     ]
    }
   ],
   "source": [
    "# 3. 모델 학습\n",
    "# 훈련데이터의 0.1 을 validation data로 사용\n",
    "history = autoencoder.fit(X_train, X_train, \n",
    "                          epochs=50, \n",
    "                          batch_size=256, \n",
    "                          shuffle=True, \n",
    "                          validation_split = 0.1)"
   ],
   "metadata": {
    "collapsed": false,
    "ExecuteTime": {
     "end_time": "2024-10-23T13:10:30.428437Z",
     "start_time": "2024-10-23T13:10:29.412202Z"
    }
   },
   "id": "ded688fa4d2ec970",
   "execution_count": 19
  },
  {
   "cell_type": "code",
   "outputs": [
    {
     "data": {
      "text/plain": "<Figure size 640x480 with 1 Axes>",
      "image/png": "[encoded data removed]"
     },
     "metadata": {},
     "output_type": "display_data"
    }
   ],
   "source": [
    "plt.plot(history.history['loss'])\n",
    "plt.plot(history.history['val_loss'])\n",
    "plt.title('model loss')\n",
    "plt.ylabel('loss')\n",
    "plt.xlabel('epoch')\n",
    "plt.legend(['train', 'valid'], loc='upper right');"
   ],
   "metadata": {
    "collapsed": false,
    "ExecuteTime": {
     "end_time": "2024-10-23T13:10:30.728183Z",
     "start_time": "2024-10-23T13:10:30.630430Z"
    }
   },
   "id": "a6e36e185050996",
   "execution_count": 20
  },
  {
   "cell_type": "code",
   "outputs": [
    {
     "name": "stdout",
     "output_type": "stream",
     "text": [
      "30/30 [==============================] - 0s 329us/step\n"
     ]
    },
    {
     "data": {
      "text/plain": "       reconstruction_error  true_class\ncount            960.000000  960.000000\nmean               9.415419    0.500000\nstd                6.294146    0.500261\nmin                4.401001    0.000000\n25%                4.693345    0.000000\n50%                6.968537    0.500000\n75%               11.930094    1.000000\nmax               45.944473    1.000000",
      "text/html": "<div>\n<style scoped>\n    .dataframe tbody tr th:only-of-type {\n        vertical-align: middle;\n    }\n\n    .dataframe tbody tr th {\n        vertical-align: top;\n    }\n\n    .dataframe thead th {\n        text-align: right;\n    }\n</style>\n<table border=\"1\" class=\"dataframe\">\n  <thead>\n    <tr style=\"text-align: right;\">\n      <th></th>\n      <th>reconstruction_error</th>\n      <th>true_class</th>\n    </tr>\n  </thead>\n  <tbody>\n    <tr>\n      <th>count</th>\n      <td>960.000000</td>\n      <td>960.000000</td>\n    </tr>\n    <tr>\n      <th>mean</th>\n      <td>9.415419</td>\n      <td>0.500000</td>\n    </tr>\n    <tr>\n      <th>std</th>\n      <td>6.294146</td>\n      <td>0.500261</td>\n    </tr>\n    <tr>\n      <th>min</th>\n      <td>4.401001</td>\n      <td>0.000000</td>\n    </tr>\n    <tr>\n      <th>25%</th>\n      <td>4.693345</td>\n      <td>0.000000</td>\n    </tr>\n    <tr>\n      <th>50%</th>\n      <td>6.968537</td>\n      <td>0.500000</td>\n    </tr>\n    <tr>\n      <th>75%</th>\n      <td>11.930094</td>\n      <td>1.000000</td>\n    </tr>\n    <tr>\n      <th>max</th>\n      <td>45.944473</td>\n      <td>1.000000</td>\n    </tr>\n  </tbody>\n</table>\n</div>"
     },
     "execution_count": 21,
     "metadata": {},
     "output_type": "execute_result"
    }
   ],
   "source": [
    "# X_test 값을 넣어서 Reconstruction Error 값을 얻고,\n",
    "# 실제 레이블인 y_test와 데이터프레임으로 구성\n",
    "# Reconstruction Error + 실제 레이블의 형태가 됨\n",
    "\n",
    "predictions = autoencoder.predict(X_test)\n",
    "mse = np.mean(np.power(X_test - predictions, 2), axis=1)\n",
    "error_df = pd.DataFrame({'reconstruction_error': mse,\n",
    "                        'true_class': y_test})\n",
    "error_df.describe()"
   ],
   "metadata": {
    "collapsed": false,
    "ExecuteTime": {
     "end_time": "2024-10-23T13:10:31.435890Z",
     "start_time": "2024-10-23T13:10:31.356451Z"
    }
   },
   "id": "bc8c8c9f0e33abb6",
   "execution_count": 21
  },
  {
   "cell_type": "code",
   "outputs": [
    {
     "data": {
      "text/plain": "      reconstruction_error  true_class\n1410              4.453345         0.0\n1156              4.535770         0.0\n1591              4.813573         0.0\n1310              4.574886         0.0\n1478              4.843726         0.0",
      "text/html": "<div>\n<style scoped>\n    .dataframe tbody tr th:only-of-type {\n        vertical-align: middle;\n    }\n\n    .dataframe tbody tr th {\n        vertical-align: top;\n    }\n\n    .dataframe thead th {\n        text-align: right;\n    }\n</style>\n<table border=\"1\" class=\"dataframe\">\n  <thead>\n    <tr style=\"text-align: right;\">\n      <th></th>\n      <th>reconstruction_error</th>\n      <th>true_class</th>\n    </tr>\n  </thead>\n  <tbody>\n    <tr>\n      <th>1410</th>\n      <td>4.453345</td>\n      <td>0.0</td>\n    </tr>\n    <tr>\n      <th>1156</th>\n      <td>4.535770</td>\n      <td>0.0</td>\n    </tr>\n    <tr>\n      <th>1591</th>\n      <td>4.813573</td>\n      <td>0.0</td>\n    </tr>\n    <tr>\n      <th>1310</th>\n      <td>4.574886</td>\n      <td>0.0</td>\n    </tr>\n    <tr>\n      <th>1478</th>\n      <td>4.843726</td>\n      <td>0.0</td>\n    </tr>\n  </tbody>\n</table>\n</div>"
     },
     "execution_count": 22,
     "metadata": {},
     "output_type": "execute_result"
    }
   ],
   "source": [
    "error_df.head()"
   ],
   "metadata": {
    "collapsed": false,
    "ExecuteTime": {
     "end_time": "2024-10-23T13:10:32.119149Z",
     "start_time": "2024-10-23T13:10:32.115147Z"
    }
   },
   "id": "4ed3440685b33a2d",
   "execution_count": 22
  },
  {
   "cell_type": "code",
   "outputs": [
    {
     "name": "stdout",
     "output_type": "stream",
     "text": [
      "Optimal Threshold (by Youden's J): 6.897633555442959\n"
     ]
    }
   ],
   "source": [
    "# 유덴J로 최적의 임계값을 찾음\n",
    "import numpy as np\n",
    "from sklearn.metrics import roc_curve\n",
    "\n",
    "# 실제 값 (y_test)과 예측 확률 (mse)을 사용하여 ROC 곡선 계산\n",
    "fpr, tpr, thresholds = roc_curve(y_test, mse)\n",
    "\n",
    "# 유덴 지수 계산 (Sensitivity + Specificity - 1)\n",
    "J = tpr - fpr\n",
    "optimal_idx = np.argmax(J)  # J가 최대가 되는 인덱스\n",
    "optimal_threshold = thresholds[optimal_idx]\n",
    "\n",
    "print(f'Optimal Threshold (by Youden\\'s J): {optimal_threshold}')"
   ],
   "metadata": {
    "collapsed": false,
    "ExecuteTime": {
     "end_time": "2024-10-23T13:17:01.093774Z",
     "start_time": "2024-10-23T13:17:01.076218Z"
    }
   },
   "id": "d617ca1ce1845d52",
   "execution_count": 29
  },
  {
   "cell_type": "code",
   "outputs": [
    {
     "name": "stdout",
     "output_type": "stream",
     "text": [
      "name: 0.0\n",
      "name: 1.0\n"
     ]
    },
    {
     "data": {
      "text/plain": "<Figure size 640x480 with 1 Axes>",
      "image/png": "[encoded data removed]"
     },
     "metadata": {},
     "output_type": "display_data"
    }
   ],
   "source": [
    "groups = error_df.groupby('true_class')\n",
    "fig, ax = plt.subplots()\n",
    "\n",
    "for name, group in groups:\n",
    "    print(f'name: {name}')\n",
    "    ax.plot(group.index, group.reconstruction_error, marker='o', ms=3.5, linestyle='',\n",
    "            label= \"Fraud\" if name == 1 else \"Normal\")\n",
    "# y축 범위 설정 (최소값, 최대값)\n",
    "ax.set_ylim([0, 20])  # 예를 들어, 0부터 1까지로 y축 설정\n",
    "ax.hlines(optimal_threshold, ax.get_xlim()[0], ax.get_xlim()[1], colors=\"r\", zorder=100, label='Threshold')\n",
    "ax.legend()\n",
    "plt.title(\"Reconstruction error for different classes\")\n",
    "plt.ylabel(\"Reconstruction error\")\n",
    "plt.xlabel(\"Data point index\")\n",
    "plt.show();"
   ],
   "metadata": {
    "collapsed": false,
    "ExecuteTime": {
     "end_time": "2024-10-23T13:17:20.234197Z",
     "start_time": "2024-10-23T13:17:20.128085Z"
    }
   },
   "id": "e3c64548b06e55ac",
   "execution_count": 31
  },
  {
   "cell_type": "code",
   "outputs": [
    {
     "data": {
      "text/plain": "<Figure size 800x800 with 2 Axes>",
      "image/png": "[encoded data removed]"
     },
     "metadata": {},
     "output_type": "display_data"
    },
    {
     "name": "stdout",
     "output_type": "stream",
     "text": [
      "              precision    recall  f1-score   support\n",
      "\n",
      "         0.0       1.00      0.99      0.99       480\n",
      "         1.0       0.99      1.00      0.99       480\n",
      "\n",
      "    accuracy                           0.99       960\n",
      "   macro avg       0.99      0.99      0.99       960\n",
      "weighted avg       0.99      0.99      0.99       960\n"
     ]
    }
   ],
   "source": [
    "from sklearn.metrics import confusion_matrix, classification_report\n",
    "import seaborn as sns\n",
    "\n",
    "y_pred = [1 if e > optimal_threshold else 0 for e in error_df.reconstruction_error.values]\n",
    "conf_matrix = confusion_matrix(error_df.true_class, y_pred)\n",
    "plt.figure(figsize=(8, 8))\n",
    "sns.heatmap(conf_matrix, xticklabels=LABELS, yticklabels=LABELS, annot=True, fmt=\"d\")\n",
    "plt.title(\"Confusion matrix\")\n",
    "plt.ylabel('True class')\n",
    "plt.xlabel('Predicted class')\n",
    "plt.show()\n",
    "\n",
    "print(classification_report(error_df.true_class, y_pred))"
   ],
   "metadata": {
    "collapsed": false,
    "ExecuteTime": {
     "end_time": "2024-10-23T13:17:26.223310Z",
     "start_time": "2024-10-23T13:17:26.122344Z"
    }
   },
   "id": "a91ac953561be1c1",
   "execution_count": 32
  }
 ],
 "metadata": {
  "kernelspec": {
   "display_name": "Python 3",
   "language": "python",
   "name": "python3"
  },
  "language_info": {
   "codemirror_mode": {
    "name": "ipython",
    "version": 2
   },
   "file_extension": ".py",
   "mimetype": "text/x-python",
   "name": "python",
   "nbconvert_exporter": "python",
   "pygments_lexer": "ipython2",
   "version": "2.7.6"
  }
 },
 "nbformat": 4,
 "nbformat_minor": 5
}
