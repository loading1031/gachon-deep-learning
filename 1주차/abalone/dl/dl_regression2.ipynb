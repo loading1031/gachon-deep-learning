{
 "cells": [
  {
   "cell_type": "markdown",
   "source": [
    "## 2. 전복 데이터를 가지고 딥러닝 회귀를 수행"
   ],
   "metadata": {
    "collapsed": false
   },
   "id": "be1e9400b0765ce0"
  },
  {
   "cell_type": "code",
   "outputs": [],
   "source": [
    "import pandas as pd"
   ],
   "metadata": {
    "collapsed": false,
    "ExecuteTime": {
     "end_time": "2024-09-16T01:23:59.322307Z",
     "start_time": "2024-09-16T01:23:59.319622Z"
    }
   },
   "id": "e6882d020913e433",
   "execution_count": 1
  },
  {
   "cell_type": "code",
   "outputs": [
    {
     "data": {
      "text/plain": "     Sex  Length  Diameter  Height  Whole_weight  Shucked_weight  \\\nid                                                                 \n0      M   0.455     0.365   0.095        0.5140          0.2245   \n1      M   0.350     0.265   0.090        0.2255          0.0995   \n2      F   0.530     0.420   0.135        0.6770          0.2565   \n3      M   0.440     0.365   0.125        0.5160          0.2155   \n4      I   0.330     0.255   0.080        0.2050          0.0895   \n...   ..     ...       ...     ...           ...             ...   \n4172   F   0.565     0.450   0.165        0.8870          0.3700   \n4173   M   0.590     0.440   0.135        0.9660          0.4390   \n4174   M   0.600     0.475   0.205        1.1760          0.5255   \n4175   F   0.625     0.485   0.150        1.0945          0.5310   \n4176   M   0.710     0.555   0.195        1.9485          0.9455   \n\n      Viscera_weight  Shell_weight  Rings  \nid                                         \n0             0.1010        0.1500     15  \n1             0.0485        0.0700      7  \n2             0.1415        0.2100      9  \n3             0.1140        0.1550     10  \n4             0.0395        0.0550      7  \n...              ...           ...    ...  \n4172          0.2390        0.2490     11  \n4173          0.2145        0.2605     10  \n4174          0.2875        0.3080      9  \n4175          0.2610        0.2960     10  \n4176          0.3765        0.4950     12  \n\n[4177 rows x 9 columns]",
      "text/html": "<div>\n<style scoped>\n    .dataframe tbody tr th:only-of-type {\n        vertical-align: middle;\n    }\n\n    .dataframe tbody tr th {\n        vertical-align: top;\n    }\n\n    .dataframe thead th {\n        text-align: right;\n    }\n</style>\n<table border=\"1\" class=\"dataframe\">\n  <thead>\n    <tr style=\"text-align: right;\">\n      <th></th>\n      <th>Sex</th>\n      <th>Length</th>\n      <th>Diameter</th>\n      <th>Height</th>\n      <th>Whole_weight</th>\n      <th>Shucked_weight</th>\n      <th>Viscera_weight</th>\n      <th>Shell_weight</th>\n      <th>Rings</th>\n    </tr>\n    <tr>\n      <th>id</th>\n      <th></th>\n      <th></th>\n      <th></th>\n      <th></th>\n      <th></th>\n      <th></th>\n      <th></th>\n      <th></th>\n      <th></th>\n    </tr>\n  </thead>\n  <tbody>\n    <tr>\n      <th>0</th>\n      <td>M</td>\n      <td>0.455</td>\n      <td>0.365</td>\n      <td>0.095</td>\n      <td>0.5140</td>\n      <td>0.2245</td>\n      <td>0.1010</td>\n      <td>0.1500</td>\n      <td>15</td>\n    </tr>\n    <tr>\n      <th>1</th>\n      <td>M</td>\n      <td>0.350</td>\n      <td>0.265</td>\n      <td>0.090</td>\n      <td>0.2255</td>\n      <td>0.0995</td>\n      <td>0.0485</td>\n      <td>0.0700</td>\n      <td>7</td>\n    </tr>\n    <tr>\n      <th>2</th>\n      <td>F</td>\n      <td>0.530</td>\n      <td>0.420</td>\n      <td>0.135</td>\n      <td>0.6770</td>\n      <td>0.2565</td>\n      <td>0.1415</td>\n      <td>0.2100</td>\n      <td>9</td>\n    </tr>\n    <tr>\n      <th>3</th>\n      <td>M</td>\n      <td>0.440</td>\n      <td>0.365</td>\n      <td>0.125</td>\n      <td>0.5160</td>\n      <td>0.2155</td>\n      <td>0.1140</td>\n      <td>0.1550</td>\n      <td>10</td>\n    </tr>\n    <tr>\n      <th>4</th>\n      <td>I</td>\n      <td>0.330</td>\n      <td>0.255</td>\n      <td>0.080</td>\n      <td>0.2050</td>\n      <td>0.0895</td>\n      <td>0.0395</td>\n      <td>0.0550</td>\n      <td>7</td>\n    </tr>\n    <tr>\n      <th>...</th>\n      <td>...</td>\n      <td>...</td>\n      <td>...</td>\n      <td>...</td>\n      <td>...</td>\n      <td>...</td>\n      <td>...</td>\n      <td>...</td>\n      <td>...</td>\n    </tr>\n    <tr>\n      <th>4172</th>\n      <td>F</td>\n      <td>0.565</td>\n      <td>0.450</td>\n      <td>0.165</td>\n      <td>0.8870</td>\n      <td>0.3700</td>\n      <td>0.2390</td>\n      <td>0.2490</td>\n      <td>11</td>\n    </tr>\n    <tr>\n      <th>4173</th>\n      <td>M</td>\n      <td>0.590</td>\n      <td>0.440</td>\n      <td>0.135</td>\n      <td>0.9660</td>\n      <td>0.4390</td>\n      <td>0.2145</td>\n      <td>0.2605</td>\n      <td>10</td>\n    </tr>\n    <tr>\n      <th>4174</th>\n      <td>M</td>\n      <td>0.600</td>\n      <td>0.475</td>\n      <td>0.205</td>\n      <td>1.1760</td>\n      <td>0.5255</td>\n      <td>0.2875</td>\n      <td>0.3080</td>\n      <td>9</td>\n    </tr>\n    <tr>\n      <th>4175</th>\n      <td>F</td>\n      <td>0.625</td>\n      <td>0.485</td>\n      <td>0.150</td>\n      <td>1.0945</td>\n      <td>0.5310</td>\n      <td>0.2610</td>\n      <td>0.2960</td>\n      <td>10</td>\n    </tr>\n    <tr>\n      <th>4176</th>\n      <td>M</td>\n      <td>0.710</td>\n      <td>0.555</td>\n      <td>0.195</td>\n      <td>1.9485</td>\n      <td>0.9455</td>\n      <td>0.3765</td>\n      <td>0.4950</td>\n      <td>12</td>\n    </tr>\n  </tbody>\n</table>\n<p>4177 rows × 9 columns</p>\n</div>"
     },
     "execution_count": 2,
     "metadata": {},
     "output_type": "execute_result"
    }
   ],
   "source": [
    "df = pd.read_csv(\"../abalone.csv\", index_col=0)\n",
    "df"
   ],
   "metadata": {
    "collapsed": false,
    "ExecuteTime": {
     "end_time": "2024-09-16T01:23:59.345878Z",
     "start_time": "2024-09-16T01:23:59.324260Z"
    }
   },
   "id": "bf0f98920654d5da",
   "execution_count": 2
  },
  {
   "cell_type": "code",
   "outputs": [
    {
     "data": {
      "text/plain": "    Length  Diameter  Height  Whole_weight  Shucked_weight  Viscera_weight  \\\nid                                                                           \n0    0.455     0.365   0.095        0.5140          0.2245          0.1010   \n1    0.350     0.265   0.090        0.2255          0.0995          0.0485   \n2    0.530     0.420   0.135        0.6770          0.2565          0.1415   \n3    0.440     0.365   0.125        0.5160          0.2155          0.1140   \n4    0.330     0.255   0.080        0.2050          0.0895          0.0395   \n\n    Shell_weight  Sex_I  Sex_M  \nid                              \n0          0.150  False   True  \n1          0.070  False   True  \n2          0.210  False  False  \n3          0.155  False   True  \n4          0.055   True  False  ",
      "text/html": "<div>\n<style scoped>\n    .dataframe tbody tr th:only-of-type {\n        vertical-align: middle;\n    }\n\n    .dataframe tbody tr th {\n        vertical-align: top;\n    }\n\n    .dataframe thead th {\n        text-align: right;\n    }\n</style>\n<table border=\"1\" class=\"dataframe\">\n  <thead>\n    <tr style=\"text-align: right;\">\n      <th></th>\n      <th>Length</th>\n      <th>Diameter</th>\n      <th>Height</th>\n      <th>Whole_weight</th>\n      <th>Shucked_weight</th>\n      <th>Viscera_weight</th>\n      <th>Shell_weight</th>\n      <th>Sex_I</th>\n      <th>Sex_M</th>\n    </tr>\n    <tr>\n      <th>id</th>\n      <th></th>\n      <th></th>\n      <th></th>\n      <th></th>\n      <th></th>\n      <th></th>\n      <th></th>\n      <th></th>\n      <th></th>\n    </tr>\n  </thead>\n  <tbody>\n    <tr>\n      <th>0</th>\n      <td>0.455</td>\n      <td>0.365</td>\n      <td>0.095</td>\n      <td>0.5140</td>\n      <td>0.2245</td>\n      <td>0.1010</td>\n      <td>0.150</td>\n      <td>False</td>\n      <td>True</td>\n    </tr>\n    <tr>\n      <th>1</th>\n      <td>0.350</td>\n      <td>0.265</td>\n      <td>0.090</td>\n      <td>0.2255</td>\n      <td>0.0995</td>\n      <td>0.0485</td>\n      <td>0.070</td>\n      <td>False</td>\n      <td>True</td>\n    </tr>\n    <tr>\n      <th>2</th>\n      <td>0.530</td>\n      <td>0.420</td>\n      <td>0.135</td>\n      <td>0.6770</td>\n      <td>0.2565</td>\n      <td>0.1415</td>\n      <td>0.210</td>\n      <td>False</td>\n      <td>False</td>\n    </tr>\n    <tr>\n      <th>3</th>\n      <td>0.440</td>\n      <td>0.365</td>\n      <td>0.125</td>\n      <td>0.5160</td>\n      <td>0.2155</td>\n      <td>0.1140</td>\n      <td>0.155</td>\n      <td>False</td>\n      <td>True</td>\n    </tr>\n    <tr>\n      <th>4</th>\n      <td>0.330</td>\n      <td>0.255</td>\n      <td>0.080</td>\n      <td>0.2050</td>\n      <td>0.0895</td>\n      <td>0.0395</td>\n      <td>0.055</td>\n      <td>True</td>\n      <td>False</td>\n    </tr>\n  </tbody>\n</table>\n</div>"
     },
     "execution_count": 3,
     "metadata": {},
     "output_type": "execute_result"
    }
   ],
   "source": [
    "X=df.drop('Rings',axis=1)\n",
    "X = pd.get_dummies(X, columns=['Sex'], drop_first=True)\n",
    "X.head()"
   ],
   "metadata": {
    "collapsed": false,
    "ExecuteTime": {
     "end_time": "2024-09-16T01:23:59.363976Z",
     "start_time": "2024-09-16T01:23:59.347419Z"
    }
   },
   "id": "5d237d2cfca86795",
   "execution_count": 3
  },
  {
   "cell_type": "code",
   "outputs": [
    {
     "data": {
      "text/plain": "Rings\n9     689\n10    634\n8     568\n11    487\n7     391\n12    267\n6     259\n13    203\n14    126\n5     115\n15    103\n16     67\n17     58\n4      57\n18     42\n19     32\n20     26\n3      15\n21     14\n23      9\n22      6\n27      2\n24      2\n1       1\n26      1\n29      1\n2       1\n25      1\nName: count, dtype: int64"
     },
     "execution_count": 4,
     "metadata": {},
     "output_type": "execute_result"
    }
   ],
   "source": [
    "y=df['Rings']\n",
    "y.value_counts()"
   ],
   "metadata": {
    "collapsed": false,
    "ExecuteTime": {
     "end_time": "2024-09-16T01:23:59.373901Z",
     "start_time": "2024-09-16T01:23:59.366611Z"
    }
   },
   "id": "3eb7baf686cd29ef",
   "execution_count": 4
  },
  {
   "cell_type": "code",
   "outputs": [
    {
     "data": {
      "text/plain": "(4177, 9)"
     },
     "execution_count": 5,
     "metadata": {},
     "output_type": "execute_result"
    }
   ],
   "source": [
    "X = X.values\n",
    "X.shape"
   ],
   "metadata": {
    "collapsed": false,
    "ExecuteTime": {
     "end_time": "2024-09-16T01:23:59.383440Z",
     "start_time": "2024-09-16T01:23:59.376218Z"
    }
   },
   "id": "30808a925923d5f9",
   "execution_count": 5
  },
  {
   "cell_type": "code",
   "outputs": [
    {
     "data": {
      "text/plain": "(4177, 30)"
     },
     "execution_count": 6,
     "metadata": {},
     "output_type": "execute_result"
    }
   ],
   "source": [
    "from tensorflow.keras.utils import to_categorical\n",
    "\n",
    "Y = to_categorical(y)\n",
    "Y.shape"
   ],
   "metadata": {
    "collapsed": false,
    "ExecuteTime": {
     "end_time": "2024-09-16T01:24:02.863404Z",
     "start_time": "2024-09-16T01:23:59.385924Z"
    }
   },
   "id": "54806b074e7b654",
   "execution_count": 6
  },
  {
   "cell_type": "code",
   "outputs": [
    {
     "name": "stdout",
     "output_type": "stream",
     "text": [
      "object\n",
      "float32\n"
     ]
    }
   ],
   "source": [
    "print(X.dtype)\n",
    "print(Y.dtype)"
   ],
   "metadata": {
    "collapsed": false,
    "ExecuteTime": {
     "end_time": "2024-09-16T01:24:02.868876Z",
     "start_time": "2024-09-16T01:24:02.864819Z"
    }
   },
   "id": "72dd40f798452dca",
   "execution_count": 7
  },
  {
   "cell_type": "code",
   "outputs": [],
   "source": [
    "X = X.astype('float32')"
   ],
   "metadata": {
    "collapsed": false,
    "ExecuteTime": {
     "end_time": "2024-09-16T01:24:02.878379Z",
     "start_time": "2024-09-16T01:24:02.873281Z"
    }
   },
   "id": "68cbde3088b61d2d",
   "execution_count": 8
  },
  {
   "cell_type": "code",
   "outputs": [],
   "source": [
    "from sklearn.model_selection import train_test_split\n",
    "X_train,X_test, y_train,y_test = train_test_split(X,Y,test_size=0.2,random_state=0) "
   ],
   "metadata": {
    "collapsed": false,
    "ExecuteTime": {
     "end_time": "2024-09-16T01:24:03.039062Z",
     "start_time": "2024-09-16T01:24:02.879769Z"
    }
   },
   "id": "ba5e94ac6e9af171",
   "execution_count": 9
  },
  {
   "cell_type": "code",
   "outputs": [
    {
     "name": "stdout",
     "output_type": "stream",
     "text": [
      "Model: \"sequential\"\n",
      "_________________________________________________________________\n",
      " Layer (type)                Output Shape              Param #   \n",
      "=================================================================\n",
      " dense (Dense)               (None, 64)                640       \n",
      "                                                                 \n",
      " dense_1 (Dense)             (None, 32)                2080      \n",
      "                                                                 \n",
      " dense_2 (Dense)             (None, 1)                 33        \n",
      "                                                                 \n",
      "=================================================================\n",
      "Total params: 2,753\n",
      "Trainable params: 2,753\n",
      "Non-trainable params: 0\n",
      "_________________________________________________________________\n"
     ]
    }
   ],
   "source": [
    "#Defining the model \n",
    "\n",
    "from keras.models import Sequential\n",
    "from keras.layers import Dense\n",
    "from keras.optimizers import Adam\n",
    "\n",
    "\n",
    "model = Sequential()\n",
    "\n",
    "model.add(Dense(64,input_shape=(9,),activation='tanh'))\n",
    "model.add(Dense(32,activation='tanh'))\n",
    "model.add(Dense(1,activation='linear'))\n",
    "\n",
    "model.compile(optimizer='rmsprop',loss='mse',metrics=['mse'])\n",
    "\n",
    "model.summary()"
   ],
   "metadata": {
    "collapsed": false,
    "ExecuteTime": {
     "end_time": "2024-09-16T01:24:03.111114Z",
     "start_time": "2024-09-16T01:24:03.040191Z"
    }
   },
   "id": "41c18b9e24b775d8",
   "execution_count": 10
  },
  {
   "cell_type": "code",
   "outputs": [
    {
     "name": "stdout",
     "output_type": "stream",
     "text": [
      "Epoch 1/30\n"
     ]
    },
    {
     "name": "stderr",
     "output_type": "stream",
     "text": [
      "2024-09-16 10:24:03.169923: W tensorflow/tsl/platform/profile_utils/cpu_utils.cc:128] Failed to get CPU frequency: 0 Hz\n"
     ]
    },
    {
     "name": "stdout",
     "output_type": "stream",
     "text": [
      "105/105 [==============================] - 1s 2ms/step - loss: 0.0369 - mse: 0.0369 - val_loss: 0.0377 - val_mse: 0.0377\n",
      "Epoch 2/30\n",
      "105/105 [==============================] - 0s 1ms/step - loss: 0.0342 - mse: 0.0342 - val_loss: 0.0333 - val_mse: 0.0333\n",
      "Epoch 3/30\n",
      "105/105 [==============================] - 0s 1ms/step - loss: 0.0337 - mse: 0.0337 - val_loss: 0.0331 - val_mse: 0.0331\n",
      "Epoch 4/30\n",
      "105/105 [==============================] - 0s 1ms/step - loss: 0.0333 - mse: 0.0333 - val_loss: 0.0329 - val_mse: 0.0329\n",
      "Epoch 5/30\n",
      "105/105 [==============================] - 0s 1ms/step - loss: 0.0331 - mse: 0.0331 - val_loss: 0.0331 - val_mse: 0.0331\n",
      "Epoch 6/30\n",
      "105/105 [==============================] - 0s 1ms/step - loss: 0.0330 - mse: 0.0330 - val_loss: 0.0341 - val_mse: 0.0341\n",
      "Epoch 7/30\n",
      "105/105 [==============================] - 0s 2ms/step - loss: 0.0329 - mse: 0.0329 - val_loss: 0.0323 - val_mse: 0.0323\n",
      "Epoch 8/30\n",
      "105/105 [==============================] - 0s 1ms/step - loss: 0.0327 - mse: 0.0327 - val_loss: 0.0324 - val_mse: 0.0324\n",
      "Epoch 9/30\n",
      "105/105 [==============================] - 0s 1ms/step - loss: 0.0327 - mse: 0.0327 - val_loss: 0.0322 - val_mse: 0.0322\n",
      "Epoch 10/30\n",
      "105/105 [==============================] - 0s 1ms/step - loss: 0.0326 - mse: 0.0326 - val_loss: 0.0323 - val_mse: 0.0323\n",
      "Epoch 11/30\n",
      "105/105 [==============================] - 0s 1ms/step - loss: 0.0325 - mse: 0.0325 - val_loss: 0.0323 - val_mse: 0.0323\n",
      "Epoch 12/30\n",
      "105/105 [==============================] - 0s 1ms/step - loss: 0.0325 - mse: 0.0325 - val_loss: 0.0322 - val_mse: 0.0322\n",
      "Epoch 13/30\n",
      "105/105 [==============================] - 0s 1ms/step - loss: 0.0324 - mse: 0.0324 - val_loss: 0.0323 - val_mse: 0.0323\n",
      "Epoch 14/30\n",
      "105/105 [==============================] - 0s 1ms/step - loss: 0.0324 - mse: 0.0324 - val_loss: 0.0322 - val_mse: 0.0322\n",
      "Epoch 15/30\n",
      "105/105 [==============================] - 0s 1ms/step - loss: 0.0324 - mse: 0.0324 - val_loss: 0.0322 - val_mse: 0.0322\n",
      "Epoch 16/30\n",
      "105/105 [==============================] - 0s 1ms/step - loss: 0.0323 - mse: 0.0323 - val_loss: 0.0322 - val_mse: 0.0322\n",
      "Epoch 17/30\n",
      "105/105 [==============================] - 0s 1ms/step - loss: 0.0323 - mse: 0.0323 - val_loss: 0.0324 - val_mse: 0.0324\n",
      "Epoch 18/30\n",
      "105/105 [==============================] - 0s 2ms/step - loss: 0.0323 - mse: 0.0323 - val_loss: 0.0324 - val_mse: 0.0324\n",
      "Epoch 19/30\n",
      "105/105 [==============================] - 0s 2ms/step - loss: 0.0323 - mse: 0.0323 - val_loss: 0.0322 - val_mse: 0.0322\n",
      "Epoch 20/30\n",
      "105/105 [==============================] - 0s 1ms/step - loss: 0.0323 - mse: 0.0323 - val_loss: 0.0324 - val_mse: 0.0324\n",
      "Epoch 21/30\n",
      "105/105 [==============================] - 0s 1ms/step - loss: 0.0323 - mse: 0.0323 - val_loss: 0.0322 - val_mse: 0.0322\n",
      "Epoch 22/30\n",
      "105/105 [==============================] - 0s 1ms/step - loss: 0.0323 - mse: 0.0323 - val_loss: 0.0322 - val_mse: 0.0322\n",
      "Epoch 23/30\n",
      "105/105 [==============================] - 0s 1ms/step - loss: 0.0323 - mse: 0.0323 - val_loss: 0.0322 - val_mse: 0.0322\n",
      "Epoch 24/30\n",
      "105/105 [==============================] - 0s 1ms/step - loss: 0.0322 - mse: 0.0322 - val_loss: 0.0322 - val_mse: 0.0322\n",
      "Epoch 25/30\n",
      "105/105 [==============================] - 0s 1ms/step - loss: 0.0322 - mse: 0.0322 - val_loss: 0.0322 - val_mse: 0.0322\n",
      "Epoch 26/30\n",
      "105/105 [==============================] - 0s 1ms/step - loss: 0.0322 - mse: 0.0322 - val_loss: 0.0322 - val_mse: 0.0322\n",
      "Epoch 27/30\n",
      "105/105 [==============================] - 0s 3ms/step - loss: 0.0322 - mse: 0.0322 - val_loss: 0.0322 - val_mse: 0.0322\n",
      "Epoch 28/30\n",
      "105/105 [==============================] - 0s 2ms/step - loss: 0.0322 - mse: 0.0322 - val_loss: 0.0322 - val_mse: 0.0322\n",
      "Epoch 29/30\n",
      "105/105 [==============================] - 0s 3ms/step - loss: 0.0322 - mse: 0.0322 - val_loss: 0.0322 - val_mse: 0.0322\n",
      "Epoch 30/30\n",
      "105/105 [==============================] - 0s 1ms/step - loss: 0.0322 - mse: 0.0322 - val_loss: 0.0322 - val_mse: 0.0322\n",
      "27/27 [==============================] - 0s 694us/step\n"
     ]
    }
   ],
   "source": [
    "import numpy as np\n",
    "N_EPOCHS = 30\n",
    "\n",
    "history=model.fit(x=X_train, y=y_train, epochs=N_EPOCHS, batch_size=32,validation_data= (X_test,y_test))\n",
    "y_pred = model.predict(X_test)\n",
    "\n",
    "y_test_class = np.argmax(y_test,axis=1)\n",
    "y_pred_class = np.argmax(y_pred,axis=1)"
   ],
   "metadata": {
    "collapsed": false,
    "ExecuteTime": {
     "end_time": "2024-09-16T01:24:08.597976Z",
     "start_time": "2024-09-16T01:24:03.112613Z"
    }
   },
   "id": "576017ed22850955",
   "execution_count": 11
  },
  {
   "cell_type": "code",
   "outputs": [
    {
     "data": {
      "text/plain": "<Figure size 1000x700 with 1 Axes>",
      "image/png": "[encoded data removed]"
     },
     "metadata": {},
     "output_type": "display_data"
    }
   ],
   "source": [
    "# loss 체크\n",
    "import matplotlib.pyplot as plt\n",
    "plt.figure(figsize=(10,7))\n",
    "plt.plot(range(N_EPOCHS), history.history['loss'], label='train loss')\n",
    "plt.plot(range(N_EPOCHS), history.history['val_loss'], label='test loss')\n",
    "plt.xlabel('Epoch')\n",
    "plt.ylabel('Loss')\n",
    "plt.legend()\n",
    "plt.show()"
   ],
   "metadata": {
    "collapsed": false,
    "ExecuteTime": {
     "end_time": "2024-09-16T01:24:08.878393Z",
     "start_time": "2024-09-16T01:24:08.599915Z"
    }
   },
   "id": "2d6462adb734a7d7",
   "execution_count": 12
  },
  {
   "cell_type": "code",
   "outputs": [
    {
     "name": "stdout",
     "output_type": "stream",
     "text": [
      "27/27 [==============================] - 0s 1ms/step - loss: 0.0322 - mse: 0.0322\n"
     ]
    },
    {
     "data": {
      "text/plain": "[0.03222586587071419, 0.03222586587071419]"
     },
     "execution_count": 13,
     "metadata": {},
     "output_type": "execute_result"
    }
   ],
   "source": [
    "model.evaluate(X_test, y_test)"
   ],
   "metadata": {
    "collapsed": false,
    "ExecuteTime": {
     "end_time": "2024-09-16T01:24:08.991590Z",
     "start_time": "2024-09-16T01:24:08.883429Z"
    }
   },
   "id": "7e64961236cde295",
   "execution_count": 13
  }
 ],
 "metadata": {
  "kernelspec": {
   "display_name": "Python 3",
   "language": "python",
   "name": "python3"
  },
  "language_info": {
   "codemirror_mode": {
    "name": "ipython",
    "version": 2
   },
   "file_extension": ".py",
   "mimetype": "text/x-python",
   "name": "python",
   "nbconvert_exporter": "python",
   "pygments_lexer": "ipython2",
   "version": "2.7.6"
  }
 },
 "nbformat": 4,
 "nbformat_minor": 5
}
