{
 "cells": [
  {
   "cell_type": "markdown",
   "source": [
    "## 1. 전복 데이터를 가지고 머신러닝 5가지 분류를 수행 (SVM, LR, RF, DT, KNN)"
   ],
   "metadata": {
    "collapsed": false
   },
   "id": "b35375e0c9919c3d"
  },
  {
   "cell_type": "code",
   "outputs": [],
   "source": [
    "import pandas as pd\n",
    "import numpy as np\n",
    "import matplotlib.pyplot as plt\n",
    "import seaborn as sns"
   ],
   "metadata": {
    "collapsed": false,
    "ExecuteTime": {
     "end_time": "2024-09-15T08:02:33.116872Z",
     "start_time": "2024-09-15T08:02:33.110568Z"
    }
   },
   "id": "f69acfa992680577",
   "execution_count": 1
  },
  {
   "cell_type": "code",
   "outputs": [
    {
     "data": {
      "text/plain": "        id Sex  Length  Diameter  Height  Whole_weight  Shucked_weight  \\\n0        0   M   0.455     0.365   0.095        0.5140          0.2245   \n1        1   M   0.350     0.265   0.090        0.2255          0.0995   \n2        2   F   0.530     0.420   0.135        0.6770          0.2565   \n3        3   M   0.440     0.365   0.125        0.5160          0.2155   \n4        4   I   0.330     0.255   0.080        0.2050          0.0895   \n...    ...  ..     ...       ...     ...           ...             ...   \n4172  4172   F   0.565     0.450   0.165        0.8870          0.3700   \n4173  4173   M   0.590     0.440   0.135        0.9660          0.4390   \n4174  4174   M   0.600     0.475   0.205        1.1760          0.5255   \n4175  4175   F   0.625     0.485   0.150        1.0945          0.5310   \n4176  4176   M   0.710     0.555   0.195        1.9485          0.9455   \n\n      Viscera_weight  Shell_weight  Rings  \n0             0.1010        0.1500     15  \n1             0.0485        0.0700      7  \n2             0.1415        0.2100      9  \n3             0.1140        0.1550     10  \n4             0.0395        0.0550      7  \n...              ...           ...    ...  \n4172          0.2390        0.2490     11  \n4173          0.2145        0.2605     10  \n4174          0.2875        0.3080      9  \n4175          0.2610        0.2960     10  \n4176          0.3765        0.4950     12  \n\n[4177 rows x 10 columns]",
      "text/html": "<div>\n<style scoped>\n    .dataframe tbody tr th:only-of-type {\n        vertical-align: middle;\n    }\n\n    .dataframe tbody tr th {\n        vertical-align: top;\n    }\n\n    .dataframe thead th {\n        text-align: right;\n    }\n</style>\n<table border=\"1\" class=\"dataframe\">\n  <thead>\n    <tr style=\"text-align: right;\">\n      <th></th>\n      <th>id</th>\n      <th>Sex</th>\n      <th>Length</th>\n      <th>Diameter</th>\n      <th>Height</th>\n      <th>Whole_weight</th>\n      <th>Shucked_weight</th>\n      <th>Viscera_weight</th>\n      <th>Shell_weight</th>\n      <th>Rings</th>\n    </tr>\n  </thead>\n  <tbody>\n    <tr>\n      <th>0</th>\n      <td>0</td>\n      <td>M</td>\n      <td>0.455</td>\n      <td>0.365</td>\n      <td>0.095</td>\n      <td>0.5140</td>\n      <td>0.2245</td>\n      <td>0.1010</td>\n      <td>0.1500</td>\n      <td>15</td>\n    </tr>\n    <tr>\n      <th>1</th>\n      <td>1</td>\n      <td>M</td>\n      <td>0.350</td>\n      <td>0.265</td>\n      <td>0.090</td>\n      <td>0.2255</td>\n      <td>0.0995</td>\n      <td>0.0485</td>\n      <td>0.0700</td>\n      <td>7</td>\n    </tr>\n    <tr>\n      <th>2</th>\n      <td>2</td>\n      <td>F</td>\n      <td>0.530</td>\n      <td>0.420</td>\n      <td>0.135</td>\n      <td>0.6770</td>\n      <td>0.2565</td>\n      <td>0.1415</td>\n      <td>0.2100</td>\n      <td>9</td>\n    </tr>\n    <tr>\n      <th>3</th>\n      <td>3</td>\n      <td>M</td>\n      <td>0.440</td>\n      <td>0.365</td>\n      <td>0.125</td>\n      <td>0.5160</td>\n      <td>0.2155</td>\n      <td>0.1140</td>\n      <td>0.1550</td>\n      <td>10</td>\n    </tr>\n    <tr>\n      <th>4</th>\n      <td>4</td>\n      <td>I</td>\n      <td>0.330</td>\n      <td>0.255</td>\n      <td>0.080</td>\n      <td>0.2050</td>\n      <td>0.0895</td>\n      <td>0.0395</td>\n      <td>0.0550</td>\n      <td>7</td>\n    </tr>\n    <tr>\n      <th>...</th>\n      <td>...</td>\n      <td>...</td>\n      <td>...</td>\n      <td>...</td>\n      <td>...</td>\n      <td>...</td>\n      <td>...</td>\n      <td>...</td>\n      <td>...</td>\n      <td>...</td>\n    </tr>\n    <tr>\n      <th>4172</th>\n      <td>4172</td>\n      <td>F</td>\n      <td>0.565</td>\n      <td>0.450</td>\n      <td>0.165</td>\n      <td>0.8870</td>\n      <td>0.3700</td>\n      <td>0.2390</td>\n      <td>0.2490</td>\n      <td>11</td>\n    </tr>\n    <tr>\n      <th>4173</th>\n      <td>4173</td>\n      <td>M</td>\n      <td>0.590</td>\n      <td>0.440</td>\n      <td>0.135</td>\n      <td>0.9660</td>\n      <td>0.4390</td>\n      <td>0.2145</td>\n      <td>0.2605</td>\n      <td>10</td>\n    </tr>\n    <tr>\n      <th>4174</th>\n      <td>4174</td>\n      <td>M</td>\n      <td>0.600</td>\n      <td>0.475</td>\n      <td>0.205</td>\n      <td>1.1760</td>\n      <td>0.5255</td>\n      <td>0.2875</td>\n      <td>0.3080</td>\n      <td>9</td>\n    </tr>\n    <tr>\n      <th>4175</th>\n      <td>4175</td>\n      <td>F</td>\n      <td>0.625</td>\n      <td>0.485</td>\n      <td>0.150</td>\n      <td>1.0945</td>\n      <td>0.5310</td>\n      <td>0.2610</td>\n      <td>0.2960</td>\n      <td>10</td>\n    </tr>\n    <tr>\n      <th>4176</th>\n      <td>4176</td>\n      <td>M</td>\n      <td>0.710</td>\n      <td>0.555</td>\n      <td>0.195</td>\n      <td>1.9485</td>\n      <td>0.9455</td>\n      <td>0.3765</td>\n      <td>0.4950</td>\n      <td>12</td>\n    </tr>\n  </tbody>\n</table>\n<p>4177 rows × 10 columns</p>\n</div>"
     },
     "execution_count": 2,
     "metadata": {},
     "output_type": "execute_result"
    }
   ],
   "source": [
    "df = pd.read_csv(\"../abalone.csv\", index_col=None)\n",
    "df"
   ],
   "metadata": {
    "collapsed": false,
    "ExecuteTime": {
     "end_time": "2024-09-15T08:02:33.167935Z",
     "start_time": "2024-09-15T08:02:33.120380Z"
    }
   },
   "id": "40f392f3cd079637",
   "execution_count": 2
  },
  {
   "cell_type": "code",
   "outputs": [
    {
     "data": {
      "text/plain": "   id Sex  Length  Diameter  Height  Whole_weight  Shucked_weight  \\\n0   0   M   0.455     0.365   0.095        0.5140          0.2245   \n1   1   M   0.350     0.265   0.090        0.2255          0.0995   \n2   2   F   0.530     0.420   0.135        0.6770          0.2565   \n3   3   M   0.440     0.365   0.125        0.5160          0.2155   \n4   4   I   0.330     0.255   0.080        0.2050          0.0895   \n\n   Viscera_weight  Shell_weight  \n0          0.1010         0.150  \n1          0.0485         0.070  \n2          0.1415         0.210  \n3          0.1140         0.155  \n4          0.0395         0.055  ",
      "text/html": "<div>\n<style scoped>\n    .dataframe tbody tr th:only-of-type {\n        vertical-align: middle;\n    }\n\n    .dataframe tbody tr th {\n        vertical-align: top;\n    }\n\n    .dataframe thead th {\n        text-align: right;\n    }\n</style>\n<table border=\"1\" class=\"dataframe\">\n  <thead>\n    <tr style=\"text-align: right;\">\n      <th></th>\n      <th>id</th>\n      <th>Sex</th>\n      <th>Length</th>\n      <th>Diameter</th>\n      <th>Height</th>\n      <th>Whole_weight</th>\n      <th>Shucked_weight</th>\n      <th>Viscera_weight</th>\n      <th>Shell_weight</th>\n    </tr>\n  </thead>\n  <tbody>\n    <tr>\n      <th>0</th>\n      <td>0</td>\n      <td>M</td>\n      <td>0.455</td>\n      <td>0.365</td>\n      <td>0.095</td>\n      <td>0.5140</td>\n      <td>0.2245</td>\n      <td>0.1010</td>\n      <td>0.150</td>\n    </tr>\n    <tr>\n      <th>1</th>\n      <td>1</td>\n      <td>M</td>\n      <td>0.350</td>\n      <td>0.265</td>\n      <td>0.090</td>\n      <td>0.2255</td>\n      <td>0.0995</td>\n      <td>0.0485</td>\n      <td>0.070</td>\n    </tr>\n    <tr>\n      <th>2</th>\n      <td>2</td>\n      <td>F</td>\n      <td>0.530</td>\n      <td>0.420</td>\n      <td>0.135</td>\n      <td>0.6770</td>\n      <td>0.2565</td>\n      <td>0.1415</td>\n      <td>0.210</td>\n    </tr>\n    <tr>\n      <th>3</th>\n      <td>3</td>\n      <td>M</td>\n      <td>0.440</td>\n      <td>0.365</td>\n      <td>0.125</td>\n      <td>0.5160</td>\n      <td>0.2155</td>\n      <td>0.1140</td>\n      <td>0.155</td>\n    </tr>\n    <tr>\n      <th>4</th>\n      <td>4</td>\n      <td>I</td>\n      <td>0.330</td>\n      <td>0.255</td>\n      <td>0.080</td>\n      <td>0.2050</td>\n      <td>0.0895</td>\n      <td>0.0395</td>\n      <td>0.055</td>\n    </tr>\n  </tbody>\n</table>\n</div>"
     },
     "execution_count": 3,
     "metadata": {},
     "output_type": "execute_result"
    }
   ],
   "source": [
    "X=df.drop('Rings',axis=1)\n",
    "X.head()"
   ],
   "metadata": {
    "collapsed": false,
    "ExecuteTime": {
     "end_time": "2024-09-15T08:02:34.637082Z",
     "start_time": "2024-09-15T08:02:34.626263Z"
    }
   },
   "id": "5d16eea68de7922e",
   "execution_count": 3
  },
  {
   "cell_type": "code",
   "outputs": [
    {
     "data": {
      "text/plain": "   id  Length  Diameter  Height  Whole_weight  Shucked_weight  Viscera_weight  \\\n0   0   0.455     0.365   0.095        0.5140          0.2245          0.1010   \n1   1   0.350     0.265   0.090        0.2255          0.0995          0.0485   \n2   2   0.530     0.420   0.135        0.6770          0.2565          0.1415   \n3   3   0.440     0.365   0.125        0.5160          0.2155          0.1140   \n4   4   0.330     0.255   0.080        0.2050          0.0895          0.0395   \n\n   Shell_weight  Sex_I  Sex_M  \n0         0.150  False   True  \n1         0.070  False   True  \n2         0.210  False  False  \n3         0.155  False   True  \n4         0.055   True  False  ",
      "text/html": "<div>\n<style scoped>\n    .dataframe tbody tr th:only-of-type {\n        vertical-align: middle;\n    }\n\n    .dataframe tbody tr th {\n        vertical-align: top;\n    }\n\n    .dataframe thead th {\n        text-align: right;\n    }\n</style>\n<table border=\"1\" class=\"dataframe\">\n  <thead>\n    <tr style=\"text-align: right;\">\n      <th></th>\n      <th>id</th>\n      <th>Length</th>\n      <th>Diameter</th>\n      <th>Height</th>\n      <th>Whole_weight</th>\n      <th>Shucked_weight</th>\n      <th>Viscera_weight</th>\n      <th>Shell_weight</th>\n      <th>Sex_I</th>\n      <th>Sex_M</th>\n    </tr>\n  </thead>\n  <tbody>\n    <tr>\n      <th>0</th>\n      <td>0</td>\n      <td>0.455</td>\n      <td>0.365</td>\n      <td>0.095</td>\n      <td>0.5140</td>\n      <td>0.2245</td>\n      <td>0.1010</td>\n      <td>0.150</td>\n      <td>False</td>\n      <td>True</td>\n    </tr>\n    <tr>\n      <th>1</th>\n      <td>1</td>\n      <td>0.350</td>\n      <td>0.265</td>\n      <td>0.090</td>\n      <td>0.2255</td>\n      <td>0.0995</td>\n      <td>0.0485</td>\n      <td>0.070</td>\n      <td>False</td>\n      <td>True</td>\n    </tr>\n    <tr>\n      <th>2</th>\n      <td>2</td>\n      <td>0.530</td>\n      <td>0.420</td>\n      <td>0.135</td>\n      <td>0.6770</td>\n      <td>0.2565</td>\n      <td>0.1415</td>\n      <td>0.210</td>\n      <td>False</td>\n      <td>False</td>\n    </tr>\n    <tr>\n      <th>3</th>\n      <td>3</td>\n      <td>0.440</td>\n      <td>0.365</td>\n      <td>0.125</td>\n      <td>0.5160</td>\n      <td>0.2155</td>\n      <td>0.1140</td>\n      <td>0.155</td>\n      <td>False</td>\n      <td>True</td>\n    </tr>\n    <tr>\n      <th>4</th>\n      <td>4</td>\n      <td>0.330</td>\n      <td>0.255</td>\n      <td>0.080</td>\n      <td>0.2050</td>\n      <td>0.0895</td>\n      <td>0.0395</td>\n      <td>0.055</td>\n      <td>True</td>\n      <td>False</td>\n    </tr>\n  </tbody>\n</table>\n</div>"
     },
     "execution_count": 4,
     "metadata": {},
     "output_type": "execute_result"
    }
   ],
   "source": [
    "X = pd.get_dummies(X, columns=['Sex'], drop_first=True)\n",
    "X.head()"
   ],
   "metadata": {
    "collapsed": false,
    "ExecuteTime": {
     "end_time": "2024-09-15T08:02:34.914345Z",
     "start_time": "2024-09-15T08:02:34.900092Z"
    }
   },
   "id": "3ac1fc27fdf0a838",
   "execution_count": 4
  },
  {
   "cell_type": "code",
   "outputs": [
    {
     "data": {
      "text/plain": "Rings\n9     689\n10    634\n8     568\n11    487\n7     391\n12    267\n6     259\n13    203\n14    126\n5     115\n15    103\n16     67\n17     58\n4      57\n18     42\n19     32\n20     26\n3      15\n21     14\n23      9\n22      6\n27      2\n24      2\n1       1\n26      1\n29      1\n2       1\n25      1\nName: count, dtype: int64"
     },
     "execution_count": 5,
     "metadata": {},
     "output_type": "execute_result"
    }
   ],
   "source": [
    "y=df['Rings']\n",
    "y.value_counts()"
   ],
   "metadata": {
    "collapsed": false,
    "ExecuteTime": {
     "end_time": "2024-09-15T08:02:35.526570Z",
     "start_time": "2024-09-15T08:02:35.516029Z"
    }
   },
   "id": "9b862bc0bfd95416",
   "execution_count": 5
  },
  {
   "cell_type": "code",
   "outputs": [
    {
     "data": {
      "text/plain": "array([14,  6,  8, ...,  8,  9, 11])"
     },
     "execution_count": 6,
     "metadata": {},
     "output_type": "execute_result"
    }
   ],
   "source": [
    "from sklearn.preprocessing import LabelEncoder\n",
    "\n",
    "label_encoder = LabelEncoder()\n",
    "y = label_encoder.fit_transform(y)\n",
    "\n",
    "y"
   ],
   "metadata": {
    "collapsed": false,
    "ExecuteTime": {
     "end_time": "2024-09-15T08:02:36.067975Z",
     "start_time": "2024-09-15T08:02:35.964432Z"
    }
   },
   "id": "dceb9c3e7271287",
   "execution_count": 6
  },
  {
   "cell_type": "code",
   "outputs": [],
   "source": [
    "# 레이블 누락된\n",
    "from sklearn.preprocessing import LabelEncoder\n",
    "\n",
    "# LabelEncoder로 나이 인코딩\n",
    "label_encoder = LabelEncoder()\n",
    "y = label_encoder.fit_transform(y)"
   ],
   "metadata": {
    "collapsed": false,
    "ExecuteTime": {
     "end_time": "2024-09-15T08:02:36.439726Z",
     "start_time": "2024-09-15T08:02:36.435052Z"
    }
   },
   "id": "b84095ce7b07554",
   "execution_count": 7
  },
  {
   "cell_type": "code",
   "outputs": [],
   "source": [
    "from sklearn.model_selection import train_test_split\n",
    "\n",
    "X_train, X_test, y_train, y_test = train_test_split(X, y,test_size=0.25,random_state=0)\n",
    "\n",
    "from sklearn.preprocessing import StandardScaler\n",
    "\n",
    "# 데이터 스케일링\n",
    "scaler = StandardScaler()\n",
    "X_train_scaled = scaler.fit_transform(X_train)\n",
    "X_test_scaled = scaler.transform(X_test)"
   ],
   "metadata": {
    "collapsed": false,
    "ExecuteTime": {
     "end_time": "2024-09-15T08:02:36.959664Z",
     "start_time": "2024-09-15T08:02:36.872667Z"
    }
   },
   "id": "d5a06649a8728087",
   "execution_count": 8
  },
  {
   "cell_type": "code",
   "outputs": [],
   "source": [
    "from sklearn.linear_model import LogisticRegression\n",
    "from sklearn.neural_network import MLPClassifier\n",
    "from sklearn.tree import DecisionTreeClassifier\n",
    "from sklearn.metrics import accuracy_score\n",
    "from sklearn.metrics import confusion_matrix"
   ],
   "metadata": {
    "collapsed": false,
    "ExecuteTime": {
     "end_time": "2024-09-15T08:02:37.396431Z",
     "start_time": "2024-09-15T08:02:37.240289Z"
    }
   },
   "id": "a1eb0dee376c2708",
   "execution_count": 9
  },
  {
   "cell_type": "code",
   "outputs": [
    {
     "name": "stdout",
     "output_type": "stream",
     "text": [
      "\n",
      "--- SVM Classifier ---\n",
      "0.2660287081339713\n",
      "[[ 0  7  0  0  0  0  0  0  0  0  0  0  0  0  0  0  0  0  0  0  0  0  0]\n",
      " [ 0  3  8  2  0  0  0  0  0  0  0  0  0  0  0  0  0  0  0  0  0  0  0]\n",
      " [ 0  6  8 17  7  0  2  0  0  0  0  0  0  0  0  0  0  0  0  0  0  0  0]\n",
      " [ 0  1  3 18 32  2  6  1  0  0  0  0  0  0  0  0  0  0  0  0  0  0  0]\n",
      " [ 0  0  2 13 51 15 26  7  0  0  0  0  0  0  0  0  0  0  0  0  0  0  0]\n",
      " [ 0  0  0  3 22 40 60 13  1  0  0  0  0  0  0  0  0  0  0  0  0  0  0]\n",
      " [ 0  0  0  1  7 15 84 42  3  0  0  0  0  0  0  0  0  0  0  0  0  0  0]\n",
      " [ 0  0  0  0  6  6 59 50 18  0  0  0  0  0  0  0  0  0  0  0  0  0  0]\n",
      " [ 0  0  0  0  6  3 40 48 24  0  0  0  0  0  0  0  0  0  0  0  0  0  0]\n",
      " [ 0  0  0  0  3  2 27 44 16  0  0  0  0  1  0  0  0  0  0  0  0  0  0]\n",
      " [ 0  0  0  0  1  0 10 27 13  0  0  0  0  0  0  0  0  0  0  0  0  0  0]\n",
      " [ 0  0  0  0  1  1 10 16  4  0  0  0  0  0  0  0  0  0  0  0  0  0  0]\n",
      " [ 0  0  0  0  0  1  3 16  2  0  0  0  0  0  0  0  0  0  0  0  0  0  0]\n",
      " [ 0  0  0  0  1  0  3 11  1  0  0  0  0  0  0  0  0  0  0  0  0  0  0]\n",
      " [ 0  0  0  0  0  0  0  8  4  0  0  0  0  0  0  0  0  0  0  0  0  0  0]\n",
      " [ 0  0  0  0  0  0  1  5  0  0  0  0  0  0  0  0  0  0  0  0  0  0  0]\n",
      " [ 0  0  0  0  0  0  2  5  3  0  0  0  0  0  0  0  0  0  0  0  0  0  0]\n",
      " [ 0  0  0  0  0  0  1  7  0  0  0  0  0  0  0  0  0  0  0  0  0  0  0]\n",
      " [ 0  0  0  0  0  0  0  1  1  0  0  0  0  0  0  0  0  0  0  0  0  0  0]\n",
      " [ 0  0  0  0  0  0  0  1  0  0  0  0  0  0  0  0  0  0  0  0  0  0  0]\n",
      " [ 0  0  0  0  0  0  0  2  0  0  0  0  0  0  0  0  0  0  0  0  0  0  0]\n",
      " [ 0  0  0  0  0  0  0  0  1  0  0  0  0  0  0  0  0  0  0  0  0  0  0]\n",
      " [ 0  0  0  0  0  0  0  1  0  0  0  0  0  0  0  0  0  0  0  0  0  0  0]]\n"
     ]
    }
   ],
   "source": [
    "from sklearn.svm import SVC\n",
    "\n",
    "clf_svm = SVC(random_state=0)\n",
    "clf_svm.fit(X_train_scaled, y_train)\n",
    "\n",
    "pred_svm = clf_svm.predict(X_test_scaled)\n",
    "\n",
    "print(\"\\n--- SVM Classifier ---\")\n",
    "print(accuracy_score(y_test, pred_svm))\n",
    "print(confusion_matrix(y_test, pred_svm))"
   ],
   "metadata": {
    "collapsed": false,
    "ExecuteTime": {
     "end_time": "2024-09-15T08:02:38.746941Z",
     "start_time": "2024-09-15T08:02:37.620426Z"
    }
   },
   "id": "60825c71ff43e0a",
   "execution_count": 10
  },
  {
   "cell_type": "code",
   "outputs": [
    {
     "name": "stdout",
     "output_type": "stream",
     "text": [
      "\n",
      "--- Logistic Regression Classifier ---\n",
      "0.25933014354066986\n",
      "[[ 0  7  0  0  0  0  0  0  0  0  0  0  0  0  0  0  0  0  0  0  0  0  0]\n",
      " [ 0  3  8  2  0  0  0  0  0  0  0  0  0  0  0  0  0  0  0  0  0  0  0]\n",
      " [ 0  6  9 18  7  0  0  0  0  0  0  0  0  0  0  0  0  0  0  0  0  0  0]\n",
      " [ 0  2  3 23 25  7  2  0  0  0  1  0  0  0  0  0  0  0  0  0  0  0  0]\n",
      " [ 0  0  2 16 45 31 18  2  0  0  0  0  0  0  0  0  0  0  0  0  0  0  0]\n",
      " [ 0  0  0  6 13 58 49 12  1  0  0  0  0  0  0  0  0  0  0  0  0  0  0]\n",
      " [ 0  0  0  0 11 28 67 41  4  0  1  0  0  0  0  0  0  0  0  0  0  0  0]\n",
      " [ 0  0  0  0  8 19 46 43 22  0  1  0  0  0  0  0  0  0  0  0  0  0  0]\n",
      " [ 0  0  0  1  5 11 34 46 21  0  2  0  1  0  0  0  0  0  0  0  0  0  0]\n",
      " [ 0  0  0  0  2  5 27 32 20  0  2  0  1  3  1  0  0  0  0  0  0  0  0]\n",
      " [ 0  0  0  0  1  2  8 19 17  0  0  1  2  1  0  0  0  0  0  0  0  0  0]\n",
      " [ 0  0  0  0  0  2  5 18  2  0  2  0  2  1  0  0  0  0  0  0  0  0  0]\n",
      " [ 0  0  0  0  0  0  2 13  4  0  2  0  1  0  0  0  0  0  0  0  0  0  0]\n",
      " [ 0  0  0  0  0  1  2  6  4  0  2  0  0  1  0  0  0  0  0  0  0  0  0]\n",
      " [ 0  0  0  0  0  0  0  4  4  0  2  0  0  1  0  0  0  1  0  0  0  0  0]\n",
      " [ 0  0  0  0  0  1  0  1  3  0  1  0  0  0  0  0  0  0  0  0  0  0  0]\n",
      " [ 0  0  0  0  0  0  0  5  4  0  0  0  0  1  0  0  0  0  0  0  0  0  0]\n",
      " [ 0  0  0  0  0  1  0  4  1  1  1  0  0  0  0  0  0  0  0  0  0  0  0]\n",
      " [ 0  0  0  0  0  0  0  0  0  1  0  0  0  1  0  0  0  0  0  0  0  0  0]\n",
      " [ 0  0  0  0  0  0  0  0  0  0  1  0  0  0  0  0  0  0  0  0  0  0  0]\n",
      " [ 0  0  0  0  0  0  0  0  0  0  1  0  0  1  0  0  0  0  0  0  0  0  0]\n",
      " [ 0  0  0  0  0  0  0  0  0  0  0  0  0  0  0  1  0  0  0  0  0  0  0]\n",
      " [ 0  0  0  0  0  0  0  0  1  0  0  0  0  0  0  0  0  0  0  0  0  0  0]]\n"
     ]
    }
   ],
   "source": [
    "# Build a logistic regression classifier and predict\n",
    "\n",
    "clf_lr = LogisticRegression(random_state=0, max_iter=1000)\n",
    "# 수렴하지 않을 경우, 기본값 iter(=100)을 늘려주면 된다.\n",
    "clf_lr.fit(X_train_scaled, y_train)\n",
    "\n",
    "pred_lr = clf_lr.predict(X_test_scaled)\n",
    "\n",
    "print (\"\\n--- Logistic Regression Classifier ---\")\n",
    "print (accuracy_score(y_test, pred_lr))\n",
    "print (confusion_matrix(y_test, pred_lr))"
   ],
   "metadata": {
    "collapsed": false,
    "ExecuteTime": {
     "end_time": "2024-09-15T08:02:40.445996Z",
     "start_time": "2024-09-15T08:02:38.750462Z"
    }
   },
   "id": "d1de6632f3befbd4",
   "execution_count": 11
  },
  {
   "cell_type": "code",
   "outputs": [
    {
     "name": "stdout",
     "output_type": "stream",
     "text": [
      "\n",
      "--- Neural Network Classifier ---\n",
      "0.2669856459330144\n",
      "[[ 0  7  0  0  0  0  0  0  0  0  0  0  0  0  0  0  0  0  0  0  0  0  0]\n",
      " [ 0  4  7  2  0  0  0  0  0  0  0  0  0  0  0  0  0  0  0  0  0  0  0]\n",
      " [ 1  9  5 18  7  0  0  0  0  0  0  0  0  0  0  0  0  0  0  0  0  0  0]\n",
      " [ 0  2  5 27 22  3  3  0  0  0  0  0  0  0  0  0  0  0  0  0  1  0  0]\n",
      " [ 0  0  4 28 44 22 12  4  0  0  0  0  0  0  0  0  0  0  0  0  0  0  0]\n",
      " [ 0  0  2  5 23 47 45 13  3  0  1  0  0  0  0  0  0  0  0  0  0  0  0]\n",
      " [ 0  0  0  0 11 31 63 31  9  3  1  2  1  0  0  0  0  0  0  0  0  0  0]\n",
      " [ 0  0  0  2  8 13 39 39 25  3  4  1  3  2  0  0  0  0  0  0  0  0  0]\n",
      " [ 0  0  0  1  7  4 28 42 31  0  6  0  0  1  1  0  0  0  0  0  0  0  0]\n",
      " [ 0  0  0  0  2  4 21 23 19  4  8  3  2  5  0  0  2  0  0  0  0  0  0]\n",
      " [ 0  0  0  0  0  1  4  9 17  5  4  1  1  3  1  3  1  0  0  0  1  0  0]\n",
      " [ 0  0  0  0  1  1  2 10  5  2  2  4  0  2  0  0  1  2  0  0  0  0  0]\n",
      " [ 0  0  0  0  0  0  3  4  2  2  4  5  1  1  0  0  0  0  0  0  0  0  0]\n",
      " [ 0  0  0  0  1  1  1  0  1  0  2  3  0  3  2  1  1  0  0  0  0  0  0]\n",
      " [ 0  0  0  0  0  0  0  2  1  0  4  2  0  1  1  1  0  0  0  0  0  0  0]\n",
      " [ 0  0  0  0  0  0  0  2  0  0  2  0  0  1  1  0  0  0  0  0  0  0  0]\n",
      " [ 0  0  0  0  0  0  1  2  4  0  1  0  0  1  0  0  0  0  1  0  0  0  0]\n",
      " [ 0  0  0  0  0  0  0  0  0  3  2  0  0  1  1  0  0  1  0  0  0  0  0]\n",
      " [ 0  0  0  0  0  0  0  0  0  0  1  0  0  0  0  1  0  0  0  0  0  0  0]\n",
      " [ 0  0  0  0  0  0  0  0  0  0  0  0  0  0  0  0  0  0  0  0  1  0  0]\n",
      " [ 0  0  0  0  0  0  0  0  0  0  0  1  0  0  0  0  0  0  0  0  1  0  0]\n",
      " [ 0  0  0  0  0  0  0  0  0  0  0  0  0  1  0  0  0  0  0  0  0  0  0]\n",
      " [ 0  0  0  0  0  0  0  0  0  0  0  0  0  1  0  0  0  0  0  0  0  0  0]]\n"
     ]
    }
   ],
   "source": [
    "clf_nn = MLPClassifier(random_state=0,max_iter=1000)\n",
    "clf_nn.fit(X_train_scaled, y_train)\n",
    "\n",
    "pred_nn = clf_nn.predict(X_test_scaled)\n",
    "\n",
    "print (\"\\n--- Neural Network Classifier ---\")\n",
    "print (accuracy_score(y_test, pred_nn))\n",
    "print (confusion_matrix(y_test, pred_nn))"
   ],
   "metadata": {
    "collapsed": false,
    "ExecuteTime": {
     "end_time": "2024-09-15T08:03:14.904753Z",
     "start_time": "2024-09-15T08:02:40.448729Z"
    }
   },
   "id": "d2379bec958af4bd",
   "execution_count": 12
  },
  {
   "cell_type": "code",
   "outputs": [
    {
     "name": "stdout",
     "output_type": "stream",
     "text": [
      "\n",
      "--- Decision Tree Classifier ---\n",
      "0.22009569377990432\n",
      "[[ 0  4  2  0  1  0  0  0  0  0  0  0  0  0  0  0  0  0  0  0  0  0  0  0]\n",
      " [ 0  4  5  3  1  0  0  0  0  0  0  0  0  0  0  0  0  0  0  0  0  0  0  0]\n",
      " [ 1  7 10 17  4  1  0  0  0  0  0  0  0  0  0  0  0  0  0  0  0  0  0  0]\n",
      " [ 0  1  8 19 18  9  4  3  0  0  0  0  0  0  0  0  0  0  0  0  1  0  0  0]\n",
      " [ 0  0  2 25 28 31 12  8  4  2  1  1  0  0  0  0  0  0  0  0  0  0  0  0]\n",
      " [ 0  0  0 10 26 48 24 15  6  3  2  3  0  2  0  0  0  0  0  0  0  0  0  0]\n",
      " [ 0  0  0  1 10 26 40 31 23 10  4  3  1  0  1  0  2  0  0  0  0  0  0  0]\n",
      " [ 0  1  0  0  3 17 29 39 22 13  4  3  3  4  0  0  1  0  0  0  0  0  0  0]\n",
      " [ 0  0  0  1  3 10 27 24 20 10 11  8  5  1  0  1  0  0  0  0  0  0  0  0]\n",
      " [ 0  0  0  1  4  6  6 18 20 10  8  5  2  5  1  3  2  1  1  0  0  0  0  0]\n",
      " [ 0  0  0  0  0  2  4  4 11  6  6  8  2  2  2  2  0  1  1  0  0  0  0  0]\n",
      " [ 0  0  0  0  2  1  5  2  4  2  3  5  1  0  1  1  0  4  0  0  0  1  0  0]\n",
      " [ 0  0  0  0  0  1  1  1  5  4  2  3  1  1  1  1  1  0  0  0  0  0  0  0]\n",
      " [ 0  0  0  0  0  1  1  2  1  1  3  2  0  0  0  2  2  1  0  0  0  0  0  0]\n",
      " [ 0  0  0  0  0  0  0  3  1  1  0  1  1  1  0  1  1  1  0  0  0  0  1  0]\n",
      " [ 0  0  0  0  0  0  0  0  1  2  0  2  0  0  0  0  0  1  0  0  0  0  0  0]\n",
      " [ 0  0  0  0  0  1  0  0  3  0  0  2  1  0  2  1  0  0  0  0  0  0  0  0]\n",
      " [ 0  0  0  0  0  0  0  0  1  1  2  1  0  1  0  1  0  0  1  0  0  0  0  0]\n",
      " [ 0  0  0  0  0  0  0  0  1  0  1  0  0  0  0  0  0  0  0  0  0  0  0  0]\n",
      " [ 0  0  0  0  0  0  0  0  0  0  0  0  0  0  0  0  1  0  0  0  0  0  0  0]\n",
      " [ 0  0  0  0  0  0  0  0  0  0  0  0  0  1  0  1  0  0  0  0  0  0  0  0]\n",
      " [ 0  0  0  0  0  0  0  0  0  1  0  0  0  0  0  0  0  0  0  0  0  0  0  0]\n",
      " [ 0  0  0  0  0  0  0  0  0  0  0  0  0  0  0  0  0  0  0  0  0  0  0  0]\n",
      " [ 0  0  0  0  0  0  0  0  0  0  0  0  0  0  0  0  0  0  1  0  0  0  0  0]]\n"
     ]
    }
   ],
   "source": [
    "# Build a decision tree classifier and predict\n",
    "\n",
    "clf_dt = DecisionTreeClassifier(random_state=0)\n",
    "clf_dt.fit(X_train_scaled, y_train)\n",
    "\n",
    "pred_dt = clf_dt.predict(X_test_scaled)\n",
    "\n",
    "print (\"\\n--- Decision Tree Classifier ---\")\n",
    "print (accuracy_score(y_test, pred_dt))\n",
    "print (confusion_matrix(y_test, pred_dt))"
   ],
   "metadata": {
    "collapsed": false,
    "ExecuteTime": {
     "end_time": "2024-09-15T08:03:14.991897Z",
     "start_time": "2024-09-15T08:03:14.910634Z"
    }
   },
   "id": "d4dc5e14debc139a",
   "execution_count": 13
  },
  {
   "cell_type": "code",
   "outputs": [
    {
     "name": "stdout",
     "output_type": "stream",
     "text": [
      "\n",
      "--- Radom Forest ---\n",
      "0.23636363636363636\n",
      "[[ 0  7  0  0  0  0  0  0  0  0  0  0  0  0  0  0  0  0  0  0  0  0  0]\n",
      " [ 0  5  5  3  0  0  0  0  0  0  0  0  0  0  0  0  0  0  0  0  0  0  0]\n",
      " [ 0  8 14 13  4  1  0  0  0  0  0  0  0  0  0  0  0  0  0  0  0  0  0]\n",
      " [ 0  1  8 23 21  8  1  0  0  0  1  0  0  0  0  0  0  0  0  0  0  0  0]\n",
      " [ 0  0  3 25 33 34 13  5  1  0  0  0  0  0  0  0  0  0  0  0  0  0  0]\n",
      " [ 0  0  3  3 28 49 34 18  2  1  0  1  0  0  0  0  0  0  0  0  0  0  0]\n",
      " [ 0  0  0  1  8 39 43 42 12  4  1  1  1  0  0  0  0  0  0  0  0  0  0]\n",
      " [ 0  0  0  2  2 14 39 38 25  6  7  1  1  3  1  0  0  0  0  0  0  0  0]\n",
      " [ 0  0  0  2  4  9 28 36 29  3  6  4  0  0  0  0  0  0  0  0  0  0  0]\n",
      " [ 0  0  0  0  2  3 19 24 23  6  8  3  1  2  1  0  1  0  0  0  0  0  0]\n",
      " [ 0  0  0  0  0  3  6 10 16  6  3  1  1  3  0  1  0  1  0  0  0  0  0]\n",
      " [ 0  0  0  0  0  0  6  7  9  1  2  2  1  0  1  0  0  3  0  0  0  0  0]\n",
      " [ 0  0  0  0  0  1  1  6  6  3  2  1  0  1  1  0  0  0  0  0  0  0  0]\n",
      " [ 0  0  0  0  1  0  1  5  2  1  1  2  0  1  1  1  0  0  0  0  0  0  0]\n",
      " [ 0  0  0  0  0  0  0  1  1  1  0  2  2  4  1  0  0  0  0  0  0  0  0]\n",
      " [ 0  0  0  0  0  0  2  1  0  1  1  0  0  0  0  0  1  0  0  0  0  0  0]\n",
      " [ 0  0  0  0  0  0  0  1  4  0  2  0  1  1  0  0  0  1  0  0  0  0  0]\n",
      " [ 0  0  0  0  0  0  1  2  0  1  1  0  2  0  1  0  0  0  0  0  0  0  0]\n",
      " [ 0  0  0  0  0  0  0  0  1  0  1  0  0  0  0  0  0  0  0  0  0  0  0]\n",
      " [ 0  0  0  0  0  0  0  0  0  1  0  0  0  0  0  0  0  0  0  0  0  0  0]\n",
      " [ 0  0  0  0  0  0  0  0  0  0  1  1  0  0  0  0  0  0  0  0  0  0  0]\n",
      " [ 0  0  0  0  0  0  0  0  0  1  0  0  0  0  0  0  0  0  0  0  0  0  0]\n",
      " [ 0  0  0  0  0  0  0  0  0  0  0  0  0  1  0  0  0  0  0  0  0  0  0]]\n"
     ]
    }
   ],
   "source": [
    "from sklearn.ensemble import RandomForestClassifier\n",
    "from sklearn.metrics import accuracy_score\n",
    "import warnings\n",
    "warnings.filterwarnings('ignore')\n",
    "\n",
    "print (\"\\n--- Radom Forest ---\")\n",
    "rf_clf = RandomForestClassifier(random_state=0)\n",
    "rf_clf.fit(X_train_scaled, y_train)\n",
    "pred = rf_clf.predict(X_test_scaled)\n",
    "print(accuracy_score(y_test,pred))\n",
    "print (confusion_matrix(y_test, pred))"
   ],
   "metadata": {
    "collapsed": false,
    "ExecuteTime": {
     "end_time": "2024-09-15T08:03:16.151716Z",
     "start_time": "2024-09-15T08:03:14.995521Z"
    }
   },
   "id": "d251991e0c426d75",
   "execution_count": 14
  },
  {
   "cell_type": "code",
   "outputs": [
    {
     "name": "stdout",
     "output_type": "stream",
     "text": [
      "Model 1:\n",
      "Accuracy: 0.22679425837320574\n",
      "Confusion Matrix:\n",
      " [[ 0  7  0  0  0  0  0  0  0  0  0  0  0  0  0  0  0  0  0  0  0  0  0]\n",
      " [ 0  6  4  3  0  0  0  0  0  0  0  0  0  0  0  0  0  0  0  0  0  0  0]\n",
      " [ 0 12 10 13  4  1  0  0  0  0  0  0  0  0  0  0  0  0  0  0  0  0  0]\n",
      " [ 0  1 11 21 22  4  3  0  0  0  1  0  0  0  0  0  0  0  0  0  0  0  0]\n",
      " [ 0  0  2 38 30 23 13  5  3  0  0  0  0  0  0  0  0  0  0  0  0  0  0]\n",
      " [ 0  0  2  7 26 51 37 12  4  0  0  0  0  0  0  0  0  0  0  0  0  0  0]\n",
      " [ 0  0  1  3 11 40 46 34 10  3  2  1  0  0  1  0  0  0  0  0  0  0  0]\n",
      " [ 0  0  0  2  4 19 42 37 19  7  4  3  2  0  0  0  0  0  0  0  0  0  0]\n",
      " [ 0  0  0  2  8 12 36 33 22  4  3  0  1  0  0  0  0  0  0  0  0  0  0]\n",
      " [ 0  0  0  0  2  9 22 30 15  5  5  0  2  1  1  0  0  1  0  0  0  0  0]\n",
      " [ 0  0  0  0  1  7 10  9  9  5  3  1  2  1  1  1  0  1  0  0  0  0  0]\n",
      " [ 0  0  0  0  0  2  4 13  8  0  2  2  0  0  1  0  0  0  0  0  0  0  0]\n",
      " [ 0  0  0  0  0  2  4  5  3  1  4  1  2  0  0  0  0  0  0  0  0  0  0]\n",
      " [ 0  0  0  0  1  0  2  4  2  2  0  1  0  2  2  0  0  0  0  0  0  0  0]\n",
      " [ 0  0  0  0  0  0  0  3  4  3  1  1  0  0  0  0  0  0  0  0  0  0  0]\n",
      " [ 0  0  0  0  0  2  1  1  1  1  0  0  0  0  0  0  0  0  0  0  0  0  0]\n",
      " [ 0  0  0  0  2  1  1  2  3  0  0  0  0  1  0  0  0  0  0  0  0  0  0]\n",
      " [ 0  0  0  0  0  0  1  1  2  1  1  1  0  0  0  1  0  0  0  0  0  0  0]\n",
      " [ 0  0  0  0  0  0  0  1  0  0  0  0  0  1  0  0  0  0  0  0  0  0  0]\n",
      " [ 0  0  0  0  0  0  0  0  0  1  0  0  0  0  0  0  0  0  0  0  0  0  0]\n",
      " [ 0  0  0  0  0  0  0  0  0  1  0  0  0  0  1  0  0  0  0  0  0  0  0]\n",
      " [ 0  0  0  0  0  0  0  0  0  0  0  0  0  1  0  0  0  0  0  0  0  0  0]\n",
      " [ 0  0  0  0  0  0  0  0  0  0  0  0  0  1  0  0  0  0  0  0  0  0  0]]\n",
      "\n",
      "\n",
      "Model 2:\n",
      "Accuracy: 0.22679425837320574\n",
      "Confusion Matrix:\n",
      " [[ 0  7  0  0  0  0  0  0  0  0  0  0  0  0  0  0  0  0  0  0  0  0  0]\n",
      " [ 0  6  4  3  0  0  0  0  0  0  0  0  0  0  0  0  0  0  0  0  0  0  0]\n",
      " [ 0 12 10 13  4  1  0  0  0  0  0  0  0  0  0  0  0  0  0  0  0  0  0]\n",
      " [ 0  1 11 21 22  4  3  0  0  0  1  0  0  0  0  0  0  0  0  0  0  0  0]\n",
      " [ 0  0  2 38 30 23 13  5  3  0  0  0  0  0  0  0  0  0  0  0  0  0  0]\n",
      " [ 0  0  2  7 26 51 37 12  4  0  0  0  0  0  0  0  0  0  0  0  0  0  0]\n",
      " [ 0  0  1  3 11 40 46 34 10  3  2  1  0  0  1  0  0  0  0  0  0  0  0]\n",
      " [ 0  0  0  2  4 19 42 37 19  7  4  3  2  0  0  0  0  0  0  0  0  0  0]\n",
      " [ 0  0  0  2  8 12 36 33 22  4  3  0  1  0  0  0  0  0  0  0  0  0  0]\n",
      " [ 0  0  0  0  2  9 22 30 15  5  5  0  2  1  1  0  0  1  0  0  0  0  0]\n",
      " [ 0  0  0  0  1  7 10  9  9  5  3  1  2  1  1  1  0  1  0  0  0  0  0]\n",
      " [ 0  0  0  0  0  2  4 13  8  0  2  2  0  0  1  0  0  0  0  0  0  0  0]\n",
      " [ 0  0  0  0  0  2  4  5  3  1  4  1  2  0  0  0  0  0  0  0  0  0  0]\n",
      " [ 0  0  0  0  1  0  2  4  2  2  0  1  0  2  2  0  0  0  0  0  0  0  0]\n",
      " [ 0  0  0  0  0  0  0  3  4  3  1  1  0  0  0  0  0  0  0  0  0  0  0]\n",
      " [ 0  0  0  0  0  2  1  1  1  1  0  0  0  0  0  0  0  0  0  0  0  0  0]\n",
      " [ 0  0  0  0  2  1  1  2  3  0  0  0  0  1  0  0  0  0  0  0  0  0  0]\n",
      " [ 0  0  0  0  0  0  1  1  2  1  1  1  0  0  0  1  0  0  0  0  0  0  0]\n",
      " [ 0  0  0  0  0  0  0  1  0  0  0  0  0  1  0  0  0  0  0  0  0  0  0]\n",
      " [ 0  0  0  0  0  0  0  0  0  1  0  0  0  0  0  0  0  0  0  0  0  0  0]\n",
      " [ 0  0  0  0  0  0  0  0  0  1  0  0  0  0  1  0  0  0  0  0  0  0  0]\n",
      " [ 0  0  0  0  0  0  0  0  0  0  0  0  0  1  0  0  0  0  0  0  0  0  0]\n",
      " [ 0  0  0  0  0  0  0  0  0  0  0  0  0  1  0  0  0  0  0  0  0  0  0]]\n",
      "\n",
      "Model 3:\n",
      "Accuracy: 0.22679425837320574\n",
      "Confusion Matrix:\n",
      " [[ 0  7  0  0  0  0  0  0  0  0  0  0  0  0  0  0  0  0  0  0  0  0  0]\n",
      " [ 0  6  4  3  0  0  0  0  0  0  0  0  0  0  0  0  0  0  0  0  0  0  0]\n",
      " [ 0 12 10 13  4  1  0  0  0  0  0  0  0  0  0  0  0  0  0  0  0  0  0]\n",
      " [ 0  1 11 21 22  4  3  0  0  0  1  0  0  0  0  0  0  0  0  0  0  0  0]\n",
      " [ 0  0  2 38 30 23 13  5  3  0  0  0  0  0  0  0  0  0  0  0  0  0  0]\n",
      " [ 0  0  2  7 26 51 37 12  4  0  0  0  0  0  0  0  0  0  0  0  0  0  0]\n",
      " [ 0  0  1  3 11 40 46 34 10  3  2  1  0  0  1  0  0  0  0  0  0  0  0]\n",
      " [ 0  0  0  2  4 19 42 37 19  7  4  3  2  0  0  0  0  0  0  0  0  0  0]\n",
      " [ 0  0  0  2  8 12 36 33 22  4  3  0  1  0  0  0  0  0  0  0  0  0  0]\n",
      " [ 0  0  0  0  2  9 22 30 15  5  5  0  2  1  1  0  0  1  0  0  0  0  0]\n",
      " [ 0  0  0  0  1  7 10  9  9  5  3  1  2  1  1  1  0  1  0  0  0  0  0]\n",
      " [ 0  0  0  0  0  2  4 13  8  0  2  2  0  0  1  0  0  0  0  0  0  0  0]\n",
      " [ 0  0  0  0  0  2  4  5  3  1  4  1  2  0  0  0  0  0  0  0  0  0  0]\n",
      " [ 0  0  0  0  1  0  2  4  2  2  0  1  0  2  2  0  0  0  0  0  0  0  0]\n",
      " [ 0  0  0  0  0  0  0  3  4  3  1  1  0  0  0  0  0  0  0  0  0  0  0]\n",
      " [ 0  0  0  0  0  2  1  1  1  1  0  0  0  0  0  0  0  0  0  0  0  0  0]\n",
      " [ 0  0  0  0  2  1  1  2  3  0  0  0  0  1  0  0  0  0  0  0  0  0  0]\n",
      " [ 0  0  0  0  0  0  1  1  2  1  1  1  0  0  0  1  0  0  0  0  0  0  0]\n",
      " [ 0  0  0  0  0  0  0  1  0  0  0  0  0  1  0  0  0  0  0  0  0  0  0]\n",
      " [ 0  0  0  0  0  0  0  0  0  1  0  0  0  0  0  0  0  0  0  0  0  0  0]\n",
      " [ 0  0  0  0  0  0  0  0  0  1  0  0  0  0  1  0  0  0  0  0  0  0  0]\n",
      " [ 0  0  0  0  0  0  0  0  0  0  0  0  0  1  0  0  0  0  0  0  0  0  0]\n",
      " [ 0  0  0  0  0  0  0  0  0  0  0  0  0  1  0  0  0  0  0  0  0  0  0]]\n",
      "\n",
      "Model 4:\n",
      "Accuracy: 0.22679425837320574\n",
      "Confusion Matrix:\n",
      " [[ 0  7  0  0  0  0  0  0  0  0  0  0  0  0  0  0  0  0  0  0  0  0  0]\n",
      " [ 0  6  4  3  0  0  0  0  0  0  0  0  0  0  0  0  0  0  0  0  0  0  0]\n",
      " [ 0 12 10 13  4  1  0  0  0  0  0  0  0  0  0  0  0  0  0  0  0  0  0]\n",
      " [ 0  1 11 21 22  4  3  0  0  0  1  0  0  0  0  0  0  0  0  0  0  0  0]\n",
      " [ 0  0  2 38 30 23 13  5  3  0  0  0  0  0  0  0  0  0  0  0  0  0  0]\n",
      " [ 0  0  2  7 26 51 37 12  4  0  0  0  0  0  0  0  0  0  0  0  0  0  0]\n",
      " [ 0  0  1  3 11 40 46 34 10  3  2  1  0  0  1  0  0  0  0  0  0  0  0]\n",
      " [ 0  0  0  2  4 19 42 37 19  7  4  3  2  0  0  0  0  0  0  0  0  0  0]\n",
      " [ 0  0  0  2  8 12 36 33 22  4  3  0  1  0  0  0  0  0  0  0  0  0  0]\n",
      " [ 0  0  0  0  2  9 22 30 15  5  5  0  2  1  1  0  0  1  0  0  0  0  0]\n",
      " [ 0  0  0  0  1  7 10  9  9  5  3  1  2  1  1  1  0  1  0  0  0  0  0]\n",
      " [ 0  0  0  0  0  2  4 13  8  0  2  2  0  0  1  0  0  0  0  0  0  0  0]\n",
      " [ 0  0  0  0  0  2  4  5  3  1  4  1  2  0  0  0  0  0  0  0  0  0  0]\n",
      " [ 0  0  0  0  1  0  2  4  2  2  0  1  0  2  2  0  0  0  0  0  0  0  0]\n",
      " [ 0  0  0  0  0  0  0  3  4  3  1  1  0  0  0  0  0  0  0  0  0  0  0]\n",
      " [ 0  0  0  0  0  2  1  1  1  1  0  0  0  0  0  0  0  0  0  0  0  0  0]\n",
      " [ 0  0  0  0  2  1  1  2  3  0  0  0  0  1  0  0  0  0  0  0  0  0  0]\n",
      " [ 0  0  0  0  0  0  1  1  2  1  1  1  0  0  0  1  0  0  0  0  0  0  0]\n",
      " [ 0  0  0  0  0  0  0  1  0  0  0  0  0  1  0  0  0  0  0  0  0  0  0]\n",
      " [ 0  0  0  0  0  0  0  0  0  1  0  0  0  0  0  0  0  0  0  0  0  0  0]\n",
      " [ 0  0  0  0  0  0  0  0  0  1  0  0  0  0  1  0  0  0  0  0  0  0  0]\n",
      " [ 0  0  0  0  0  0  0  0  0  0  0  0  0  1  0  0  0  0  0  0  0  0  0]\n",
      " [ 0  0  0  0  0  0  0  0  0  0  0  0  0  1  0  0  0  0  0  0  0  0  0]]\n",
      "\n",
      "\n",
      "Model 5:\n",
      "Accuracy: 0.22679425837320574\n",
      "Confusion Matrix:\n",
      " [[ 0  7  0  0  0  0  0  0  0  0  0  0  0  0  0  0  0  0  0  0  0  0  0]\n",
      " [ 0  6  4  3  0  0  0  0  0  0  0  0  0  0  0  0  0  0  0  0  0  0  0]\n",
      " [ 0 12 10 13  4  1  0  0  0  0  0  0  0  0  0  0  0  0  0  0  0  0  0]\n",
      " [ 0  1 11 21 22  4  3  0  0  0  1  0  0  0  0  0  0  0  0  0  0  0  0]\n",
      " [ 0  0  2 38 30 23 13  5  3  0  0  0  0  0  0  0  0  0  0  0  0  0  0]\n",
      " [ 0  0  2  7 26 51 37 12  4  0  0  0  0  0  0  0  0  0  0  0  0  0  0]\n",
      " [ 0  0  1  3 11 40 46 34 10  3  2  1  0  0  1  0  0  0  0  0  0  0  0]\n",
      " [ 0  0  0  2  4 19 42 37 19  7  4  3  2  0  0  0  0  0  0  0  0  0  0]\n",
      " [ 0  0  0  2  8 12 36 33 22  4  3  0  1  0  0  0  0  0  0  0  0  0  0]\n",
      " [ 0  0  0  0  2  9 22 30 15  5  5  0  2  1  1  0  0  1  0  0  0  0  0]\n",
      " [ 0  0  0  0  1  7 10  9  9  5  3  1  2  1  1  1  0  1  0  0  0  0  0]\n",
      " [ 0  0  0  0  0  2  4 13  8  0  2  2  0  0  1  0  0  0  0  0  0  0  0]\n",
      " [ 0  0  0  0  0  2  4  5  3  1  4  1  2  0  0  0  0  0  0  0  0  0  0]\n",
      " [ 0  0  0  0  1  0  2  4  2  2  0  1  0  2  2  0  0  0  0  0  0  0  0]\n",
      " [ 0  0  0  0  0  0  0  3  4  3  1  1  0  0  0  0  0  0  0  0  0  0  0]\n",
      " [ 0  0  0  0  0  2  1  1  1  1  0  0  0  0  0  0  0  0  0  0  0  0  0]\n",
      " [ 0  0  0  0  2  1  1  2  3  0  0  0  0  1  0  0  0  0  0  0  0  0  0]\n",
      " [ 0  0  0  0  0  0  1  1  2  1  1  1  0  0  0  1  0  0  0  0  0  0  0]\n",
      " [ 0  0  0  0  0  0  0  1  0  0  0  0  0  1  0  0  0  0  0  0  0  0  0]\n",
      " [ 0  0  0  0  0  0  0  0  0  1  0  0  0  0  0  0  0  0  0  0  0  0  0]\n",
      " [ 0  0  0  0  0  0  0  0  0  1  0  0  0  0  1  0  0  0  0  0  0  0  0]\n",
      " [ 0  0  0  0  0  0  0  0  0  0  0  0  0  1  0  0  0  0  0  0  0  0  0]\n",
      " [ 0  0  0  0  0  0  0  0  0  0  0  0  0  1  0  0  0  0  0  0  0  0  0]]\n",
      "\n"
     ]
    }
   ],
   "source": [
    "from sklearn.neighbors import KNeighborsClassifier\n",
    "from sklearn.metrics import accuracy_score, confusion_matrix\n",
    "\n",
    "# 모델 리스트 생성\n",
    "model = []\n",
    "\n",
    "# 모델을 5번 생성 및 학습\n",
    "for i in range(5):\n",
    "    model.append(KNeighborsClassifier(n_neighbors=6))\n",
    "    model[i].fit(X_train_scaled, y_train)  # X_train과 y_train에서 인덱스를 빼야 함\n",
    "\n",
    "# 예측값 저장 및 평가\n",
    "knn_preds = []\n",
    "for i in range(5):\n",
    "    knn_preds.append(model[i].predict(X_test_scaled))  # X_test도 인덱스 없이 사용\n",
    "    print(f\"Model {i+1}:\")\n",
    "    print(\"Accuracy:\", accuracy_score(y_test, knn_preds[i]))\n",
    "    print(\"Confusion Matrix:\\n\", confusion_matrix(y_test, knn_preds[i]))\n",
    "    print(\"\\n\")"
   ],
   "metadata": {
    "collapsed": false,
    "ExecuteTime": {
     "end_time": "2024-09-15T08:03:16.638381Z",
     "start_time": "2024-09-15T08:03:16.153010Z"
    }
   },
   "id": "76bfab5690e133db",
   "execution_count": 15
  }
 ],
 "metadata": {
  "kernelspec": {
   "display_name": "Python 3",
   "language": "python",
   "name": "python3"
  },
  "language_info": {
   "codemirror_mode": {
    "name": "ipython",
    "version": 2
   },
   "file_extension": ".py",
   "mimetype": "text/x-python",
   "name": "python",
   "nbconvert_exporter": "python",
   "pygments_lexer": "ipython2",
   "version": "2.7.6"
  }
 },
 "nbformat": 4,
 "nbformat_minor": 5
}
